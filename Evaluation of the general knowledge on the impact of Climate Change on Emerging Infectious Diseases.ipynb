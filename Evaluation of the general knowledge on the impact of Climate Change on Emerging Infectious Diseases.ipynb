{
 "cells": [
  {
   "cell_type": "markdown",
   "id": "577297f4",
   "metadata": {},
   "source": [
    "### This project is a group assignment carried out to evaluate the knowledge of the General Public on the Impact of Climate Change on Emerging Infectious Diseases\n",
    "\n",
    "#### The data were obtained by questionnaire sampling."
   ]
  },
  {
   "cell_type": "code",
   "execution_count": 3,
   "id": "33087bb7",
   "metadata": {},
   "outputs": [],
   "source": [
    "import pandas as pd\n",
    "import matplotlib.pyplot as plt\n",
    "import seaborn as sns\n",
    "from scipy.stats import sem\n",
    "from scipy.stats import ttest_ind\n",
    "from scipy.stats import f_oneway"
   ]
  },
  {
   "cell_type": "markdown",
   "id": "3b1f5123",
   "metadata": {},
   "source": [
    "### DATA CLEANING"
   ]
  },
  {
   "cell_type": "code",
   "execution_count": 4,
   "id": "f78b0b1a",
   "metadata": {
    "scrolled": true
   },
   "outputs": [
    {
     "data": {
      "text/html": [
       "<div>\n",
       "<style scoped>\n",
       "    .dataframe tbody tr th:only-of-type {\n",
       "        vertical-align: middle;\n",
       "    }\n",
       "\n",
       "    .dataframe tbody tr th {\n",
       "        vertical-align: top;\n",
       "    }\n",
       "\n",
       "    .dataframe thead th {\n",
       "        text-align: right;\n",
       "    }\n",
       "</style>\n",
       "<table border=\"1\" class=\"dataframe\">\n",
       "  <thead>\n",
       "    <tr style=\"text-align: right;\">\n",
       "      <th></th>\n",
       "      <th>Gender</th>\n",
       "      <th>Country</th>\n",
       "      <th>Age</th>\n",
       "      <th>Education</th>\n",
       "      <th>Background</th>\n",
       "      <th>Occupation</th>\n",
       "      <th>Field</th>\n",
       "      <th>The climate has been changing in the past years</th>\n",
       "      <th>Human activities have contributed to climate change</th>\n",
       "      <th>Which of the following are the main drivers of climate change?\\nSelect all that apply.</th>\n",
       "      <th>...</th>\n",
       "      <th>Exposure to ultraviolet (UV) lights increases the chance of getting infectious diseases.</th>\n",
       "      <th>Increases in sea level can increase the spread of infectious disease.</th>\n",
       "      <th>Exposure to the constant internet network increases the chance of getting infectious diseases.</th>\n",
       "      <th>Increase in the precipitation (rainfalls) affects the spread of infectious disease.</th>\n",
       "      <th>Changes in temperature levels affect the spread of infectious disease.</th>\n",
       "      <th>Deforestation can cause emerging diseases (newly appeared diseases or diseases that were available but are rapidly changing in incidence).</th>\n",
       "      <th>Flooding prevents the spread of infectious diseases</th>\n",
       "      <th>Changes in humidity levels can affect the spread of infectious diseases</th>\n",
       "      <th>Where do you mainly get the most common information on climate change??</th>\n",
       "      <th>If others, specify:....</th>\n",
       "    </tr>\n",
       "  </thead>\n",
       "  <tbody>\n",
       "    <tr>\n",
       "      <th>0</th>\n",
       "      <td>Male</td>\n",
       "      <td>Azerbaijan</td>\n",
       "      <td>41</td>\n",
       "      <td>PG</td>\n",
       "      <td>Veterinary</td>\n",
       "      <td>Veterinarian</td>\n",
       "      <td>Life science</td>\n",
       "      <td>True</td>\n",
       "      <td>True</td>\n",
       "      <td>Burning fossil fuels, Carbon emission</td>\n",
       "      <td>...</td>\n",
       "      <td>True</td>\n",
       "      <td>True</td>\n",
       "      <td>False</td>\n",
       "      <td>True</td>\n",
       "      <td>True</td>\n",
       "      <td>True</td>\n",
       "      <td>False</td>\n",
       "      <td>True</td>\n",
       "      <td>Internet and social media, Television programs...</td>\n",
       "      <td>NaN</td>\n",
       "    </tr>\n",
       "    <tr>\n",
       "      <th>1</th>\n",
       "      <td>Male</td>\n",
       "      <td>Azerbaijan</td>\n",
       "      <td>45</td>\n",
       "      <td>PhD</td>\n",
       "      <td>Microbiol8gy</td>\n",
       "      <td>Lectuter</td>\n",
       "      <td>Life science</td>\n",
       "      <td>True</td>\n",
       "      <td>True</td>\n",
       "      <td>Burning fossil fuels, Carbon emission, Increas...</td>\n",
       "      <td>...</td>\n",
       "      <td>False</td>\n",
       "      <td>True</td>\n",
       "      <td>False</td>\n",
       "      <td>True</td>\n",
       "      <td>I don't know</td>\n",
       "      <td>True</td>\n",
       "      <td>False</td>\n",
       "      <td>True</td>\n",
       "      <td>Internet and social media, Books and newspaper...</td>\n",
       "      <td>NaN</td>\n",
       "    </tr>\n",
       "    <tr>\n",
       "      <th>2</th>\n",
       "      <td>Female</td>\n",
       "      <td>Azerbaijan</td>\n",
       "      <td>33</td>\n",
       "      <td>Masters</td>\n",
       "      <td>Biology</td>\n",
       "      <td>Teacher</td>\n",
       "      <td>Life science</td>\n",
       "      <td>True</td>\n",
       "      <td>True</td>\n",
       "      <td>Burning fossil fuels, Carbon emission, Utiliza...</td>\n",
       "      <td>...</td>\n",
       "      <td>True</td>\n",
       "      <td>I don't know</td>\n",
       "      <td>False</td>\n",
       "      <td>True</td>\n",
       "      <td>True</td>\n",
       "      <td>True</td>\n",
       "      <td>I don't know</td>\n",
       "      <td>True</td>\n",
       "      <td>Internet and social media, Television programs...</td>\n",
       "      <td>NaN</td>\n",
       "    </tr>\n",
       "    <tr>\n",
       "      <th>3</th>\n",
       "      <td>Male</td>\n",
       "      <td>Azerbaijan</td>\n",
       "      <td>29</td>\n",
       "      <td>Masters</td>\n",
       "      <td>Microbiology</td>\n",
       "      <td>Researcher</td>\n",
       "      <td>Life science</td>\n",
       "      <td>True</td>\n",
       "      <td>True</td>\n",
       "      <td>Carbon emission</td>\n",
       "      <td>...</td>\n",
       "      <td>True</td>\n",
       "      <td>True</td>\n",
       "      <td>I don't know</td>\n",
       "      <td>True</td>\n",
       "      <td>True</td>\n",
       "      <td>True</td>\n",
       "      <td>True</td>\n",
       "      <td>True</td>\n",
       "      <td>Internet and social media, Educational program...</td>\n",
       "      <td>NaN</td>\n",
       "    </tr>\n",
       "    <tr>\n",
       "      <th>4</th>\n",
       "      <td>Female</td>\n",
       "      <td>Bangladesh</td>\n",
       "      <td>27</td>\n",
       "      <td>Masters</td>\n",
       "      <td>Biology</td>\n",
       "      <td>Student</td>\n",
       "      <td>Life science</td>\n",
       "      <td>True</td>\n",
       "      <td>True</td>\n",
       "      <td>Burning fossil fuels, Carbon emission, Increas...</td>\n",
       "      <td>...</td>\n",
       "      <td>False</td>\n",
       "      <td>I don't know</td>\n",
       "      <td>False</td>\n",
       "      <td>I don't know</td>\n",
       "      <td>True</td>\n",
       "      <td>True</td>\n",
       "      <td>False</td>\n",
       "      <td>True</td>\n",
       "      <td>Internet and social media, Television programs...</td>\n",
       "      <td>NaN</td>\n",
       "    </tr>\n",
       "  </tbody>\n",
       "</table>\n",
       "<p>5 rows × 26 columns</p>\n",
       "</div>"
      ],
      "text/plain": [
       "   Gender      Country  Age Education    Background    Occupation  \\\n",
       "0    Male   Azerbaijan   41        PG    Veterinary  Veterinarian   \n",
       "1    Male   Azerbaijan   45       PhD  Microbiol8gy      Lectuter   \n",
       "2  Female   Azerbaijan   33   Masters       Biology       Teacher   \n",
       "3    Male   Azerbaijan   29   Masters  Microbiology    Researcher   \n",
       "4  Female  Bangladesh    27   Masters      Biology       Student    \n",
       "\n",
       "          Field The climate has been changing in the past years  \\\n",
       "0  Life science                                            True   \n",
       "1  Life science                                            True   \n",
       "2  Life science                                            True   \n",
       "3  Life science                                            True   \n",
       "4  Life science                                            True   \n",
       "\n",
       "   Human activities have contributed to climate change  \\\n",
       "0                                               True     \n",
       "1                                               True     \n",
       "2                                               True     \n",
       "3                                               True     \n",
       "4                                               True     \n",
       "\n",
       "  Which of the following are the main drivers of climate change?\\nSelect all that apply.  \\\n",
       "0              Burning fossil fuels, Carbon emission                                       \n",
       "1  Burning fossil fuels, Carbon emission, Increas...                                       \n",
       "2  Burning fossil fuels, Carbon emission, Utiliza...                                       \n",
       "3                                    Carbon emission                                       \n",
       "4  Burning fossil fuels, Carbon emission, Increas...                                       \n",
       "\n",
       "   ...  \\\n",
       "0  ...   \n",
       "1  ...   \n",
       "2  ...   \n",
       "3  ...   \n",
       "4  ...   \n",
       "\n",
       "  Exposure to ultraviolet (UV) lights increases the chance of getting infectious diseases.   \\\n",
       "0                                               True                                          \n",
       "1                                              False                                          \n",
       "2                                               True                                          \n",
       "3                                               True                                          \n",
       "4                                              False                                          \n",
       "\n",
       "  Increases in sea level can increase the spread of infectious disease.  \\\n",
       "0                                               True                      \n",
       "1                                               True                      \n",
       "2                                       I don't know                      \n",
       "3                                               True                      \n",
       "4                                       I don't know                      \n",
       "\n",
       "  Exposure to the constant internet network increases the chance of getting infectious diseases.  \\\n",
       "0                                              False                                               \n",
       "1                                              False                                               \n",
       "2                                              False                                               \n",
       "3                                       I don't know                                               \n",
       "4                                              False                                               \n",
       "\n",
       "  Increase in the precipitation (rainfalls) affects the spread of infectious disease.  \\\n",
       "0                                               True                                    \n",
       "1                                               True                                    \n",
       "2                                               True                                    \n",
       "3                                               True                                    \n",
       "4                                       I don't know                                    \n",
       "\n",
       "  Changes in temperature levels affect the spread of infectious disease.  \\\n",
       "0                                               True                       \n",
       "1                                       I don't know                       \n",
       "2                                               True                       \n",
       "3                                               True                       \n",
       "4                                               True                       \n",
       "\n",
       "  Deforestation can cause emerging diseases (newly appeared diseases or diseases that were available but are rapidly changing in incidence).   \\\n",
       "0                                               True                                                                                            \n",
       "1                                               True                                                                                            \n",
       "2                                               True                                                                                            \n",
       "3                                               True                                                                                            \n",
       "4                                               True                                                                                            \n",
       "\n",
       "  Flooding prevents the spread of infectious diseases  \\\n",
       "0                                              False    \n",
       "1                                              False    \n",
       "2                                       I don't know    \n",
       "3                                               True    \n",
       "4                                              False    \n",
       "\n",
       "  Changes in humidity levels can affect the spread of infectious diseases  \\\n",
       "0                                               True                        \n",
       "1                                               True                        \n",
       "2                                               True                        \n",
       "3                                               True                        \n",
       "4                                               True                        \n",
       "\n",
       "  Where do you mainly get the most common information on climate change??  \\\n",
       "0  Internet and social media, Television programs...                        \n",
       "1  Internet and social media, Books and newspaper...                        \n",
       "2  Internet and social media, Television programs...                        \n",
       "3  Internet and social media, Educational program...                        \n",
       "4  Internet and social media, Television programs...                        \n",
       "\n",
       "  If others, specify:....  \n",
       "0                     NaN  \n",
       "1                     NaN  \n",
       "2                     NaN  \n",
       "3                     NaN  \n",
       "4                     NaN  \n",
       "\n",
       "[5 rows x 26 columns]"
      ]
     },
     "execution_count": 4,
     "metadata": {},
     "output_type": "execute_result"
    }
   ],
   "source": [
    "df=pd.read_excel(\"Survey.xlsx\")\n",
    "\n",
    "df.head()"
   ]
  },
  {
   "cell_type": "markdown",
   "id": "8e0c2e9d",
   "metadata": {},
   "source": [
    "##### Rename the columns to become more readable"
   ]
  },
  {
   "cell_type": "code",
   "execution_count": 5,
   "id": "aac9ec94",
   "metadata": {},
   "outputs": [
    {
     "data": {
      "text/plain": [
       "Index(['Gender', 'Country', 'Age', 'Education', 'Background', 'Occupation',\n",
       "       'Field', 'The climate has been changing in the past years',\n",
       "       ' Human activities have contributed to climate change',\n",
       "       'Which of the following are the main drivers of climate change?\\nSelect all that apply.',\n",
       "       'What are the effects of climate change?\\nSelect all that apply.',\n",
       "       'Which of the following are infectious diseases?\\nSelect all that apply',\n",
       "       'Which of the the following diseases outbreaks you have heard about\\nSelect all that apply',\n",
       "       'What risk factors are associated with getting an infectious disease?\\nSelect all that apply',\n",
       "       'Disease transmission can occur via:\\nSelect all that apply',\n",
       "       'The emergence of infectious diseases can be linked to the climate change.',\n",
       "       'Exposure to ultraviolet (UV) lights increases the chance of getting infectious diseases. ',\n",
       "       'Increases in sea level can increase the spread of infectious disease.',\n",
       "       'Exposure to the constant internet network increases the chance of getting infectious diseases.',\n",
       "       'Increase in the precipitation (rainfalls) affects the spread of infectious disease.',\n",
       "       'Changes in temperature levels affect the spread of infectious disease.',\n",
       "       'Deforestation can cause emerging diseases (newly appeared diseases or diseases that were available but are rapidly changing in incidence). ',\n",
       "       'Flooding prevents the spread of infectious diseases',\n",
       "       'Changes in humidity levels can affect the spread of infectious diseases',\n",
       "       'Where do you mainly get the most common information on climate change??',\n",
       "       'If others, specify:....'],\n",
       "      dtype='object')"
      ]
     },
     "execution_count": 5,
     "metadata": {},
     "output_type": "execute_result"
    }
   ],
   "source": [
    "df.columns"
   ]
  },
  {
   "cell_type": "code",
   "execution_count": 6,
   "id": "b30e0c1b",
   "metadata": {},
   "outputs": [],
   "source": [
    "df.rename(columns={\"The climate has been changing in the past years\":\"Q1\",\n",
    "                  ' Human activities have contributed to climate change':\"Q2\",\n",
    "                  'Which of the following are the main drivers of climate change?\\nSelect all that apply.':\"Q3\",\n",
    "                  'What are the effects of climate change?\\nSelect all that apply.':\"Q4\",\n",
    "                  'Which of the following are infectious diseases?\\nSelect all that apply':'Q5',\n",
    "                  'Which of the the following diseases outbreaks you have heard about\\nSelect all that apply':'Q6',\n",
    "                  'What risk factors are associated with getting an infectious disease?\\nSelect all that apply':\"Q7\",\n",
    "                  \"Disease transmission can occur via:\\nSelect all that apply\":\"Q8\",\n",
    "                  \"The emergence of infectious diseases can be linked to the climate change.\":'Q9',\n",
    "                  'Exposure to ultraviolet (UV) lights increases the chance of getting infectious diseases. ':\"Q10\",\n",
    "                  'Increases in sea level can increase the spread of infectious disease.':\"Q11\",\n",
    "                  'Exposure to the constant internet network increases the chance of getting infectious diseases.':\"Q12\",\n",
    "                  'Increase in the precipitation (rainfalls) affects the spread of infectious disease.':\"Q13\",\n",
    "                  'Changes in temperature levels affect the spread of infectious disease.':\"Q14\",\n",
    "                  'Deforestation can cause emerging diseases (newly appeared diseases or diseases that were available but are rapidly changing in incidence). ':\"Q15\",\n",
    "                  'Flooding prevents the spread of infectious diseases':\"Q16\",\n",
    "                  'Changes in humidity levels can affect the spread of infectious diseases':\"Q17\",\n",
    "                  'Where do you mainly get the most common information on climate change??':'Q18',\n",
    "                  'If others, specify:....':'Q19'},inplace=True)"
   ]
  },
  {
   "cell_type": "code",
   "execution_count": 7,
   "id": "42b4ee76",
   "metadata": {},
   "outputs": [
    {
     "data": {
      "text/html": [
       "<div>\n",
       "<style scoped>\n",
       "    .dataframe tbody tr th:only-of-type {\n",
       "        vertical-align: middle;\n",
       "    }\n",
       "\n",
       "    .dataframe tbody tr th {\n",
       "        vertical-align: top;\n",
       "    }\n",
       "\n",
       "    .dataframe thead th {\n",
       "        text-align: right;\n",
       "    }\n",
       "</style>\n",
       "<table border=\"1\" class=\"dataframe\">\n",
       "  <thead>\n",
       "    <tr style=\"text-align: right;\">\n",
       "      <th></th>\n",
       "      <th>Gender</th>\n",
       "      <th>Country</th>\n",
       "      <th>Age</th>\n",
       "      <th>Education</th>\n",
       "      <th>Background</th>\n",
       "      <th>Occupation</th>\n",
       "      <th>Field</th>\n",
       "      <th>Q1</th>\n",
       "      <th>Q2</th>\n",
       "      <th>Q3</th>\n",
       "      <th>...</th>\n",
       "      <th>Q10</th>\n",
       "      <th>Q11</th>\n",
       "      <th>Q12</th>\n",
       "      <th>Q13</th>\n",
       "      <th>Q14</th>\n",
       "      <th>Q15</th>\n",
       "      <th>Q16</th>\n",
       "      <th>Q17</th>\n",
       "      <th>Q18</th>\n",
       "      <th>Q19</th>\n",
       "    </tr>\n",
       "  </thead>\n",
       "  <tbody>\n",
       "    <tr>\n",
       "      <th>0</th>\n",
       "      <td>Male</td>\n",
       "      <td>Azerbaijan</td>\n",
       "      <td>41</td>\n",
       "      <td>PG</td>\n",
       "      <td>Veterinary</td>\n",
       "      <td>Veterinarian</td>\n",
       "      <td>Life science</td>\n",
       "      <td>True</td>\n",
       "      <td>True</td>\n",
       "      <td>Burning fossil fuels, Carbon emission</td>\n",
       "      <td>...</td>\n",
       "      <td>True</td>\n",
       "      <td>True</td>\n",
       "      <td>False</td>\n",
       "      <td>True</td>\n",
       "      <td>True</td>\n",
       "      <td>True</td>\n",
       "      <td>False</td>\n",
       "      <td>True</td>\n",
       "      <td>Internet and social media, Television programs...</td>\n",
       "      <td>NaN</td>\n",
       "    </tr>\n",
       "    <tr>\n",
       "      <th>1</th>\n",
       "      <td>Male</td>\n",
       "      <td>Azerbaijan</td>\n",
       "      <td>45</td>\n",
       "      <td>PhD</td>\n",
       "      <td>Microbiol8gy</td>\n",
       "      <td>Lectuter</td>\n",
       "      <td>Life science</td>\n",
       "      <td>True</td>\n",
       "      <td>True</td>\n",
       "      <td>Burning fossil fuels, Carbon emission, Increas...</td>\n",
       "      <td>...</td>\n",
       "      <td>False</td>\n",
       "      <td>True</td>\n",
       "      <td>False</td>\n",
       "      <td>True</td>\n",
       "      <td>I don't know</td>\n",
       "      <td>True</td>\n",
       "      <td>False</td>\n",
       "      <td>True</td>\n",
       "      <td>Internet and social media, Books and newspaper...</td>\n",
       "      <td>NaN</td>\n",
       "    </tr>\n",
       "    <tr>\n",
       "      <th>2</th>\n",
       "      <td>Female</td>\n",
       "      <td>Azerbaijan</td>\n",
       "      <td>33</td>\n",
       "      <td>Masters</td>\n",
       "      <td>Biology</td>\n",
       "      <td>Teacher</td>\n",
       "      <td>Life science</td>\n",
       "      <td>True</td>\n",
       "      <td>True</td>\n",
       "      <td>Burning fossil fuels, Carbon emission, Utiliza...</td>\n",
       "      <td>...</td>\n",
       "      <td>True</td>\n",
       "      <td>I don't know</td>\n",
       "      <td>False</td>\n",
       "      <td>True</td>\n",
       "      <td>True</td>\n",
       "      <td>True</td>\n",
       "      <td>I don't know</td>\n",
       "      <td>True</td>\n",
       "      <td>Internet and social media, Television programs...</td>\n",
       "      <td>NaN</td>\n",
       "    </tr>\n",
       "    <tr>\n",
       "      <th>3</th>\n",
       "      <td>Male</td>\n",
       "      <td>Azerbaijan</td>\n",
       "      <td>29</td>\n",
       "      <td>Masters</td>\n",
       "      <td>Microbiology</td>\n",
       "      <td>Researcher</td>\n",
       "      <td>Life science</td>\n",
       "      <td>True</td>\n",
       "      <td>True</td>\n",
       "      <td>Carbon emission</td>\n",
       "      <td>...</td>\n",
       "      <td>True</td>\n",
       "      <td>True</td>\n",
       "      <td>I don't know</td>\n",
       "      <td>True</td>\n",
       "      <td>True</td>\n",
       "      <td>True</td>\n",
       "      <td>True</td>\n",
       "      <td>True</td>\n",
       "      <td>Internet and social media, Educational program...</td>\n",
       "      <td>NaN</td>\n",
       "    </tr>\n",
       "    <tr>\n",
       "      <th>4</th>\n",
       "      <td>Female</td>\n",
       "      <td>Bangladesh</td>\n",
       "      <td>27</td>\n",
       "      <td>Masters</td>\n",
       "      <td>Biology</td>\n",
       "      <td>Student</td>\n",
       "      <td>Life science</td>\n",
       "      <td>True</td>\n",
       "      <td>True</td>\n",
       "      <td>Burning fossil fuels, Carbon emission, Increas...</td>\n",
       "      <td>...</td>\n",
       "      <td>False</td>\n",
       "      <td>I don't know</td>\n",
       "      <td>False</td>\n",
       "      <td>I don't know</td>\n",
       "      <td>True</td>\n",
       "      <td>True</td>\n",
       "      <td>False</td>\n",
       "      <td>True</td>\n",
       "      <td>Internet and social media, Television programs...</td>\n",
       "      <td>NaN</td>\n",
       "    </tr>\n",
       "  </tbody>\n",
       "</table>\n",
       "<p>5 rows × 26 columns</p>\n",
       "</div>"
      ],
      "text/plain": [
       "   Gender      Country  Age Education    Background    Occupation  \\\n",
       "0    Male   Azerbaijan   41        PG    Veterinary  Veterinarian   \n",
       "1    Male   Azerbaijan   45       PhD  Microbiol8gy      Lectuter   \n",
       "2  Female   Azerbaijan   33   Masters       Biology       Teacher   \n",
       "3    Male   Azerbaijan   29   Masters  Microbiology    Researcher   \n",
       "4  Female  Bangladesh    27   Masters      Biology       Student    \n",
       "\n",
       "          Field    Q1    Q2  \\\n",
       "0  Life science  True  True   \n",
       "1  Life science  True  True   \n",
       "2  Life science  True  True   \n",
       "3  Life science  True  True   \n",
       "4  Life science  True  True   \n",
       "\n",
       "                                                  Q3  ...    Q10  \\\n",
       "0              Burning fossil fuels, Carbon emission  ...   True   \n",
       "1  Burning fossil fuels, Carbon emission, Increas...  ...  False   \n",
       "2  Burning fossil fuels, Carbon emission, Utiliza...  ...   True   \n",
       "3                                    Carbon emission  ...   True   \n",
       "4  Burning fossil fuels, Carbon emission, Increas...  ...  False   \n",
       "\n",
       "            Q11           Q12           Q13           Q14   Q15           Q16  \\\n",
       "0          True         False          True          True  True         False   \n",
       "1          True         False          True  I don't know  True         False   \n",
       "2  I don't know         False          True          True  True  I don't know   \n",
       "3          True  I don't know          True          True  True          True   \n",
       "4  I don't know         False  I don't know          True  True         False   \n",
       "\n",
       "    Q17                                                Q18  Q19  \n",
       "0  True  Internet and social media, Television programs...  NaN  \n",
       "1  True  Internet and social media, Books and newspaper...  NaN  \n",
       "2  True  Internet and social media, Television programs...  NaN  \n",
       "3  True  Internet and social media, Educational program...  NaN  \n",
       "4  True  Internet and social media, Television programs...  NaN  \n",
       "\n",
       "[5 rows x 26 columns]"
      ]
     },
     "execution_count": 7,
     "metadata": {},
     "output_type": "execute_result"
    }
   ],
   "source": [
    "df.head()"
   ]
  },
  {
   "cell_type": "code",
   "execution_count": 8,
   "id": "232ce8d5",
   "metadata": {},
   "outputs": [
    {
     "data": {
      "text/plain": [
       "Gender          0\n",
       "Country         0\n",
       "Age             0\n",
       "Education       0\n",
       "Background      0\n",
       "Occupation      0\n",
       "Field           1\n",
       "Q1              0\n",
       "Q2              0\n",
       "Q3              0\n",
       "Q4              0\n",
       "Q5              0\n",
       "Q6              0\n",
       "Q7              0\n",
       "Q8              0\n",
       "Q9              0\n",
       "Q10             0\n",
       "Q11             0\n",
       "Q12             0\n",
       "Q13             0\n",
       "Q14             0\n",
       "Q15             0\n",
       "Q16             0\n",
       "Q17             0\n",
       "Q18             0\n",
       "Q19           225\n",
       "dtype: int64"
      ]
     },
     "execution_count": 8,
     "metadata": {},
     "output_type": "execute_result"
    }
   ],
   "source": [
    "#checking the dataframe for null values\n",
    "df.isna().sum()\n",
    "#only one row in Field has a null value, dropping it"
   ]
  },
  {
   "cell_type": "code",
   "execution_count": 9,
   "id": "80353761",
   "metadata": {},
   "outputs": [],
   "source": [
    "df.drop(231,inplace=True)"
   ]
  },
  {
   "cell_type": "code",
   "execution_count": 10,
   "id": "7e4d1902",
   "metadata": {},
   "outputs": [
    {
     "data": {
      "text/plain": [
       "array(['Azerbaijan', 'Bangladesh ', 'Eritrea', 'Ethiopia', 'Finland ',\n",
       "       'Germany', 'Ireland ', 'Italy', 'Italy ', 'Kenya ', 'Kenya',\n",
       "       'Nepal', 'Netherlands', 'Nigeria', 'Russia', 'South African ',\n",
       "       'Spain', 'Tanzania', 'Turkey', 'Uganda', 'USA ', 'Bolivia',\n",
       "       'France', 'Germany ', 'Pakistan ', 'Rwanda', 'United Kingdom',\n",
       "       'United Kingdom '], dtype=object)"
      ]
     },
     "execution_count": 10,
     "metadata": {},
     "output_type": "execute_result"
    }
   ],
   "source": [
    "#cleaning the country column\n",
    "df.Country.unique()"
   ]
  },
  {
   "cell_type": "code",
   "execution_count": 11,
   "id": "bbf4fdcb",
   "metadata": {},
   "outputs": [],
   "source": [
    "df[\"Country\"]=df[\"Country\"].str.strip()"
   ]
  },
  {
   "cell_type": "code",
   "execution_count": 12,
   "id": "9dcddffa",
   "metadata": {},
   "outputs": [],
   "source": [
    "df['Country']=df[\"Country\"].replace({\"South African\":\"South Africa\"})"
   ]
  },
  {
   "cell_type": "code",
   "execution_count": 13,
   "id": "cc086f21",
   "metadata": {},
   "outputs": [
    {
     "data": {
      "text/plain": [
       "array(['Azerbaijan', 'Bangladesh', 'Eritrea', 'Ethiopia', 'Finland',\n",
       "       'Germany', 'Ireland', 'Italy', 'Kenya', 'Nepal', 'Netherlands',\n",
       "       'Nigeria', 'Russia', 'South Africa', 'Spain', 'Tanzania', 'Turkey',\n",
       "       'Uganda', 'USA', 'Bolivia', 'France', 'Pakistan', 'Rwanda',\n",
       "       'United Kingdom'], dtype=object)"
      ]
     },
     "execution_count": 13,
     "metadata": {},
     "output_type": "execute_result"
    }
   ],
   "source": [
    "df[\"Country\"].unique()"
   ]
  },
  {
   "cell_type": "code",
   "execution_count": 14,
   "id": "dc2cc7bb",
   "metadata": {},
   "outputs": [
    {
     "data": {
      "text/plain": [
       "array(['PG', 'PhD', 'Masters', 'Bachelors', 'MD', 'Intern', 'High School',\n",
       "       'HND', 'Diploma', 'Diploma ', 'DIPLOMA ', 'Certificate '],\n",
       "      dtype=object)"
      ]
     },
     "execution_count": 14,
     "metadata": {},
     "output_type": "execute_result"
    }
   ],
   "source": [
    "df[\"Education\"].unique()"
   ]
  },
  {
   "cell_type": "code",
   "execution_count": 15,
   "id": "38b3c7f0",
   "metadata": {},
   "outputs": [],
   "source": [
    "#for the sake of analysis, we split the Educational level into; Post-Graduate, Undergraduate and Others\n",
    "#Post-Graduate: PG, PhD, Masters\n",
    "#Bachelors: Bachelors, MD, HND, Diploma, Certificate\n",
    "#Others: Intern, High School\n",
    "\n",
    "def education (df):\n",
    "    if \"PG\" in df:\n",
    "        return (\"Post-Graduate\")\n",
    "    elif \"PhD\" in df:\n",
    "        return (\"Post-Graduate\")\n",
    "    elif \"Masters\" in df:\n",
    "        return (\"Post-Graduate\")\n",
    "    elif \"Bachelors\" in df:\n",
    "        return (\"Bachelors\")\n",
    "    elif \"MD\" in df:\n",
    "        return (\"Bachelors\")\n",
    "    elif \"Intern\" in df:\n",
    "        return (\"Others\")\n",
    "    elif \"High School\" in df:\n",
    "        return (\"Others\")\n",
    "    elif \"HND\" in df:\n",
    "        return (\"Bachelors\")\n",
    "    elif \"Diploma\" in df:\n",
    "        return (\"Bachelors\")\n",
    "    elif \"Diploma \" in df:\n",
    "        return (\"Bachelors\")\n",
    "    elif \"DIPLOMA\" in df:\n",
    "        return (\"Bachelors\")\n",
    "    elif \"Certificate \" in df:\n",
    "        return (\"Others\")\n",
    "df[\"Education\"]=df[\"Education\"].map(education)"
   ]
  },
  {
   "cell_type": "code",
   "execution_count": 16,
   "id": "ec8da617",
   "metadata": {},
   "outputs": [
    {
     "data": {
      "text/plain": [
       "Bachelors        153\n",
       "Post-Graduate     69\n",
       "Others             9\n",
       "Name: Education, dtype: int64"
      ]
     },
     "execution_count": 16,
     "metadata": {},
     "output_type": "execute_result"
    }
   ],
   "source": [
    "df[\"Education\"].value_counts()"
   ]
  },
  {
   "cell_type": "code",
   "execution_count": 17,
   "id": "3db756f6",
   "metadata": {},
   "outputs": [],
   "source": [
    "#since most of the responses are true or false, we decided to convert to str so we can compute the scores "
   ]
  },
  {
   "cell_type": "code",
   "execution_count": 18,
   "id": "5f0aba0e",
   "metadata": {},
   "outputs": [],
   "source": [
    "df.iloc[:,7:]=df.iloc[:,7:].astype(str)"
   ]
  },
  {
   "cell_type": "markdown",
   "id": "d1cbbe5b",
   "metadata": {},
   "source": [
    "#### Score Guide:\n",
    "##### For every correct answer, each respondents gets +1 and -0.5 if he selects the wrong answer or does not pick the right answer.\n",
    "##### Where the respondents picks \"I don't Know\", he gets 0 and is not penalized"
   ]
  },
  {
   "cell_type": "code",
   "execution_count": 19,
   "id": "8f8db7ed",
   "metadata": {},
   "outputs": [],
   "source": [
    "# Define the function to code \"True\" as 1, \"False\" as -0.5, and \"I don't know\" as 0\n",
    "\n",
    "def coding (df):\n",
    "    if \"True\" in df:\n",
    "        return (1)\n",
    "    elif \"False\" in df:\n",
    "        return (-0.5)\n",
    "    else:\n",
    "        return (0)"
   ]
  },
  {
   "cell_type": "code",
   "execution_count": 20,
   "id": "7a680adc",
   "metadata": {},
   "outputs": [],
   "source": [
    "df[\"Q1\"]=df[\"Q1\"].map(coding)"
   ]
  },
  {
   "cell_type": "code",
   "execution_count": 21,
   "id": "9770efd1",
   "metadata": {},
   "outputs": [],
   "source": [
    "df[\"Q2\"]=df[\"Q2\"].map(coding)"
   ]
  },
  {
   "cell_type": "code",
   "execution_count": 22,
   "id": "8490e3b2",
   "metadata": {},
   "outputs": [],
   "source": [
    "#Q3 is involves selecting multiple options, for every right option selected,he scores +1 or -0.5 for every wrong choice\n",
    "# or no right choice selected"
   ]
  },
  {
   "cell_type": "code",
   "execution_count": 23,
   "id": "0db04a8b",
   "metadata": {},
   "outputs": [],
   "source": [
    "# to score the responses to Q3\n",
    "def scoring (df):\n",
    "    answer=0\n",
    "    if \"Burning fossil fuels\" in df:\n",
    "        answer+=1\n",
    "    elif \"Burning fossil fuels\" not in df:\n",
    "        answer-=0.5\n",
    "    if \"Carbon emission\" in df:\n",
    "        answer+=1\n",
    "    elif \"Carbon emission\" not in df:\n",
    "        answer-=0.5\n",
    "    if \"Increase in animal biodiversity\" in df:\n",
    "        answer-=0.5\n",
    "    elif \"Increase in animal biodiversity\" not in df:\n",
    "        answer+=1\n",
    "    if \"Farming of livestock\" in df:\n",
    "        answer+=1\n",
    "    elif \"Farming of livestock\" not in df:\n",
    "        answer-=0.5\n",
    "    if \"Use of solar panels\" in df:\n",
    "        answer -=0.5\n",
    "    elif \"Use of solar panels\" not in df:\n",
    "        answer+=1\n",
    "    if \"Utilization of automobiles\" in df:\n",
    "        answer+=1\n",
    "    elif \"Utilization of automobiles\" not in df:\n",
    "        answer-=0.5\n",
    "    return answer"
   ]
  },
  {
   "cell_type": "code",
   "execution_count": 24,
   "id": "9d663a49",
   "metadata": {},
   "outputs": [],
   "source": [
    "df[\"Q3\"]=df[\"Q3\"].map(scoring)"
   ]
  },
  {
   "cell_type": "code",
   "execution_count": 25,
   "id": "c4ae4aab",
   "metadata": {},
   "outputs": [],
   "source": [
    "#to score the responses for Q4\n",
    "def scoring_4 (df):\n",
    "    answer=0\n",
    "    if \"Melting of ices\" in df:\n",
    "        answer+=1\n",
    "    elif \"Melting of ices\" not in df:\n",
    "        answer-=0.5\n",
    "    if \"Increase in flooding\" in df:\n",
    "        answer+=1\n",
    "    elif \"Increase in flooding\" not in df:\n",
    "        answer-=0.5\n",
    "    if \"Urbanization\" in df:\n",
    "        answer-=0.5\n",
    "    elif \"Urbanization\" not in df:\n",
    "        answer+=1\n",
    "    if \"Increase of forest fires\" in df:\n",
    "        answer+=1\n",
    "    elif \"Increase of forest fires\" not in df:\n",
    "        answer-=0.5\n",
    "    if \"Increase of human welfare\" in df:\n",
    "        answer-=0.5\n",
    "    elif \"Increase of human welfare\" not in df:\n",
    "        answer+=1\n",
    "    if \"Greenhouse effect\" in df:\n",
    "        answer+=1\n",
    "    elif \"Greenhouse effect\" not in df:\n",
    "        answer-=0.5\n",
    "    return answer"
   ]
  },
  {
   "cell_type": "code",
   "execution_count": 26,
   "id": "f421c2c5",
   "metadata": {},
   "outputs": [],
   "source": [
    "df[\"Q4\"]=df[\"Q4\"].map(scoring_4)"
   ]
  },
  {
   "cell_type": "code",
   "execution_count": 27,
   "id": "46e34e0d",
   "metadata": {},
   "outputs": [],
   "source": [
    "#to score the responses for Q5\n",
    "def scoring_5 (df):\n",
    "    answer=0\n",
    "    if \"Asthma\" in df:\n",
    "        answer-=0.5\n",
    "    elif \"Asthma\" not in df:\n",
    "        answer+=1\n",
    "    if \"Diabetes\" in df:\n",
    "        answer-=0.5\n",
    "    elif \"Diabetes\" not in df:\n",
    "        answer+=1\n",
    "    if \"Human Immunodeficiency Virus (HIV)\" in df:\n",
    "        answer+=1\n",
    "    elif \"Human Immunodeficiency Virus (HIV)\" not in df:\n",
    "        answer-=0.5\n",
    "    if \"Lyme disease\" in df:\n",
    "        answer+=1\n",
    "    elif \"Lyme disease\" not in df:\n",
    "        answer-=0.5\n",
    "    if \"Malaria\" in df:\n",
    "        answer+=1\n",
    "    elif \"Malaria\" not in df:\n",
    "        answer-=0.5\n",
    "    if \"Obesity\" in df:\n",
    "        answer-=0.5\n",
    "    elif \"Obesity\" not in df:\n",
    "        answer+=1\n",
    "    if \"Parkinson's disease\" in df:\n",
    "        answer-=0.5\n",
    "    elif \"Parkinson's disease\" not in df:\n",
    "        answer+=1\n",
    "    if \"Tuberculosis\" in df:\n",
    "        answer+=1\n",
    "    elif \"Tuberculosis\" not in df:\n",
    "        answer-=0.5\n",
    "    return answer"
   ]
  },
  {
   "cell_type": "code",
   "execution_count": 28,
   "id": "752997e4",
   "metadata": {},
   "outputs": [],
   "source": [
    "df[\"Q5\"]=df[\"Q5\"].map(scoring_5)"
   ]
  },
  {
   "cell_type": "code",
   "execution_count": 29,
   "id": "bf198186",
   "metadata": {},
   "outputs": [],
   "source": [
    "#we leave question 6 for analysis"
   ]
  },
  {
   "cell_type": "code",
   "execution_count": 30,
   "id": "bc6b12da",
   "metadata": {},
   "outputs": [],
   "source": [
    "#to score the responses for Q7\n",
    "def scoring_7 (df):\n",
    "    answer=0\n",
    "    if \"Insect bites\" in df:\n",
    "        answer+=1\n",
    "    elif \"Insect bites\" not in df:\n",
    "        answer-=0.5\n",
    "    if \"Dog bites\" in df:\n",
    "        answer+=1\n",
    "    elif \"Dog bites\" not in df:\n",
    "        answer-=0.5\n",
    "    if \"Smoking\" in df:\n",
    "        answer-=0.5\n",
    "    elif \"Smoking\" not in df:\n",
    "        answer+=1\n",
    "    if \"Drinking unclean water\" in df:\n",
    "        answer+=1\n",
    "    elif \"Drinking unclean water\" not in df:\n",
    "        answer-=0.5\n",
    "    if \"Eating undercooked food\" in df:\n",
    "        answer+=1\n",
    "    elif \"Eating undercooked food\" not in df:\n",
    "        answer-=0.5\n",
    "    if \"Not washing your hands often\" in df:\n",
    "        answer+=1\n",
    "    elif \"Not washing your hands often\" not in df:\n",
    "        answer-=0.5\n",
    "    if \"Having sexual intercourse\" in df:\n",
    "        answer+=1\n",
    "    elif \"Having sexual intercourse\" not in df:\n",
    "        answer-=0.5\n",
    "    if \"Sunbathing\" in df:\n",
    "        answer-=0.5\n",
    "    elif \"Sunbathing\" not in df:\n",
    "        answer+=1\n",
    "    if \"Breastfeeding\" in df:\n",
    "        answer+=1\n",
    "    elif \"Breastfeeding\" not in df:\n",
    "        answer-=0.5\n",
    "    if \"Blood transfusion\" in df:\n",
    "        answer+=1\n",
    "    elif \"Blood transfusion\" not in df:\n",
    "        answer-=0.5\n",
    "    if \"None of the above\" in df:\n",
    "        answer+=0\n",
    "    return answer"
   ]
  },
  {
   "cell_type": "code",
   "execution_count": 31,
   "id": "c8d73383",
   "metadata": {},
   "outputs": [],
   "source": [
    "df[\"Q7\"]=df[\"Q7\"].map(scoring_7)"
   ]
  },
  {
   "cell_type": "code",
   "execution_count": 32,
   "id": "2ba5ec80",
   "metadata": {},
   "outputs": [],
   "source": [
    "#to score the responses for Q8\n",
    "def scoring_8 (df):\n",
    "    answer=0\n",
    "    if \"Mosquitoes\" in df:\n",
    "        answer+=1\n",
    "    elif \"Mosquitoes\" not in df:\n",
    "        answer-=0.5\n",
    "    if \"Sand flies\" in df:\n",
    "        answer+=1\n",
    "    elif \"Sand flies\" not in df:\n",
    "        answer-=0.5\n",
    "    if \"Butterflies\" in df:\n",
    "        answer-=0.5\n",
    "    elif \"Butterflies\" not in df:\n",
    "        answer+=1\n",
    "    if \"Bed bugs\" in df:\n",
    "        answer+=1\n",
    "    elif \"Bed bugs\" not in df:\n",
    "        answer-=0.5\n",
    "    if \"Bats\" in df:\n",
    "        answer+=1\n",
    "    elif \"Bats\" not in df:\n",
    "        answer-=0.5\n",
    "    if \"Ticks\" in df:\n",
    "        answer+=1\n",
    "    elif \"Ticks\" not in df:\n",
    "        answer-=0.5\n",
    "    if \"Wasps\" in df:\n",
    "        answer-=0.5\n",
    "    elif \"Wasps\" not in df:\n",
    "        answer+=1\n",
    "    if \"Fleas\" in df:\n",
    "        answer+=1\n",
    "    elif \"Fleas\" not in df:\n",
    "        answer-=0.5\n",
    "    if \"Wild animals\" in df:\n",
    "        answer+=1\n",
    "    elif \"Wild animals\" not in df:\n",
    "        answer-=0.5\n",
    "    if \"Pets\" in df:\n",
    "        answer+=1\n",
    "    elif \"Pets\" not in df:\n",
    "        answer-=0.5\n",
    "    if \"Farm animals\" in df:\n",
    "        answer+=1\n",
    "    elif \"Farm animals\" not in df:\n",
    "        answer-=0.5\n",
    "    if \"None of the above\" in df:\n",
    "        answer+=0\n",
    "    return answer"
   ]
  },
  {
   "cell_type": "code",
   "execution_count": 33,
   "id": "ef5743d6",
   "metadata": {},
   "outputs": [],
   "source": [
    "df[\"Q8\"]=df[\"Q8\"].map(scoring_8)"
   ]
  },
  {
   "cell_type": "code",
   "execution_count": 34,
   "id": "164468b7",
   "metadata": {},
   "outputs": [],
   "source": [
    "df[\"Q9\"]=df[\"Q9\"].map(coding)"
   ]
  },
  {
   "cell_type": "code",
   "execution_count": 35,
   "id": "08361c94",
   "metadata": {},
   "outputs": [],
   "source": [
    "#Q10 is the reverse, we deduct 0.5 for true and give 1 for false\n",
    "def coding_inverse (df):\n",
    "    if \"True\" in df:\n",
    "        return (-0.5)\n",
    "    elif \"False\" in df:\n",
    "        return (1)\n",
    "    else:\n",
    "        return 0"
   ]
  },
  {
   "cell_type": "code",
   "execution_count": 36,
   "id": "e4c6e331",
   "metadata": {},
   "outputs": [],
   "source": [
    "df[\"Q10\"]=df[\"Q10\"].map(coding_inverse)"
   ]
  },
  {
   "cell_type": "code",
   "execution_count": 37,
   "id": "99eb5d93",
   "metadata": {},
   "outputs": [],
   "source": [
    "df[\"Q11\"]=df[\"Q11\"].map(coding)\n",
    "df[\"Q12\"]=df[\"Q12\"].map(coding_inverse)\n",
    "df[\"Q13\"]=df[\"Q13\"].map(coding)\n",
    "df[\"Q14\"]=df[\"Q14\"].map(coding)\n",
    "df[\"Q15\"]=df[\"Q15\"].map(coding)\n",
    "df[\"Q16\"]=df[\"Q16\"].map(coding_inverse)\n",
    "df[\"Q17\"]=df[\"Q17\"].map(coding)"
   ]
  },
  {
   "cell_type": "code",
   "execution_count": 38,
   "id": "8d7fc479",
   "metadata": {},
   "outputs": [],
   "source": [
    "#sum up the scores skipping rows 6 and 18. convert the values to percentage\n",
    "\n",
    "df[\"Total\"]=df.iloc[:,7:].sum(axis=1,numeric_only=True)"
   ]
  },
  {
   "cell_type": "code",
   "execution_count": 39,
   "id": "29e7daa0",
   "metadata": {},
   "outputs": [],
   "source": [
    "df[\"Percent\"]=(df[\"Total\"]/52)*100"
   ]
  },
  {
   "cell_type": "markdown",
   "id": "94d0405e",
   "metadata": {},
   "source": [
    "### DATA EXPLORATION"
   ]
  },
  {
   "cell_type": "code",
   "execution_count": 40,
   "id": "b073ee20",
   "metadata": {},
   "outputs": [
    {
     "data": {
      "text/plain": [
       "<AxesSubplot:>"
      ]
     },
     "execution_count": 40,
     "metadata": {},
     "output_type": "execute_result"
    },
    {
     "data": {
      "image/png": "[encoded data removed]",
      "text/plain": [
       "<Figure size 640x480 with 1 Axes>"
      ]
     },
     "metadata": {},
     "output_type": "display_data"
    }
   ],
   "source": [
    "#checking the distribution of the age of the participants\n",
    "#most of the participants are less than 30 years of age\n",
    "df[\"Age\"].hist()"
   ]
  },
  {
   "cell_type": "code",
   "execution_count": 41,
   "id": "dfec153d",
   "metadata": {},
   "outputs": [
    {
     "data": {
      "text/plain": [
       "<AxesSubplot:>"
      ]
     },
     "execution_count": 41,
     "metadata": {},
     "output_type": "execute_result"
    },
    {
     "data": {
      "image/png": "[encoded data removed]",
      "text/plain": [
       "<Figure size 640x480 with 1 Axes>"
      ]
     },
     "metadata": {},
     "output_type": "display_data"
    }
   ],
   "source": [
    "#checking the distribution of performance of the participants\n",
    "df[\"Percent\"].hist()"
   ]
  },
  {
   "cell_type": "markdown",
   "id": "d119a7a4",
   "metadata": {},
   "source": [
    "### Q1: Is the Score performance a function of age?"
   ]
  },
  {
   "cell_type": "code",
   "execution_count": 42,
   "id": "d938821c",
   "metadata": {},
   "outputs": [
    {
     "data": {
      "text/plain": [
       "<AxesSubplot:xlabel='Age', ylabel='Percent'>"
      ]
     },
     "execution_count": 42,
     "metadata": {},
     "output_type": "execute_result"
    },
    {
     "data": {
      "image/png": "[encoded data removed]",
      "text/plain": [
       "<Figure size 640x480 with 1 Axes>"
      ]
     },
     "metadata": {},
     "output_type": "display_data"
    }
   ],
   "source": [
    "sns.regplot(x=df[\"Age\"],y=df[\"Percent\"])\n",
    "\n",
    "#No, it is not"
   ]
  },
  {
   "cell_type": "markdown",
   "id": "bfdad693",
   "metadata": {},
   "source": [
    "### Q2: What is the mean performance by Gender?"
   ]
  },
  {
   "cell_type": "code",
   "execution_count": 43,
   "id": "0f0cbb25",
   "metadata": {},
   "outputs": [
    {
     "data": {
      "text/plain": [
       "Gender\n",
       "Female    58.584337\n",
       "Male      58.822765\n",
       "Name: Percent, dtype: float64"
      ]
     },
     "execution_count": 43,
     "metadata": {},
     "output_type": "execute_result"
    }
   ],
   "source": [
    "df.groupby(\"Gender\")[\"Percent\"].mean()"
   ]
  },
  {
   "cell_type": "code",
   "execution_count": 44,
   "id": "52c4cbc7",
   "metadata": {},
   "outputs": [],
   "source": [
    "#The mean score by performance is approximately the same, we perform an independent T test to check if there is a \n",
    "# statistical difference"
   ]
  },
  {
   "cell_type": "code",
   "execution_count": 45,
   "id": "b4de82fd",
   "metadata": {},
   "outputs": [],
   "source": [
    "df_male=df[df[\"Gender\"]==\"Male\"]\n",
    "df_female=df[df[\"Gender\"]==\"Female\"]"
   ]
  },
  {
   "cell_type": "code",
   "execution_count": 46,
   "id": "8cf6afe7",
   "metadata": {
    "scrolled": true
   },
   "outputs": [
    {
     "name": "stdout",
     "output_type": "stream",
     "text": [
      "Ttest_indResult(statistic=0.09330932526565265, pvalue=0.9257394077432912)\n"
     ]
    }
   ],
   "source": [
    "print(ttest_ind(df_male[\"Percent\"],df_female[\"Percent\"]))"
   ]
  },
  {
   "cell_type": "markdown",
   "id": "2ea95434",
   "metadata": {},
   "source": [
    "##### P_value > 0.05, therefore, there is no statistical difference between the mean score performance by Gender "
   ]
  },
  {
   "cell_type": "code",
   "execution_count": 47,
   "id": "5c48fd67",
   "metadata": {},
   "outputs": [
    {
     "data": {
      "text/plain": [
       "Text(0.5, 1.0, 'Mean score performance by Gender')"
      ]
     },
     "execution_count": 47,
     "metadata": {},
     "output_type": "execute_result"
    },
    {
     "data": {
      "image/png": "[encoded data removed]",
      "text/plain": [
       "<Figure size 640x480 with 1 Axes>"
      ]
     },
     "metadata": {},
     "output_type": "display_data"
    }
   ],
   "source": [
    "#visualizing the performance\n",
    "sns.boxplot(x=\"Gender\",y=\"Percent\",data=df, color=\"white\")\n",
    "sns.stripplot(x=\"Gender\",y=\"Percent\",data=df, color=\"black\")\n",
    "plt.title(\"Mean score performance by Gender\")"
   ]
  },
  {
   "cell_type": "markdown",
   "id": "11081d4d",
   "metadata": {},
   "source": [
    "### Q3 What is the mean score performance by Field of study? (Life Science, Non Life Science)"
   ]
  },
  {
   "cell_type": "code",
   "execution_count": 48,
   "id": "101315fb",
   "metadata": {},
   "outputs": [
    {
     "data": {
      "text/plain": [
       "Field\n",
       "Life science        62.956731\n",
       "Non life science    49.228061\n",
       "Name: Percent, dtype: float64"
      ]
     },
     "execution_count": 48,
     "metadata": {},
     "output_type": "execute_result"
    }
   ],
   "source": [
    "df.groupby(\"Field\")[\"Percent\"].mean()"
   ]
  },
  {
   "cell_type": "code",
   "execution_count": 49,
   "id": "197dc77d",
   "metadata": {},
   "outputs": [],
   "source": [
    "#The mean score by performance is higher for Life Sciences than Non life sciences\n",
    "#we perform an independent T test to check if there is a statistical difference"
   ]
  },
  {
   "cell_type": "code",
   "execution_count": 50,
   "id": "358cbbb6",
   "metadata": {},
   "outputs": [
    {
     "name": "stdout",
     "output_type": "stream",
     "text": [
      "Ttest_indResult(statistic=5.496943284337229, pvalue=1.0276084429068861e-07)\n"
     ]
    }
   ],
   "source": [
    "df_lifesc=df[df[\"Field\"]==\"Life science\"]\n",
    "df_nonlifesc=df[df[\"Field\"]==\"Non life science\"]\n",
    "\n",
    "print(ttest_ind(df_lifesc[\"Percent\"],df_nonlifesc[\"Percent\"]))"
   ]
  },
  {
   "cell_type": "markdown",
   "id": "fd623bc9",
   "metadata": {},
   "source": [
    "##### P_value<0.05, there is a significant difference between the knowledge of life science students and non_life science students, \n",
    "##### Life science students have more significant knowledge than non_life science students"
   ]
  },
  {
   "cell_type": "code",
   "execution_count": 51,
   "id": "dc3d0eb5",
   "metadata": {},
   "outputs": [
    {
     "data": {
      "text/plain": [
       "Text(0.5, 1.0, 'Mean score performance by Field')"
      ]
     },
     "execution_count": 51,
     "metadata": {},
     "output_type": "execute_result"
    },
    {
     "data": {
      "image/png": "[encoded data removed]",
      "text/plain": [
       "<Figure size 640x480 with 1 Axes>"
      ]
     },
     "metadata": {},
     "output_type": "display_data"
    }
   ],
   "source": [
    "sns.boxplot(x=\"Field\",y=\"Percent\",data=df, color=\"white\")\n",
    "sns.stripplot(x=\"Field\",y=\"Percent\",data=df, color=\"black\")\n",
    "plt.title(\"Mean score performance by Field\")"
   ]
  },
  {
   "cell_type": "markdown",
   "id": "9eb949ed",
   "metadata": {},
   "source": [
    "### Q4 Is there a difference in the performance by Level of study? (Bachelors, Post-graduates, Others)?"
   ]
  },
  {
   "cell_type": "code",
   "execution_count": 52,
   "id": "6de78c27",
   "metadata": {},
   "outputs": [
    {
     "data": {
      "text/plain": [
       "Education\n",
       "Bachelors        57.478632\n",
       "Others           58.867521\n",
       "Post-Graduate    61.510591\n",
       "Name: Percent, dtype: float64"
      ]
     },
     "execution_count": 52,
     "metadata": {},
     "output_type": "execute_result"
    }
   ],
   "source": [
    "df.groupby(\"Education\")[\"Percent\"].mean()"
   ]
  },
  {
   "cell_type": "code",
   "execution_count": 53,
   "id": "e7e78559",
   "metadata": {},
   "outputs": [
    {
     "name": "stdout",
     "output_type": "stream",
     "text": [
      "F_onewayResult(statistic=1.1194757414390013, pvalue=0.32823848125172933)\n"
     ]
    }
   ],
   "source": [
    "#we perform a one_way anova to compare multiple groups\n",
    "df_bach=df[df[\"Education\"]==\"Bachelors\"]\n",
    "df_others=df[df[\"Education\"]==\"Others\"]\n",
    "df_postg=df[df[\"Education\"]==\"Post-Graduate\"]\n",
    "\n",
    "print(f_oneway(df_bach[\"Percent\"],df_others['Percent'],df_postg[\"Percent\"]))"
   ]
  },
  {
   "cell_type": "markdown",
   "id": "7e00ce8a",
   "metadata": {},
   "source": [
    "##### p_value >0.05, hence there is no significant difference in the knowledge on the impact of climate change on zoonosis"
   ]
  },
  {
   "cell_type": "code",
   "execution_count": 54,
   "id": "6bb4cae6",
   "metadata": {},
   "outputs": [
    {
     "data": {
      "text/plain": [
       "Text(0.5, 1.0, 'Mean score performance by Level of Studies')"
      ]
     },
     "execution_count": 54,
     "metadata": {},
     "output_type": "execute_result"
    },
    {
     "data": {
      "image/png": "[encoded data removed]",
      "text/plain": [
       "<Figure size 640x480 with 1 Axes>"
      ]
     },
     "metadata": {},
     "output_type": "display_data"
    }
   ],
   "source": [
    "sns.boxplot(x=\"Education\",y=\"Percent\",data=df, color=\"white\")\n",
    "sns.stripplot(x=\"Education\",y=\"Percent\",data=df, color=\"black\")\n",
    "plt.title(\"Mean score performance by Level of Studies\")"
   ]
  },
  {
   "cell_type": "markdown",
   "id": "12b5d2c8",
   "metadata": {},
   "source": [
    "### Q5 What is the mean knowledge score by Continents, and top represented countries?"
   ]
  },
  {
   "cell_type": "code",
   "execution_count": 55,
   "id": "4899bfd6",
   "metadata": {},
   "outputs": [],
   "source": [
    "# we create a new column called continent to classify the continents\n",
    "def continent(df):\n",
    "    europe=[\"Azerbaijan\",\"Finland\",\"Germany\",\"Ireland\",\"Italy\",\"Netherlands\",\"Russia\",\"Spain\",\"Turkey\",\"France\"]\n",
    "    africa=[\"Eritrea\",\"Ethiopia\",\"Kenya\",\"Nigeria\",\"South Africa\",\"Tanzania\",\"Uganda\",\"Rwanda\"]\n",
    "    if df in europe:\n",
    "        return (\"Europe\")\n",
    "    elif df in africa:\n",
    "        return (\"Africa\")\n",
    "    else:\n",
    "        return (\"Others\")\n",
    "df[\"Continent\"]=df[\"Country\"].map(continent)"
   ]
  },
  {
   "cell_type": "code",
   "execution_count": 56,
   "id": "a474ed59",
   "metadata": {},
   "outputs": [
    {
     "data": {
      "text/plain": [
       "Continent\n",
       "Africa    58.295063\n",
       "Europe    58.916084\n",
       "Others    69.350962\n",
       "Name: Percent, dtype: float64"
      ]
     },
     "execution_count": 56,
     "metadata": {},
     "output_type": "execute_result"
    }
   ],
   "source": [
    "df.groupby(\"Continent\")[\"Percent\"].mean()"
   ]
  },
  {
   "cell_type": "code",
   "execution_count": 57,
   "id": "0cf8127f",
   "metadata": {},
   "outputs": [],
   "source": [
    "df_africa=df[df[\"Continent\"]==\"Africa\"]\n",
    "df_europe=df[df[\"Continent\"]==\"Europe\"]\n",
    "df_others=df[df[\"Continent\"]==\"Others\"]"
   ]
  },
  {
   "cell_type": "code",
   "execution_count": 58,
   "id": "c7000bd6",
   "metadata": {},
   "outputs": [
    {
     "name": "stdout",
     "output_type": "stream",
     "text": [
      "F_onewayResult(statistic=1.365590524135137, pvalue=0.2573093687005679)\n"
     ]
    }
   ],
   "source": [
    "# performing a one way anova\n",
    "print(f_oneway(df_africa[\"Percent\"],df_europe[\"Percent\"],df_others[\"Percent\"]))"
   ]
  },
  {
   "cell_type": "code",
   "execution_count": 59,
   "id": "021bac79",
   "metadata": {},
   "outputs": [
    {
     "data": {
      "text/plain": [
       "Text(0.5, 1.0, 'Mean score performance by Continent')"
      ]
     },
     "execution_count": 59,
     "metadata": {},
     "output_type": "execute_result"
    },
    {
     "data": {
      "image/png": "[encoded data removed]",
      "text/plain": [
       "<Figure size 640x480 with 1 Axes>"
      ]
     },
     "metadata": {},
     "output_type": "display_data"
    }
   ],
   "source": [
    "sns.boxplot(x=\"Continent\",y=\"Percent\",data=df, color=\"white\")\n",
    "sns.stripplot(x=\"Continent\",y=\"Percent\",data=df, color=\"black\")\n",
    "plt.title(\"Mean score performance by Continent\")"
   ]
  },
  {
   "cell_type": "markdown",
   "id": "8e82081d",
   "metadata": {},
   "source": [
    "##### P_value > 0.05, there is therefore no statistical significance in knowledge among the represented continents"
   ]
  },
  {
   "cell_type": "code",
   "execution_count": 60,
   "id": "745c5c12",
   "metadata": {},
   "outputs": [
    {
     "data": {
      "text/plain": [
       "Nigeria       70\n",
       "Uganda        61\n",
       "Ethiopia      38\n",
       "Eritrea       27\n",
       "Azerbaijan     8\n",
       "Name: Country, dtype: int64"
      ]
     },
     "execution_count": 60,
     "metadata": {},
     "output_type": "execute_result"
    }
   ],
   "source": [
    "# The top four represented countries are Nigeria, Ethiopia, Eritrea and Uganda\n",
    "# we therefore perform a one way Anova to know if there is a difference in mean score among the countries\n",
    "\n",
    "df[\"Country\"].value_counts().head()"
   ]
  },
  {
   "cell_type": "code",
   "execution_count": 61,
   "id": "e5a2f383",
   "metadata": {},
   "outputs": [],
   "source": [
    "df_top=df[(df[\"Country\"]==\"Nigeria\")|(df[\"Country\"]==\"Uganda\")|\n",
    "          (df[\"Country\"]==\"Ethiopia\")|(df[\"Country\"]==\"Eritrea\")]"
   ]
  },
  {
   "cell_type": "code",
   "execution_count": 62,
   "id": "87589849",
   "metadata": {},
   "outputs": [
    {
     "data": {
      "text/plain": [
       "Country\n",
       "Eritrea     62.606838\n",
       "Ethiopia    69.104251\n",
       "Nigeria     57.527473\n",
       "Uganda      50.583228\n",
       "Name: Percent, dtype: float64"
      ]
     },
     "execution_count": 62,
     "metadata": {},
     "output_type": "execute_result"
    }
   ],
   "source": [
    "df_top.groupby(\"Country\")[\"Percent\"].mean()"
   ]
  },
  {
   "cell_type": "code",
   "execution_count": 63,
   "id": "05944334",
   "metadata": {},
   "outputs": [],
   "source": [
    "df_Nigeria=df_top[df_top[\"Country\"]==\"Nigeria\"]\n",
    "df_Ethiopia=df_top[df_top[\"Country\"]==\"Ethiopia\"]\n",
    "df_Eritrea=df_top[df_top[\"Country\"]==\"Eritrea\"]\n",
    "df_Uganda=df_top[df_top[\"Country\"]==\"Uganda\"]"
   ]
  },
  {
   "cell_type": "code",
   "execution_count": 64,
   "id": "f44a5631",
   "metadata": {},
   "outputs": [
    {
     "name": "stdout",
     "output_type": "stream",
     "text": [
      "F_onewayResult(statistic=10.092932018964992, pvalue=3.3164125676352617e-06)\n"
     ]
    }
   ],
   "source": [
    "#we perform a one_way anova\n",
    "print(f_oneway(df_Nigeria[\"Percent\"], df_Ethiopia[\"Percent\"], \n",
    "               df_Eritrea[\"Percent\"], df_Uganda[\"Percent\"]))"
   ]
  },
  {
   "cell_type": "markdown",
   "id": "ce942e6b",
   "metadata": {},
   "source": [
    "#### p_value <0.05, therefore there is a significant difference in knowledge among the four countries, we however do not know where \n",
    "\n",
    "#### the difference is, we therefore carry out a tukey HSD test to spot where the difference is "
   ]
  },
  {
   "cell_type": "code",
   "execution_count": 65,
   "id": "92dec5f0",
   "metadata": {},
   "outputs": [
    {
     "name": "stdout",
     "output_type": "stream",
     "text": [
      "   Multiple Comparison of Means - Tukey HSD, FWER=0.05   \n",
      "=========================================================\n",
      " group1   group2  meandiff p-adj   lower    upper  reject\n",
      "---------------------------------------------------------\n",
      " Eritrea Ethiopia   6.4974 0.4212  -4.5032  17.498  False\n",
      " Eritrea  Nigeria  -5.0794 0.5453 -14.9806  4.8219  False\n",
      " Eritrea   Uganda -12.0236 0.0124 -22.1261 -1.9211   True\n",
      "Ethiopia  Nigeria -11.5768 0.0044 -20.3833 -2.7702   True\n",
      "Ethiopia   Uganda  -18.521    0.0 -27.5532 -9.4888   True\n",
      " Nigeria   Uganda  -6.9442 0.0903 -14.5994  0.7109  False\n",
      "---------------------------------------------------------\n"
     ]
    }
   ],
   "source": [
    "from statsmodels.stats.multicomp import pairwise_tukeyhsd\n",
    "print(pairwise_tukeyhsd(endog=df_top[\"Percent\"],groups=df_top[\"Country\"],alpha=0.05))"
   ]
  },
  {
   "cell_type": "code",
   "execution_count": 66,
   "id": "28a87304",
   "metadata": {},
   "outputs": [],
   "source": [
    "#there is a significant difference between Eritrea and Uganda,\n",
    "#Ethiopia and Nigeria\n",
    "#Ethiopia and Uganda"
   ]
  },
  {
   "cell_type": "code",
   "execution_count": 67,
   "id": "5bba7b7c",
   "metadata": {},
   "outputs": [
    {
     "data": {
      "text/plain": [
       "Text(0.5, 1.0, 'Mean score performance by top country')"
      ]
     },
     "execution_count": 67,
     "metadata": {},
     "output_type": "execute_result"
    },
    {
     "data": {
      "image/png": "[encoded data removed]",
      "text/plain": [
       "<Figure size 640x480 with 1 Axes>"
      ]
     },
     "metadata": {},
     "output_type": "display_data"
    }
   ],
   "source": [
    "sns.boxplot(x=\"Country\",y=\"Percent\",data=df_top, color=\"white\")\n",
    "sns.stripplot(x=\"Country\",y=\"Percent\",data=df_top, color=\"black\")\n",
    "plt.title(\"Mean score performance by top country\")"
   ]
  },
  {
   "cell_type": "markdown",
   "id": "cd44dcb2",
   "metadata": {},
   "source": [
    "### Q6: What percentage of the participants are knowledgeable and not knowledgeable?\n"
   ]
  },
  {
   "cell_type": "code",
   "execution_count": 68,
   "id": "25abae34",
   "metadata": {},
   "outputs": [],
   "source": [
    "# we use a passmark of 80% to categorize as knowledgeable or not-knowledgeable\n",
    "def knowledge (df):\n",
    "    if df>=80:\n",
    "        return (\"Knowledgeable\")\n",
    "    else:\n",
    "        return ('Not knowledgeable')\n",
    "df[\"Knowledge\"]=df[\"Percent\"].map(knowledge)"
   ]
  },
  {
   "cell_type": "code",
   "execution_count": 69,
   "id": "8111fd8f",
   "metadata": {},
   "outputs": [
    {
     "data": {
      "image/png": "[encoded data removed]",
      "text/plain": [
       "<Figure size 640x480 with 1 Axes>"
      ]
     },
     "metadata": {},
     "output_type": "display_data"
    }
   ],
   "source": [
    "plt.pie(df[\"Knowledge\"].value_counts(),labels=[\"Not knowledgeable\",\"Knowledgeable\"],\n",
    "        autopct='%.0f%%',\n",
    "        explode=[0,0.1])\n",
    "plt.title(\"Percentage distribution of knowledgeable and non knowledgeable among the samples\")\n",
    "# displaying chart\n",
    "plt.show()"
   ]
  },
  {
   "cell_type": "markdown",
   "id": "2e86cb2d",
   "metadata": {},
   "source": [
    "### Q7: What is the distribution of the participants knowledge on some of the infectious diseases?"
   ]
  },
  {
   "cell_type": "code",
   "execution_count": 70,
   "id": "d929c7af",
   "metadata": {},
   "outputs": [
    {
     "data": {
      "text/plain": [
       "0      Ebola, SARS and MERS, Zika virus, COVID19, Avi...\n",
       "1      Ebola, Nosocomial infections, SARS and MERS, Z...\n",
       "2      Ebola, SARS and MERS, COVID19, Avian influenza...\n",
       "3           SARS and MERS, COVID19, Avian influenza H5N1\n",
       "4      Ebola, SARS and MERS, Zika virus, COVID19, Avi...\n",
       "                             ...                        \n",
       "226                                       Ebola, COVID19\n",
       "227                                       Ebola, COVID19\n",
       "228                 Ebola, COVID19, Avian influenza H5N1\n",
       "229    Ebola, SARS and MERS, Zika virus, COVID19, Avi...\n",
       "230            Ebola, SARS and MERS, Zika virus, COVID19\n",
       "Name: Q6, Length: 231, dtype: object"
      ]
     },
     "execution_count": 70,
     "metadata": {},
     "output_type": "execute_result"
    }
   ],
   "source": [
    "#we use the column 6 for this analysis\n",
    "df[\"Q6\"]"
   ]
  },
  {
   "cell_type": "code",
   "execution_count": 71,
   "id": "f03171b0",
   "metadata": {},
   "outputs": [
    {
     "data": {
      "text/html": [
       "<div>\n",
       "<style scoped>\n",
       "    .dataframe tbody tr th:only-of-type {\n",
       "        vertical-align: middle;\n",
       "    }\n",
       "\n",
       "    .dataframe tbody tr th {\n",
       "        vertical-align: top;\n",
       "    }\n",
       "\n",
       "    .dataframe thead th {\n",
       "        text-align: right;\n",
       "    }\n",
       "</style>\n",
       "<table border=\"1\" class=\"dataframe\">\n",
       "  <thead>\n",
       "    <tr style=\"text-align: right;\">\n",
       "      <th></th>\n",
       "      <th>0</th>\n",
       "      <th>1</th>\n",
       "      <th>2</th>\n",
       "      <th>3</th>\n",
       "      <th>4</th>\n",
       "      <th>5</th>\n",
       "      <th>6</th>\n",
       "    </tr>\n",
       "  </thead>\n",
       "  <tbody>\n",
       "    <tr>\n",
       "      <th>0</th>\n",
       "      <td>Ebola</td>\n",
       "      <td>SARS and MERS</td>\n",
       "      <td>Zika virus</td>\n",
       "      <td>COVID19</td>\n",
       "      <td>Avian influenza H5N1</td>\n",
       "      <td>None</td>\n",
       "      <td>None</td>\n",
       "    </tr>\n",
       "    <tr>\n",
       "      <th>1</th>\n",
       "      <td>Ebola</td>\n",
       "      <td>Nosocomial infections</td>\n",
       "      <td>SARS and MERS</td>\n",
       "      <td>Zika virus</td>\n",
       "      <td>Barking fever</td>\n",
       "      <td>COVID19</td>\n",
       "      <td>Avian influenza H5N1</td>\n",
       "    </tr>\n",
       "    <tr>\n",
       "      <th>2</th>\n",
       "      <td>Ebola</td>\n",
       "      <td>SARS and MERS</td>\n",
       "      <td>COVID19</td>\n",
       "      <td>Avian influenza H5N1</td>\n",
       "      <td>None</td>\n",
       "      <td>None</td>\n",
       "      <td>None</td>\n",
       "    </tr>\n",
       "    <tr>\n",
       "      <th>3</th>\n",
       "      <td>SARS and MERS</td>\n",
       "      <td>COVID19</td>\n",
       "      <td>Avian influenza H5N1</td>\n",
       "      <td>None</td>\n",
       "      <td>None</td>\n",
       "      <td>None</td>\n",
       "      <td>None</td>\n",
       "    </tr>\n",
       "    <tr>\n",
       "      <th>4</th>\n",
       "      <td>Ebola</td>\n",
       "      <td>SARS and MERS</td>\n",
       "      <td>Zika virus</td>\n",
       "      <td>COVID19</td>\n",
       "      <td>Avian influenza H5N1</td>\n",
       "      <td>None</td>\n",
       "      <td>None</td>\n",
       "    </tr>\n",
       "    <tr>\n",
       "      <th>...</th>\n",
       "      <td>...</td>\n",
       "      <td>...</td>\n",
       "      <td>...</td>\n",
       "      <td>...</td>\n",
       "      <td>...</td>\n",
       "      <td>...</td>\n",
       "      <td>...</td>\n",
       "    </tr>\n",
       "    <tr>\n",
       "      <th>226</th>\n",
       "      <td>Ebola</td>\n",
       "      <td>COVID19</td>\n",
       "      <td>None</td>\n",
       "      <td>None</td>\n",
       "      <td>None</td>\n",
       "      <td>None</td>\n",
       "      <td>None</td>\n",
       "    </tr>\n",
       "    <tr>\n",
       "      <th>227</th>\n",
       "      <td>Ebola</td>\n",
       "      <td>COVID19</td>\n",
       "      <td>None</td>\n",
       "      <td>None</td>\n",
       "      <td>None</td>\n",
       "      <td>None</td>\n",
       "      <td>None</td>\n",
       "    </tr>\n",
       "    <tr>\n",
       "      <th>228</th>\n",
       "      <td>Ebola</td>\n",
       "      <td>COVID19</td>\n",
       "      <td>Avian influenza H5N1</td>\n",
       "      <td>None</td>\n",
       "      <td>None</td>\n",
       "      <td>None</td>\n",
       "      <td>None</td>\n",
       "    </tr>\n",
       "    <tr>\n",
       "      <th>229</th>\n",
       "      <td>Ebola</td>\n",
       "      <td>SARS and MERS</td>\n",
       "      <td>Zika virus</td>\n",
       "      <td>COVID19</td>\n",
       "      <td>Avian influenza H5N1</td>\n",
       "      <td>None</td>\n",
       "      <td>None</td>\n",
       "    </tr>\n",
       "    <tr>\n",
       "      <th>230</th>\n",
       "      <td>Ebola</td>\n",
       "      <td>SARS and MERS</td>\n",
       "      <td>Zika virus</td>\n",
       "      <td>COVID19</td>\n",
       "      <td>None</td>\n",
       "      <td>None</td>\n",
       "      <td>None</td>\n",
       "    </tr>\n",
       "  </tbody>\n",
       "</table>\n",
       "<p>231 rows × 7 columns</p>\n",
       "</div>"
      ],
      "text/plain": [
       "                 0                      1                     2  \\\n",
       "0            Ebola          SARS and MERS            Zika virus   \n",
       "1            Ebola  Nosocomial infections         SARS and MERS   \n",
       "2            Ebola          SARS and MERS               COVID19   \n",
       "3    SARS and MERS                COVID19  Avian influenza H5N1   \n",
       "4            Ebola          SARS and MERS            Zika virus   \n",
       "..             ...                    ...                   ...   \n",
       "226          Ebola                COVID19                  None   \n",
       "227          Ebola                COVID19                  None   \n",
       "228          Ebola                COVID19  Avian influenza H5N1   \n",
       "229          Ebola          SARS and MERS            Zika virus   \n",
       "230          Ebola          SARS and MERS            Zika virus   \n",
       "\n",
       "                        3                     4        5                     6  \n",
       "0                 COVID19  Avian influenza H5N1     None                  None  \n",
       "1              Zika virus         Barking fever  COVID19  Avian influenza H5N1  \n",
       "2    Avian influenza H5N1                  None     None                  None  \n",
       "3                    None                  None     None                  None  \n",
       "4                 COVID19  Avian influenza H5N1     None                  None  \n",
       "..                    ...                   ...      ...                   ...  \n",
       "226                  None                  None     None                  None  \n",
       "227                  None                  None     None                  None  \n",
       "228                  None                  None     None                  None  \n",
       "229               COVID19  Avian influenza H5N1     None                  None  \n",
       "230               COVID19                  None     None                  None  \n",
       "\n",
       "[231 rows x 7 columns]"
      ]
     },
     "execution_count": 71,
     "metadata": {},
     "output_type": "execute_result"
    }
   ],
   "source": [
    "diseases=df[\"Q6\"].str.split(\", \",expand=True)\n",
    "#this returns a dataframe with all the words split separately\n",
    "diseases"
   ]
  },
  {
   "cell_type": "code",
   "execution_count": 72,
   "id": "8bd6039f",
   "metadata": {},
   "outputs": [
    {
     "data": {
      "text/html": [
       "<div>\n",
       "<style scoped>\n",
       "    .dataframe tbody tr th:only-of-type {\n",
       "        vertical-align: middle;\n",
       "    }\n",
       "\n",
       "    .dataframe tbody tr th {\n",
       "        vertical-align: top;\n",
       "    }\n",
       "\n",
       "    .dataframe thead th {\n",
       "        text-align: right;\n",
       "    }\n",
       "</style>\n",
       "<table border=\"1\" class=\"dataframe\">\n",
       "  <thead>\n",
       "    <tr style=\"text-align: right;\">\n",
       "      <th></th>\n",
       "      <th>variable</th>\n",
       "      <th>value</th>\n",
       "    </tr>\n",
       "  </thead>\n",
       "  <tbody>\n",
       "    <tr>\n",
       "      <th>0</th>\n",
       "      <td>0</td>\n",
       "      <td>Ebola</td>\n",
       "    </tr>\n",
       "    <tr>\n",
       "      <th>1</th>\n",
       "      <td>0</td>\n",
       "      <td>Ebola</td>\n",
       "    </tr>\n",
       "    <tr>\n",
       "      <th>2</th>\n",
       "      <td>0</td>\n",
       "      <td>Ebola</td>\n",
       "    </tr>\n",
       "    <tr>\n",
       "      <th>3</th>\n",
       "      <td>0</td>\n",
       "      <td>SARS and MERS</td>\n",
       "    </tr>\n",
       "    <tr>\n",
       "      <th>4</th>\n",
       "      <td>0</td>\n",
       "      <td>Ebola</td>\n",
       "    </tr>\n",
       "    <tr>\n",
       "      <th>...</th>\n",
       "      <td>...</td>\n",
       "      <td>...</td>\n",
       "    </tr>\n",
       "    <tr>\n",
       "      <th>1612</th>\n",
       "      <td>6</td>\n",
       "      <td>None</td>\n",
       "    </tr>\n",
       "    <tr>\n",
       "      <th>1613</th>\n",
       "      <td>6</td>\n",
       "      <td>None</td>\n",
       "    </tr>\n",
       "    <tr>\n",
       "      <th>1614</th>\n",
       "      <td>6</td>\n",
       "      <td>None</td>\n",
       "    </tr>\n",
       "    <tr>\n",
       "      <th>1615</th>\n",
       "      <td>6</td>\n",
       "      <td>None</td>\n",
       "    </tr>\n",
       "    <tr>\n",
       "      <th>1616</th>\n",
       "      <td>6</td>\n",
       "      <td>None</td>\n",
       "    </tr>\n",
       "  </tbody>\n",
       "</table>\n",
       "<p>1617 rows × 2 columns</p>\n",
       "</div>"
      ],
      "text/plain": [
       "      variable          value\n",
       "0            0          Ebola\n",
       "1            0          Ebola\n",
       "2            0          Ebola\n",
       "3            0  SARS and MERS\n",
       "4            0          Ebola\n",
       "...        ...            ...\n",
       "1612         6           None\n",
       "1613         6           None\n",
       "1614         6           None\n",
       "1615         6           None\n",
       "1616         6           None\n",
       "\n",
       "[1617 rows x 2 columns]"
      ]
     },
     "execution_count": 72,
     "metadata": {},
     "output_type": "execute_result"
    }
   ],
   "source": [
    "#merge them into one dataframe\n",
    "diseases=pd.melt(diseases)\n",
    "diseases"
   ]
  },
  {
   "cell_type": "code",
   "execution_count": 73,
   "id": "da4d0928",
   "metadata": {
    "scrolled": false
   },
   "outputs": [
    {
     "data": {
      "text/html": [
       "<div>\n",
       "<style scoped>\n",
       "    .dataframe tbody tr th:only-of-type {\n",
       "        vertical-align: middle;\n",
       "    }\n",
       "\n",
       "    .dataframe tbody tr th {\n",
       "        vertical-align: top;\n",
       "    }\n",
       "\n",
       "    .dataframe thead th {\n",
       "        text-align: right;\n",
       "    }\n",
       "</style>\n",
       "<table border=\"1\" class=\"dataframe\">\n",
       "  <thead>\n",
       "    <tr style=\"text-align: right;\">\n",
       "      <th></th>\n",
       "      <th>value</th>\n",
       "    </tr>\n",
       "  </thead>\n",
       "  <tbody>\n",
       "    <tr>\n",
       "      <th>COVID19</th>\n",
       "      <td>227</td>\n",
       "    </tr>\n",
       "    <tr>\n",
       "      <th>Ebola</th>\n",
       "      <td>222</td>\n",
       "    </tr>\n",
       "    <tr>\n",
       "      <th>Avian influenza H5N1</th>\n",
       "      <td>144</td>\n",
       "    </tr>\n",
       "    <tr>\n",
       "      <th>SARS and MERS</th>\n",
       "      <td>141</td>\n",
       "    </tr>\n",
       "    <tr>\n",
       "      <th>Zika virus</th>\n",
       "      <td>134</td>\n",
       "    </tr>\n",
       "    <tr>\n",
       "      <th>Nosocomial infections</th>\n",
       "      <td>29</td>\n",
       "    </tr>\n",
       "    <tr>\n",
       "      <th>Barking fever</th>\n",
       "      <td>19</td>\n",
       "    </tr>\n",
       "  </tbody>\n",
       "</table>\n",
       "</div>"
      ],
      "text/plain": [
       "                       value\n",
       "COVID19                  227\n",
       "Ebola                    222\n",
       "Avian influenza H5N1     144\n",
       "SARS and MERS            141\n",
       "Zika virus               134\n",
       "Nosocomial infections     29\n",
       "Barking fever             19"
      ]
     },
     "execution_count": 73,
     "metadata": {},
     "output_type": "execute_result"
    }
   ],
   "source": [
    "#we are interested in \"value\"\n",
    "df_new=diseases[\"value\"].value_counts().to_frame()\n",
    "df_new"
   ]
  },
  {
   "cell_type": "code",
   "execution_count": 74,
   "id": "94a68a65",
   "metadata": {},
   "outputs": [],
   "source": [
    "#dropping barking fever because it was an error in the question\n",
    "df_new.drop(\"Barking fever\",inplace=True)"
   ]
  },
  {
   "cell_type": "code",
   "execution_count": 75,
   "id": "a594c855",
   "metadata": {},
   "outputs": [
    {
     "data": {
      "image/png": "[encoded data removed]",
      "text/plain": [
       "<Figure size 640x480 with 1 Axes>"
      ]
     },
     "metadata": {},
     "output_type": "display_data"
    }
   ],
   "source": [
    "#we make the plot\n",
    "a=df_new.index\n",
    "b=(df_new[\"value\"]/232)*100\n",
    "plt.barh(a,b)\n",
    "plt.title(\"Percentage of Participants on Knowledge of Diseases\")\n",
    "plt.show()"
   ]
  },
  {
   "cell_type": "code",
   "execution_count": 76,
   "id": "02974c47",
   "metadata": {},
   "outputs": [],
   "source": [
    "#almost 100% of the participants know about COVID19 and few knew about Nosocomial infections"
   ]
  },
  {
   "cell_type": "markdown",
   "id": "78b5b6f8",
   "metadata": {},
   "source": [
    "### Q8: Which information source did the participants get information about the effect of climate change on zoonosis?"
   ]
  },
  {
   "cell_type": "code",
   "execution_count": 77,
   "id": "50b502e8",
   "metadata": {},
   "outputs": [
    {
     "data": {
      "text/html": [
       "<div>\n",
       "<style scoped>\n",
       "    .dataframe tbody tr th:only-of-type {\n",
       "        vertical-align: middle;\n",
       "    }\n",
       "\n",
       "    .dataframe tbody tr th {\n",
       "        vertical-align: top;\n",
       "    }\n",
       "\n",
       "    .dataframe thead th {\n",
       "        text-align: right;\n",
       "    }\n",
       "</style>\n",
       "<table border=\"1\" class=\"dataframe\">\n",
       "  <thead>\n",
       "    <tr style=\"text-align: right;\">\n",
       "      <th></th>\n",
       "      <th>0</th>\n",
       "      <th>1</th>\n",
       "      <th>2</th>\n",
       "      <th>3</th>\n",
       "      <th>4</th>\n",
       "      <th>5</th>\n",
       "      <th>6</th>\n",
       "    </tr>\n",
       "  </thead>\n",
       "  <tbody>\n",
       "    <tr>\n",
       "      <th>0</th>\n",
       "      <td>Internet and social media</td>\n",
       "      <td>Television programs and documentaries</td>\n",
       "      <td>Books and newspapers</td>\n",
       "      <td>Radio</td>\n",
       "      <td>Educational programs and conferences</td>\n",
       "      <td>None</td>\n",
       "      <td>None</td>\n",
       "    </tr>\n",
       "    <tr>\n",
       "      <th>1</th>\n",
       "      <td>Internet and social media</td>\n",
       "      <td>Books and newspapers</td>\n",
       "      <td>Family and friends</td>\n",
       "      <td>Educational programs and conferences</td>\n",
       "      <td>None</td>\n",
       "      <td>None</td>\n",
       "      <td>None</td>\n",
       "    </tr>\n",
       "    <tr>\n",
       "      <th>2</th>\n",
       "      <td>Internet and social media</td>\n",
       "      <td>Television programs and documentaries</td>\n",
       "      <td>Books and newspapers</td>\n",
       "      <td>Educational programs and conferences</td>\n",
       "      <td>None</td>\n",
       "      <td>None</td>\n",
       "      <td>None</td>\n",
       "    </tr>\n",
       "    <tr>\n",
       "      <th>3</th>\n",
       "      <td>Internet and social media</td>\n",
       "      <td>Educational programs and conferences</td>\n",
       "      <td>None</td>\n",
       "      <td>None</td>\n",
       "      <td>None</td>\n",
       "      <td>None</td>\n",
       "      <td>None</td>\n",
       "    </tr>\n",
       "    <tr>\n",
       "      <th>4</th>\n",
       "      <td>Internet and social media</td>\n",
       "      <td>Television programs and documentaries</td>\n",
       "      <td>Books and newspapers</td>\n",
       "      <td>Educational programs and conferences</td>\n",
       "      <td>None</td>\n",
       "      <td>None</td>\n",
       "      <td>None</td>\n",
       "    </tr>\n",
       "  </tbody>\n",
       "</table>\n",
       "</div>"
      ],
      "text/plain": [
       "                           0                                      1  \\\n",
       "0  Internet and social media  Television programs and documentaries   \n",
       "1  Internet and social media                   Books and newspapers   \n",
       "2  Internet and social media  Television programs and documentaries   \n",
       "3  Internet and social media   Educational programs and conferences   \n",
       "4  Internet and social media  Television programs and documentaries   \n",
       "\n",
       "                      2                                     3  \\\n",
       "0  Books and newspapers                                 Radio   \n",
       "1    Family and friends  Educational programs and conferences   \n",
       "2  Books and newspapers  Educational programs and conferences   \n",
       "3                  None                                  None   \n",
       "4  Books and newspapers  Educational programs and conferences   \n",
       "\n",
       "                                      4     5     6  \n",
       "0  Educational programs and conferences  None  None  \n",
       "1                                  None  None  None  \n",
       "2                                  None  None  None  \n",
       "3                                  None  None  None  \n",
       "4                                  None  None  None  "
      ]
     },
     "execution_count": 77,
     "metadata": {},
     "output_type": "execute_result"
    }
   ],
   "source": [
    "df_info=df[\"Q18\"].str.split(', ',expand=True)\n",
    "df_info.head()"
   ]
  },
  {
   "cell_type": "code",
   "execution_count": 78,
   "id": "f3c2f340",
   "metadata": {},
   "outputs": [],
   "source": [
    "df_info=pd.melt(df_info)"
   ]
  },
  {
   "cell_type": "code",
   "execution_count": 79,
   "id": "110a23c7",
   "metadata": {},
   "outputs": [
    {
     "data": {
      "text/plain": [
       "Internet and social media                214\n",
       "Television programs and documentaries    163\n",
       "Educational programs and conferences     153\n",
       "Books and newspapers                     119\n",
       "Radio                                     84\n",
       "Family and friends                        73\n",
       "Others                                     7\n",
       "I don't care about climate change          2\n",
       "Name: value, dtype: int64"
      ]
     },
     "execution_count": 79,
     "metadata": {},
     "output_type": "execute_result"
    }
   ],
   "source": [
    "df_info=df_info[\"value\"].value_counts()\n",
    "df_info"
   ]
  },
  {
   "cell_type": "code",
   "execution_count": 80,
   "id": "83c08d8b",
   "metadata": {},
   "outputs": [],
   "source": [
    "df_1=df_info.to_frame()"
   ]
  },
  {
   "cell_type": "code",
   "execution_count": 81,
   "id": "7175f7ff",
   "metadata": {},
   "outputs": [
    {
     "data": {
      "text/plain": [
       "Text(0.5, 1.0, 'Percentage of Participants on Source of Information')"
      ]
     },
     "execution_count": 81,
     "metadata": {},
     "output_type": "execute_result"
    },
    {
     "data": {
      "image/png": "[encoded data removed]",
      "text/plain": [
       "<Figure size 640x480 with 1 Axes>"
      ]
     },
     "metadata": {},
     "output_type": "display_data"
    }
   ],
   "source": [
    "x=df_1.index\n",
    "y=(df_1[\"value\"]/232)*100\n",
    "\n",
    "plt.barh(x,y)\n",
    "plt.title(\"Percentage of Participants on Source of Information\")"
   ]
  },
  {
   "cell_type": "markdown",
   "id": "9ab5e9a8",
   "metadata": {},
   "source": [
    "### CONCLUSION"
   ]
  },
  {
   "cell_type": "markdown",
   "id": "c16ca48a",
   "metadata": {},
   "source": [
    "* Participants from non-life science backgrounds have a lower level of knowledge on the impact of climate change on the emergence of infectious diseases than participants from life science backgrounds.\n",
    "\n",
    "* No significant difference in knowledge among educational levels\n",
    "\n",
    "* Significant difference between most represented countries\n",
    "Possible causes: sociodemographic background, EID hotspots\n",
    "\n",
    "\n",
    "* General public not fully aware of effect of climate change on emergence of infectious diseases"
   ]
  },
  {
   "cell_type": "code",
   "execution_count": 84,
   "id": "9787472b",
   "metadata": {},
   "outputs": [
    {
     "data": {
      "text/plain": [
       "array(['Azerbaijan', 'Bangladesh', 'Eritrea', 'Ethiopia', 'Finland',\n",
       "       'Germany', 'Ireland', 'Italy', 'Kenya', 'Nepal', 'Netherlands',\n",
       "       'Nigeria', 'Russia', 'South Africa', 'Spain', 'Tanzania', 'Turkey',\n",
       "       'Uganda', 'USA', 'Bolivia', 'France', 'Pakistan', 'Rwanda',\n",
       "       'United Kingdom'], dtype=object)"
      ]
     },
     "execution_count": 84,
     "metadata": {},
     "output_type": "execute_result"
    }
   ],
   "source": [
    "    df[\"Country\"].unique()"
   ]
  }
 ],
 "metadata": {
  "kernelspec": {
   "display_name": "Python 3 (ipykernel)",
   "language": "python",
   "name": "python3"
  },
  "language_info": {
   "codemirror_mode": {
    "name": "ipython",
    "version": 3
   },
   "file_extension": ".py",
   "mimetype": "text/x-python",
   "name": "python",
   "nbconvert_exporter": "python",
   "pygments_lexer": "ipython3",
   "version": "3.9.13"
  }
 },
 "nbformat": 4,
 "nbformat_minor": 5
}
