{
 "cells": [
  {
   "cell_type": "markdown",
   "id": "577297f4",
   "metadata": {},
   "source": [
    "### This project is a group assignment carried out to evaluate the knowledge of the General Public on the Impact of Climate Change on Emerging Infectious Diseases\n",
    "\n",
    "#### The data were obtained by questionnaire sampling."
   ]
  },
  {
   "cell_type": "code",
   "execution_count": 159,
   "id": "33087bb7",
   "metadata": {},
   "outputs": [],
   "source": [
    "import pandas as pd\n",
    "import matplotlib.pyplot as plt\n",
    "import seaborn as sns\n",
    "import plotly.express as px\n",
    "from scipy.stats import sem\n",
    "from scipy.stats import ttest_ind\n",
    "from scipy.stats import f_oneway"
   ]
  },
  {
   "cell_type": "markdown",
   "id": "3b1f5123",
   "metadata": {},
   "source": [
    "### DATA CLEANING"
   ]
  },
  {
   "cell_type": "code",
   "execution_count": 81,
   "id": "f78b0b1a",
   "metadata": {
    "scrolled": true
   },
   "outputs": [
    {
     "data": {
      "text/html": [
       "<div>\n",
       "<style scoped>\n",
       "    .dataframe tbody tr th:only-of-type {\n",
       "        vertical-align: middle;\n",
       "    }\n",
       "\n",
       "    .dataframe tbody tr th {\n",
       "        vertical-align: top;\n",
       "    }\n",
       "\n",
       "    .dataframe thead th {\n",
       "        text-align: right;\n",
       "    }\n",
       "</style>\n",
       "<table border=\"1\" class=\"dataframe\">\n",
       "  <thead>\n",
       "    <tr style=\"text-align: right;\">\n",
       "      <th></th>\n",
       "      <th>Gender</th>\n",
       "      <th>Country</th>\n",
       "      <th>Age</th>\n",
       "      <th>Education</th>\n",
       "      <th>Background</th>\n",
       "      <th>Occupation</th>\n",
       "      <th>Field</th>\n",
       "      <th>The climate has been changing in the past years</th>\n",
       "      <th>Human activities have contributed to climate change</th>\n",
       "      <th>Which of the following are the main drivers of climate change?\\nSelect all that apply.</th>\n",
       "      <th>...</th>\n",
       "      <th>Exposure to ultraviolet (UV) lights increases the chance of getting infectious diseases.</th>\n",
       "      <th>Increases in sea level can increase the spread of infectious disease.</th>\n",
       "      <th>Exposure to the constant internet network increases the chance of getting infectious diseases.</th>\n",
       "      <th>Increase in the precipitation (rainfalls) affects the spread of infectious disease.</th>\n",
       "      <th>Changes in temperature levels affect the spread of infectious disease.</th>\n",
       "      <th>Deforestation can cause emerging diseases (newly appeared diseases or diseases that were available but are rapidly changing in incidence).</th>\n",
       "      <th>Flooding prevents the spread of infectious diseases</th>\n",
       "      <th>Changes in humidity levels can affect the spread of infectious diseases</th>\n",
       "      <th>Where do you mainly get the most common information on climate change??</th>\n",
       "      <th>If others, specify:....</th>\n",
       "    </tr>\n",
       "  </thead>\n",
       "  <tbody>\n",
       "    <tr>\n",
       "      <th>0</th>\n",
       "      <td>Male</td>\n",
       "      <td>Azerbaijan</td>\n",
       "      <td>41</td>\n",
       "      <td>PG</td>\n",
       "      <td>Veterinary</td>\n",
       "      <td>Veterinarian</td>\n",
       "      <td>Life science</td>\n",
       "      <td>True</td>\n",
       "      <td>True</td>\n",
       "      <td>Burning fossil fuels, Carbon emission</td>\n",
       "      <td>...</td>\n",
       "      <td>True</td>\n",
       "      <td>True</td>\n",
       "      <td>False</td>\n",
       "      <td>True</td>\n",
       "      <td>True</td>\n",
       "      <td>True</td>\n",
       "      <td>False</td>\n",
       "      <td>True</td>\n",
       "      <td>Internet and social media, Television programs...</td>\n",
       "      <td>NaN</td>\n",
       "    </tr>\n",
       "    <tr>\n",
       "      <th>1</th>\n",
       "      <td>Male</td>\n",
       "      <td>Azerbaijan</td>\n",
       "      <td>45</td>\n",
       "      <td>PhD</td>\n",
       "      <td>Microbiol8gy</td>\n",
       "      <td>Lectuter</td>\n",
       "      <td>Life science</td>\n",
       "      <td>True</td>\n",
       "      <td>True</td>\n",
       "      <td>Burning fossil fuels, Carbon emission, Increas...</td>\n",
       "      <td>...</td>\n",
       "      <td>False</td>\n",
       "      <td>True</td>\n",
       "      <td>False</td>\n",
       "      <td>True</td>\n",
       "      <td>I don't know</td>\n",
       "      <td>True</td>\n",
       "      <td>False</td>\n",
       "      <td>True</td>\n",
       "      <td>Internet and social media, Books and newspaper...</td>\n",
       "      <td>NaN</td>\n",
       "    </tr>\n",
       "    <tr>\n",
       "      <th>2</th>\n",
       "      <td>Female</td>\n",
       "      <td>Azerbaijan</td>\n",
       "      <td>33</td>\n",
       "      <td>Masters</td>\n",
       "      <td>Biology</td>\n",
       "      <td>Teacher</td>\n",
       "      <td>Life science</td>\n",
       "      <td>True</td>\n",
       "      <td>True</td>\n",
       "      <td>Burning fossil fuels, Carbon emission, Utiliza...</td>\n",
       "      <td>...</td>\n",
       "      <td>True</td>\n",
       "      <td>I don't know</td>\n",
       "      <td>False</td>\n",
       "      <td>True</td>\n",
       "      <td>True</td>\n",
       "      <td>True</td>\n",
       "      <td>I don't know</td>\n",
       "      <td>True</td>\n",
       "      <td>Internet and social media, Television programs...</td>\n",
       "      <td>NaN</td>\n",
       "    </tr>\n",
       "    <tr>\n",
       "      <th>3</th>\n",
       "      <td>Male</td>\n",
       "      <td>Azerbaijan</td>\n",
       "      <td>29</td>\n",
       "      <td>Masters</td>\n",
       "      <td>Microbiology</td>\n",
       "      <td>Researcher</td>\n",
       "      <td>Life science</td>\n",
       "      <td>True</td>\n",
       "      <td>True</td>\n",
       "      <td>Carbon emission</td>\n",
       "      <td>...</td>\n",
       "      <td>True</td>\n",
       "      <td>True</td>\n",
       "      <td>I don't know</td>\n",
       "      <td>True</td>\n",
       "      <td>True</td>\n",
       "      <td>True</td>\n",
       "      <td>True</td>\n",
       "      <td>True</td>\n",
       "      <td>Internet and social media, Educational program...</td>\n",
       "      <td>NaN</td>\n",
       "    </tr>\n",
       "    <tr>\n",
       "      <th>4</th>\n",
       "      <td>Female</td>\n",
       "      <td>Bangladesh</td>\n",
       "      <td>27</td>\n",
       "      <td>Masters</td>\n",
       "      <td>Biology</td>\n",
       "      <td>Student</td>\n",
       "      <td>Life science</td>\n",
       "      <td>True</td>\n",
       "      <td>True</td>\n",
       "      <td>Burning fossil fuels, Carbon emission, Increas...</td>\n",
       "      <td>...</td>\n",
       "      <td>False</td>\n",
       "      <td>I don't know</td>\n",
       "      <td>False</td>\n",
       "      <td>I don't know</td>\n",
       "      <td>True</td>\n",
       "      <td>True</td>\n",
       "      <td>False</td>\n",
       "      <td>True</td>\n",
       "      <td>Internet and social media, Television programs...</td>\n",
       "      <td>NaN</td>\n",
       "    </tr>\n",
       "  </tbody>\n",
       "</table>\n",
       "<p>5 rows × 26 columns</p>\n",
       "</div>"
      ],
      "text/plain": [
       "   Gender      Country  Age Education    Background    Occupation  \\\n",
       "0    Male   Azerbaijan   41        PG    Veterinary  Veterinarian   \n",
       "1    Male   Azerbaijan   45       PhD  Microbiol8gy      Lectuter   \n",
       "2  Female   Azerbaijan   33   Masters       Biology       Teacher   \n",
       "3    Male   Azerbaijan   29   Masters  Microbiology    Researcher   \n",
       "4  Female  Bangladesh    27   Masters      Biology       Student    \n",
       "\n",
       "          Field The climate has been changing in the past years  \\\n",
       "0  Life science                                            True   \n",
       "1  Life science                                            True   \n",
       "2  Life science                                            True   \n",
       "3  Life science                                            True   \n",
       "4  Life science                                            True   \n",
       "\n",
       "   Human activities have contributed to climate change  \\\n",
       "0                                               True     \n",
       "1                                               True     \n",
       "2                                               True     \n",
       "3                                               True     \n",
       "4                                               True     \n",
       "\n",
       "  Which of the following are the main drivers of climate change?\\nSelect all that apply.  \\\n",
       "0              Burning fossil fuels, Carbon emission                                       \n",
       "1  Burning fossil fuels, Carbon emission, Increas...                                       \n",
       "2  Burning fossil fuels, Carbon emission, Utiliza...                                       \n",
       "3                                    Carbon emission                                       \n",
       "4  Burning fossil fuels, Carbon emission, Increas...                                       \n",
       "\n",
       "   ...  \\\n",
       "0  ...   \n",
       "1  ...   \n",
       "2  ...   \n",
       "3  ...   \n",
       "4  ...   \n",
       "\n",
       "  Exposure to ultraviolet (UV) lights increases the chance of getting infectious diseases.   \\\n",
       "0                                               True                                          \n",
       "1                                              False                                          \n",
       "2                                               True                                          \n",
       "3                                               True                                          \n",
       "4                                              False                                          \n",
       "\n",
       "  Increases in sea level can increase the spread of infectious disease.  \\\n",
       "0                                               True                      \n",
       "1                                               True                      \n",
       "2                                       I don't know                      \n",
       "3                                               True                      \n",
       "4                                       I don't know                      \n",
       "\n",
       "  Exposure to the constant internet network increases the chance of getting infectious diseases.  \\\n",
       "0                                              False                                               \n",
       "1                                              False                                               \n",
       "2                                              False                                               \n",
       "3                                       I don't know                                               \n",
       "4                                              False                                               \n",
       "\n",
       "  Increase in the precipitation (rainfalls) affects the spread of infectious disease.  \\\n",
       "0                                               True                                    \n",
       "1                                               True                                    \n",
       "2                                               True                                    \n",
       "3                                               True                                    \n",
       "4                                       I don't know                                    \n",
       "\n",
       "  Changes in temperature levels affect the spread of infectious disease.  \\\n",
       "0                                               True                       \n",
       "1                                       I don't know                       \n",
       "2                                               True                       \n",
       "3                                               True                       \n",
       "4                                               True                       \n",
       "\n",
       "  Deforestation can cause emerging diseases (newly appeared diseases or diseases that were available but are rapidly changing in incidence).   \\\n",
       "0                                               True                                                                                            \n",
       "1                                               True                                                                                            \n",
       "2                                               True                                                                                            \n",
       "3                                               True                                                                                            \n",
       "4                                               True                                                                                            \n",
       "\n",
       "  Flooding prevents the spread of infectious diseases  \\\n",
       "0                                              False    \n",
       "1                                              False    \n",
       "2                                       I don't know    \n",
       "3                                               True    \n",
       "4                                              False    \n",
       "\n",
       "  Changes in humidity levels can affect the spread of infectious diseases  \\\n",
       "0                                               True                        \n",
       "1                                               True                        \n",
       "2                                               True                        \n",
       "3                                               True                        \n",
       "4                                               True                        \n",
       "\n",
       "  Where do you mainly get the most common information on climate change??  \\\n",
       "0  Internet and social media, Television programs...                        \n",
       "1  Internet and social media, Books and newspaper...                        \n",
       "2  Internet and social media, Television programs...                        \n",
       "3  Internet and social media, Educational program...                        \n",
       "4  Internet and social media, Television programs...                        \n",
       "\n",
       "  If others, specify:....  \n",
       "0                     NaN  \n",
       "1                     NaN  \n",
       "2                     NaN  \n",
       "3                     NaN  \n",
       "4                     NaN  \n",
       "\n",
       "[5 rows x 26 columns]"
      ]
     },
     "execution_count": 81,
     "metadata": {},
     "output_type": "execute_result"
    }
   ],
   "source": [
    "df=pd.read_excel(\"Survey.xlsx\")\n",
    "\n",
    "df.head()"
   ]
  },
  {
   "cell_type": "markdown",
   "id": "8e0c2e9d",
   "metadata": {},
   "source": [
    "##### Rename the columns to become more readable"
   ]
  },
  {
   "cell_type": "code",
   "execution_count": 181,
   "id": "637d9be5-24a3-415b-be8d-95e4ea4f47f6",
   "metadata": {},
   "outputs": [
    {
     "data": {
      "text/plain": [
       "(231, 30)"
      ]
     },
     "execution_count": 181,
     "metadata": {},
     "output_type": "execute_result"
    }
   ],
   "source": [
    "df.shape"
   ]
  },
  {
   "cell_type": "code",
   "execution_count": 82,
   "id": "aac9ec94",
   "metadata": {
    "scrolled": true
   },
   "outputs": [
    {
     "data": {
      "text/plain": [
       "Index(['Gender', 'Country', 'Age', 'Education', 'Background', 'Occupation',\n",
       "       'Field', 'The climate has been changing in the past years',\n",
       "       ' Human activities have contributed to climate change',\n",
       "       'Which of the following are the main drivers of climate change?\\nSelect all that apply.',\n",
       "       'What are the effects of climate change?\\nSelect all that apply.',\n",
       "       'Which of the following are infectious diseases?\\nSelect all that apply',\n",
       "       'Which of the the following diseases outbreaks you have heard about\\nSelect all that apply',\n",
       "       'What risk factors are associated with getting an infectious disease?\\nSelect all that apply',\n",
       "       'Disease transmission can occur via:\\nSelect all that apply',\n",
       "       'The emergence of infectious diseases can be linked to the climate change.',\n",
       "       'Exposure to ultraviolet (UV) lights increases the chance of getting infectious diseases. ',\n",
       "       'Increases in sea level can increase the spread of infectious disease.',\n",
       "       'Exposure to the constant internet network increases the chance of getting infectious diseases.',\n",
       "       'Increase in the precipitation (rainfalls) affects the spread of infectious disease.',\n",
       "       'Changes in temperature levels affect the spread of infectious disease.',\n",
       "       'Deforestation can cause emerging diseases (newly appeared diseases or diseases that were available but are rapidly changing in incidence). ',\n",
       "       'Flooding prevents the spread of infectious diseases',\n",
       "       'Changes in humidity levels can affect the spread of infectious diseases',\n",
       "       'Where do you mainly get the most common information on climate change??',\n",
       "       'If others, specify:....'],\n",
       "      dtype='object')"
      ]
     },
     "execution_count": 82,
     "metadata": {},
     "output_type": "execute_result"
    }
   ],
   "source": [
    "df.columns"
   ]
  },
  {
   "cell_type": "code",
   "execution_count": 83,
   "id": "b30e0c1b",
   "metadata": {},
   "outputs": [],
   "source": [
    "df.rename(columns={\"The climate has been changing in the past years\":\"Q1\",\n",
    "                  ' Human activities have contributed to climate change':\"Q2\",\n",
    "                  'Which of the following are the main drivers of climate change?\\nSelect all that apply.':\"Q3\",\n",
    "                  'What are the effects of climate change?\\nSelect all that apply.':\"Q4\",\n",
    "                  'Which of the following are infectious diseases?\\nSelect all that apply':'Q5',\n",
    "                  'Which of the the following diseases outbreaks you have heard about\\nSelect all that apply':'Q6',\n",
    "                  'What risk factors are associated with getting an infectious disease?\\nSelect all that apply':\"Q7\",\n",
    "                  \"Disease transmission can occur via:\\nSelect all that apply\":\"Q8\",\n",
    "                  \"The emergence of infectious diseases can be linked to the climate change.\":'Q9',\n",
    "                  'Exposure to ultraviolet (UV) lights increases the chance of getting infectious diseases. ':\"Q10\",\n",
    "                  'Increases in sea level can increase the spread of infectious disease.':\"Q11\",\n",
    "                  'Exposure to the constant internet network increases the chance of getting infectious diseases.':\"Q12\",\n",
    "                  'Increase in the precipitation (rainfalls) affects the spread of infectious disease.':\"Q13\",\n",
    "                  'Changes in temperature levels affect the spread of infectious disease.':\"Q14\",\n",
    "                  'Deforestation can cause emerging diseases (newly appeared diseases or diseases that were available but are rapidly changing in incidence). ':\"Q15\",\n",
    "                  'Flooding prevents the spread of infectious diseases':\"Q16\",\n",
    "                  'Changes in humidity levels can affect the spread of infectious diseases':\"Q17\",\n",
    "                  'Where do you mainly get the most common information on climate change??':'Q18',\n",
    "                  'If others, specify:....':'Q19'},inplace=True)"
   ]
  },
  {
   "cell_type": "code",
   "execution_count": 84,
   "id": "42b4ee76",
   "metadata": {},
   "outputs": [
    {
     "data": {
      "text/html": [
       "<div>\n",
       "<style scoped>\n",
       "    .dataframe tbody tr th:only-of-type {\n",
       "        vertical-align: middle;\n",
       "    }\n",
       "\n",
       "    .dataframe tbody tr th {\n",
       "        vertical-align: top;\n",
       "    }\n",
       "\n",
       "    .dataframe thead th {\n",
       "        text-align: right;\n",
       "    }\n",
       "</style>\n",
       "<table border=\"1\" class=\"dataframe\">\n",
       "  <thead>\n",
       "    <tr style=\"text-align: right;\">\n",
       "      <th></th>\n",
       "      <th>Gender</th>\n",
       "      <th>Country</th>\n",
       "      <th>Age</th>\n",
       "      <th>Education</th>\n",
       "      <th>Background</th>\n",
       "      <th>Occupation</th>\n",
       "      <th>Field</th>\n",
       "      <th>Q1</th>\n",
       "      <th>Q2</th>\n",
       "      <th>Q3</th>\n",
       "      <th>...</th>\n",
       "      <th>Q10</th>\n",
       "      <th>Q11</th>\n",
       "      <th>Q12</th>\n",
       "      <th>Q13</th>\n",
       "      <th>Q14</th>\n",
       "      <th>Q15</th>\n",
       "      <th>Q16</th>\n",
       "      <th>Q17</th>\n",
       "      <th>Q18</th>\n",
       "      <th>Q19</th>\n",
       "    </tr>\n",
       "  </thead>\n",
       "  <tbody>\n",
       "    <tr>\n",
       "      <th>0</th>\n",
       "      <td>Male</td>\n",
       "      <td>Azerbaijan</td>\n",
       "      <td>41</td>\n",
       "      <td>PG</td>\n",
       "      <td>Veterinary</td>\n",
       "      <td>Veterinarian</td>\n",
       "      <td>Life science</td>\n",
       "      <td>True</td>\n",
       "      <td>True</td>\n",
       "      <td>Burning fossil fuels, Carbon emission</td>\n",
       "      <td>...</td>\n",
       "      <td>True</td>\n",
       "      <td>True</td>\n",
       "      <td>False</td>\n",
       "      <td>True</td>\n",
       "      <td>True</td>\n",
       "      <td>True</td>\n",
       "      <td>False</td>\n",
       "      <td>True</td>\n",
       "      <td>Internet and social media, Television programs...</td>\n",
       "      <td>NaN</td>\n",
       "    </tr>\n",
       "    <tr>\n",
       "      <th>1</th>\n",
       "      <td>Male</td>\n",
       "      <td>Azerbaijan</td>\n",
       "      <td>45</td>\n",
       "      <td>PhD</td>\n",
       "      <td>Microbiol8gy</td>\n",
       "      <td>Lectuter</td>\n",
       "      <td>Life science</td>\n",
       "      <td>True</td>\n",
       "      <td>True</td>\n",
       "      <td>Burning fossil fuels, Carbon emission, Increas...</td>\n",
       "      <td>...</td>\n",
       "      <td>False</td>\n",
       "      <td>True</td>\n",
       "      <td>False</td>\n",
       "      <td>True</td>\n",
       "      <td>I don't know</td>\n",
       "      <td>True</td>\n",
       "      <td>False</td>\n",
       "      <td>True</td>\n",
       "      <td>Internet and social media, Books and newspaper...</td>\n",
       "      <td>NaN</td>\n",
       "    </tr>\n",
       "    <tr>\n",
       "      <th>2</th>\n",
       "      <td>Female</td>\n",
       "      <td>Azerbaijan</td>\n",
       "      <td>33</td>\n",
       "      <td>Masters</td>\n",
       "      <td>Biology</td>\n",
       "      <td>Teacher</td>\n",
       "      <td>Life science</td>\n",
       "      <td>True</td>\n",
       "      <td>True</td>\n",
       "      <td>Burning fossil fuels, Carbon emission, Utiliza...</td>\n",
       "      <td>...</td>\n",
       "      <td>True</td>\n",
       "      <td>I don't know</td>\n",
       "      <td>False</td>\n",
       "      <td>True</td>\n",
       "      <td>True</td>\n",
       "      <td>True</td>\n",
       "      <td>I don't know</td>\n",
       "      <td>True</td>\n",
       "      <td>Internet and social media, Television programs...</td>\n",
       "      <td>NaN</td>\n",
       "    </tr>\n",
       "    <tr>\n",
       "      <th>3</th>\n",
       "      <td>Male</td>\n",
       "      <td>Azerbaijan</td>\n",
       "      <td>29</td>\n",
       "      <td>Masters</td>\n",
       "      <td>Microbiology</td>\n",
       "      <td>Researcher</td>\n",
       "      <td>Life science</td>\n",
       "      <td>True</td>\n",
       "      <td>True</td>\n",
       "      <td>Carbon emission</td>\n",
       "      <td>...</td>\n",
       "      <td>True</td>\n",
       "      <td>True</td>\n",
       "      <td>I don't know</td>\n",
       "      <td>True</td>\n",
       "      <td>True</td>\n",
       "      <td>True</td>\n",
       "      <td>True</td>\n",
       "      <td>True</td>\n",
       "      <td>Internet and social media, Educational program...</td>\n",
       "      <td>NaN</td>\n",
       "    </tr>\n",
       "    <tr>\n",
       "      <th>4</th>\n",
       "      <td>Female</td>\n",
       "      <td>Bangladesh</td>\n",
       "      <td>27</td>\n",
       "      <td>Masters</td>\n",
       "      <td>Biology</td>\n",
       "      <td>Student</td>\n",
       "      <td>Life science</td>\n",
       "      <td>True</td>\n",
       "      <td>True</td>\n",
       "      <td>Burning fossil fuels, Carbon emission, Increas...</td>\n",
       "      <td>...</td>\n",
       "      <td>False</td>\n",
       "      <td>I don't know</td>\n",
       "      <td>False</td>\n",
       "      <td>I don't know</td>\n",
       "      <td>True</td>\n",
       "      <td>True</td>\n",
       "      <td>False</td>\n",
       "      <td>True</td>\n",
       "      <td>Internet and social media, Television programs...</td>\n",
       "      <td>NaN</td>\n",
       "    </tr>\n",
       "  </tbody>\n",
       "</table>\n",
       "<p>5 rows × 26 columns</p>\n",
       "</div>"
      ],
      "text/plain": [
       "   Gender      Country  Age Education    Background    Occupation  \\\n",
       "0    Male   Azerbaijan   41        PG    Veterinary  Veterinarian   \n",
       "1    Male   Azerbaijan   45       PhD  Microbiol8gy      Lectuter   \n",
       "2  Female   Azerbaijan   33   Masters       Biology       Teacher   \n",
       "3    Male   Azerbaijan   29   Masters  Microbiology    Researcher   \n",
       "4  Female  Bangladesh    27   Masters      Biology       Student    \n",
       "\n",
       "          Field    Q1    Q2  \\\n",
       "0  Life science  True  True   \n",
       "1  Life science  True  True   \n",
       "2  Life science  True  True   \n",
       "3  Life science  True  True   \n",
       "4  Life science  True  True   \n",
       "\n",
       "                                                  Q3  ...    Q10  \\\n",
       "0              Burning fossil fuels, Carbon emission  ...   True   \n",
       "1  Burning fossil fuels, Carbon emission, Increas...  ...  False   \n",
       "2  Burning fossil fuels, Carbon emission, Utiliza...  ...   True   \n",
       "3                                    Carbon emission  ...   True   \n",
       "4  Burning fossil fuels, Carbon emission, Increas...  ...  False   \n",
       "\n",
       "            Q11           Q12           Q13           Q14   Q15           Q16  \\\n",
       "0          True         False          True          True  True         False   \n",
       "1          True         False          True  I don't know  True         False   \n",
       "2  I don't know         False          True          True  True  I don't know   \n",
       "3          True  I don't know          True          True  True          True   \n",
       "4  I don't know         False  I don't know          True  True         False   \n",
       "\n",
       "    Q17                                                Q18  Q19  \n",
       "0  True  Internet and social media, Television programs...  NaN  \n",
       "1  True  Internet and social media, Books and newspaper...  NaN  \n",
       "2  True  Internet and social media, Television programs...  NaN  \n",
       "3  True  Internet and social media, Educational program...  NaN  \n",
       "4  True  Internet and social media, Television programs...  NaN  \n",
       "\n",
       "[5 rows x 26 columns]"
      ]
     },
     "execution_count": 84,
     "metadata": {},
     "output_type": "execute_result"
    }
   ],
   "source": [
    "df.head()"
   ]
  },
  {
   "cell_type": "code",
   "execution_count": 85,
   "id": "232ce8d5",
   "metadata": {},
   "outputs": [
    {
     "data": {
      "text/plain": [
       "Gender          0\n",
       "Country         0\n",
       "Age             0\n",
       "Education       0\n",
       "Background      0\n",
       "Occupation      0\n",
       "Field           1\n",
       "Q1              0\n",
       "Q2              0\n",
       "Q3              0\n",
       "Q4              0\n",
       "Q5              0\n",
       "Q6              0\n",
       "Q7              0\n",
       "Q8              0\n",
       "Q9              0\n",
       "Q10             0\n",
       "Q11             0\n",
       "Q12             0\n",
       "Q13             0\n",
       "Q14             0\n",
       "Q15             0\n",
       "Q16             0\n",
       "Q17             0\n",
       "Q18             0\n",
       "Q19           225\n",
       "dtype: int64"
      ]
     },
     "execution_count": 85,
     "metadata": {},
     "output_type": "execute_result"
    }
   ],
   "source": [
    "#checking the dataframe for null values\n",
    "df.isna().sum()\n",
    "#only one row in Field has a null value, dropping it"
   ]
  },
  {
   "cell_type": "code",
   "execution_count": 86,
   "id": "80353761",
   "metadata": {},
   "outputs": [],
   "source": [
    "df.drop(231,inplace=True)"
   ]
  },
  {
   "cell_type": "code",
   "execution_count": 87,
   "id": "7e4d1902",
   "metadata": {},
   "outputs": [
    {
     "data": {
      "text/plain": [
       "array(['Azerbaijan', 'Bangladesh ', 'Eritrea', 'Ethiopia', 'Finland ',\n",
       "       'Germany', 'Ireland ', 'Italy', 'Italy ', 'Kenya ', 'Kenya',\n",
       "       'Nepal', 'Netherlands', 'Nigeria', 'Russia', 'South African ',\n",
       "       'Spain', 'Tanzania', 'Turkey', 'Uganda', 'USA ', 'Bolivia',\n",
       "       'France', 'Germany ', 'Pakistan ', 'Rwanda', 'United Kingdom',\n",
       "       'United Kingdom '], dtype=object)"
      ]
     },
     "execution_count": 87,
     "metadata": {},
     "output_type": "execute_result"
    }
   ],
   "source": [
    "#cleaning the country column\n",
    "df.Country.unique()"
   ]
  },
  {
   "cell_type": "code",
   "execution_count": 88,
   "id": "bbf4fdcb",
   "metadata": {},
   "outputs": [],
   "source": [
    "df[\"Country\"]=df[\"Country\"].str.strip()"
   ]
  },
  {
   "cell_type": "code",
   "execution_count": 89,
   "id": "9dcddffa",
   "metadata": {},
   "outputs": [],
   "source": [
    "df['Country']=df[\"Country\"].replace({\"South African\":\"South Africa\"})"
   ]
  },
  {
   "cell_type": "code",
   "execution_count": 90,
   "id": "cc086f21",
   "metadata": {},
   "outputs": [
    {
     "data": {
      "text/plain": [
       "array(['Azerbaijan', 'Bangladesh', 'Eritrea', 'Ethiopia', 'Finland',\n",
       "       'Germany', 'Ireland', 'Italy', 'Kenya', 'Nepal', 'Netherlands',\n",
       "       'Nigeria', 'Russia', 'South Africa', 'Spain', 'Tanzania', 'Turkey',\n",
       "       'Uganda', 'USA', 'Bolivia', 'France', 'Pakistan', 'Rwanda',\n",
       "       'United Kingdom'], dtype=object)"
      ]
     },
     "execution_count": 90,
     "metadata": {},
     "output_type": "execute_result"
    }
   ],
   "source": [
    "df[\"Country\"].unique()"
   ]
  },
  {
   "cell_type": "code",
   "execution_count": 91,
   "id": "dc2cc7bb",
   "metadata": {
    "scrolled": true
   },
   "outputs": [
    {
     "data": {
      "text/plain": [
       "array(['PG', 'PhD', 'Masters', 'Bachelors', 'MD', 'Intern', 'High School',\n",
       "       'HND', 'Diploma', 'Diploma ', 'DIPLOMA ', 'Certificate '],\n",
       "      dtype=object)"
      ]
     },
     "execution_count": 91,
     "metadata": {},
     "output_type": "execute_result"
    }
   ],
   "source": [
    "df[\"Education\"].unique()"
   ]
  },
  {
   "cell_type": "code",
   "execution_count": 92,
   "id": "38b3c7f0",
   "metadata": {},
   "outputs": [],
   "source": [
    "#for the sake of analysis, we split the Educational level into; Post-Graduate, Undergraduate and Others\n",
    "#Post-Graduate: PG, PhD, Masters\n",
    "#Bachelors: Bachelors, MD, HND, Diploma, Certificate\n",
    "#Others: Intern, High School\n",
    "\n",
    "def education (df):\n",
    "    if \"PG\" in df:\n",
    "        return (\"Post-Graduate\")\n",
    "    elif \"PhD\" in df:\n",
    "        return (\"Post-Graduate\")\n",
    "    elif \"Masters\" in df:\n",
    "        return (\"Post-Graduate\")\n",
    "    elif \"Bachelors\" in df:\n",
    "        return (\"Bachelors\")\n",
    "    elif \"MD\" in df:\n",
    "        return (\"Bachelors\")\n",
    "    elif \"Intern\" in df:\n",
    "        return (\"Others\")\n",
    "    elif \"High School\" in df:\n",
    "        return (\"Others\")\n",
    "    elif \"HND\" in df:\n",
    "        return (\"Bachelors\")\n",
    "    elif \"Diploma\" in df:\n",
    "        return (\"Bachelors\")\n",
    "    elif \"Diploma \" in df:\n",
    "        return (\"Bachelors\")\n",
    "    elif \"DIPLOMA\" in df:\n",
    "        return (\"Bachelors\")\n",
    "    elif \"Certificate \" in df:\n",
    "        return (\"Others\")\n",
    "df[\"Education\"]=df[\"Education\"].map(education)"
   ]
  },
  {
   "cell_type": "code",
   "execution_count": 93,
   "id": "ec8da617",
   "metadata": {},
   "outputs": [
    {
     "data": {
      "text/plain": [
       "Bachelors        153\n",
       "Post-Graduate     69\n",
       "Others             9\n",
       "Name: Education, dtype: int64"
      ]
     },
     "execution_count": 93,
     "metadata": {},
     "output_type": "execute_result"
    }
   ],
   "source": [
    "df[\"Education\"].value_counts()"
   ]
  },
  {
   "cell_type": "code",
   "execution_count": 94,
   "id": "3db756f6",
   "metadata": {},
   "outputs": [],
   "source": [
    "#since most of the responses are true or false, we decided to convert to str so we can compute the scores "
   ]
  },
  {
   "cell_type": "code",
   "execution_count": 95,
   "id": "5f0aba0e",
   "metadata": {},
   "outputs": [],
   "source": [
    "df.iloc[:,7:]=df.iloc[:,7:].astype(str)"
   ]
  },
  {
   "cell_type": "markdown",
   "id": "d1cbbe5b",
   "metadata": {},
   "source": [
    "#### Score Guide:\n",
    "##### For every correct answer, each respondents gets +1 and -0.5 if he selects the wrong answer or does not pick the right answer.\n",
    "##### Where the respondents picks \"I don't Know\", he gets 0 and is not penalized"
   ]
  },
  {
   "cell_type": "code",
   "execution_count": 96,
   "id": "8f8db7ed",
   "metadata": {},
   "outputs": [],
   "source": [
    "# Define the function to code \"True\" as 1, \"False\" as -0.5, and \"I don't know\" as 0\n",
    "\n",
    "def coding (df):\n",
    "    if \"True\" in df:\n",
    "        return (1)\n",
    "    elif \"False\" in df:\n",
    "        return (-0.5)\n",
    "    else:\n",
    "        return (0)"
   ]
  },
  {
   "cell_type": "code",
   "execution_count": 97,
   "id": "7a680adc",
   "metadata": {},
   "outputs": [],
   "source": [
    "df[\"Q1\"]=df[\"Q1\"].map(coding)"
   ]
  },
  {
   "cell_type": "code",
   "execution_count": 98,
   "id": "9770efd1",
   "metadata": {},
   "outputs": [],
   "source": [
    "df[\"Q2\"]=df[\"Q2\"].map(coding)"
   ]
  },
  {
   "cell_type": "code",
   "execution_count": 99,
   "id": "8490e3b2",
   "metadata": {},
   "outputs": [],
   "source": [
    "#Q3 is involves selecting multiple options, for every right option selected,he scores +1 or -0.5 for every wrong choice\n",
    "# or no right choice selected"
   ]
  },
  {
   "cell_type": "code",
   "execution_count": 100,
   "id": "0db04a8b",
   "metadata": {},
   "outputs": [],
   "source": [
    "# to score the responses to Q3\n",
    "def scoring (df):\n",
    "    answer=0\n",
    "    if \"Burning fossil fuels\" in df:\n",
    "        answer+=1\n",
    "    elif \"Burning fossil fuels\" not in df:\n",
    "        answer-=0.5\n",
    "    if \"Carbon emission\" in df:\n",
    "        answer+=1\n",
    "    elif \"Carbon emission\" not in df:\n",
    "        answer-=0.5\n",
    "    if \"Increase in animal biodiversity\" in df:\n",
    "        answer-=0.5\n",
    "    elif \"Increase in animal biodiversity\" not in df:\n",
    "        answer+=1\n",
    "    if \"Farming of livestock\" in df:\n",
    "        answer+=1\n",
    "    elif \"Farming of livestock\" not in df:\n",
    "        answer-=0.5\n",
    "    if \"Use of solar panels\" in df:\n",
    "        answer -=0.5\n",
    "    elif \"Use of solar panels\" not in df:\n",
    "        answer+=1\n",
    "    if \"Utilization of automobiles\" in df:\n",
    "        answer+=1\n",
    "    elif \"Utilization of automobiles\" not in df:\n",
    "        answer-=0.5\n",
    "    return answer"
   ]
  },
  {
   "cell_type": "code",
   "execution_count": 101,
   "id": "9d663a49",
   "metadata": {},
   "outputs": [],
   "source": [
    "df[\"Q3\"]=df[\"Q3\"].map(scoring)"
   ]
  },
  {
   "cell_type": "code",
   "execution_count": 102,
   "id": "c4ae4aab",
   "metadata": {},
   "outputs": [],
   "source": [
    "#to score the responses for Q4\n",
    "def scoring_4 (df):\n",
    "    answer=0\n",
    "    if \"Melting of ices\" in df:\n",
    "        answer+=1\n",
    "    elif \"Melting of ices\" not in df:\n",
    "        answer-=0.5\n",
    "    if \"Increase in flooding\" in df:\n",
    "        answer+=1\n",
    "    elif \"Increase in flooding\" not in df:\n",
    "        answer-=0.5\n",
    "    if \"Urbanization\" in df:\n",
    "        answer-=0.5\n",
    "    elif \"Urbanization\" not in df:\n",
    "        answer+=1\n",
    "    if \"Increase of forest fires\" in df:\n",
    "        answer+=1\n",
    "    elif \"Increase of forest fires\" not in df:\n",
    "        answer-=0.5\n",
    "    if \"Increase of human welfare\" in df:\n",
    "        answer-=0.5\n",
    "    elif \"Increase of human welfare\" not in df:\n",
    "        answer+=1\n",
    "    if \"Greenhouse effect\" in df:\n",
    "        answer+=1\n",
    "    elif \"Greenhouse effect\" not in df:\n",
    "        answer-=0.5\n",
    "    return answer"
   ]
  },
  {
   "cell_type": "code",
   "execution_count": 103,
   "id": "f421c2c5",
   "metadata": {},
   "outputs": [],
   "source": [
    "df[\"Q4\"]=df[\"Q4\"].map(scoring_4)"
   ]
  },
  {
   "cell_type": "code",
   "execution_count": 104,
   "id": "46e34e0d",
   "metadata": {},
   "outputs": [],
   "source": [
    "#to score the responses for Q5\n",
    "def scoring_5 (df):\n",
    "    answer=0\n",
    "    if \"Asthma\" in df:\n",
    "        answer-=0.5\n",
    "    elif \"Asthma\" not in df:\n",
    "        answer+=1\n",
    "    if \"Diabetes\" in df:\n",
    "        answer-=0.5\n",
    "    elif \"Diabetes\" not in df:\n",
    "        answer+=1\n",
    "    if \"Human Immunodeficiency Virus (HIV)\" in df:\n",
    "        answer+=1\n",
    "    elif \"Human Immunodeficiency Virus (HIV)\" not in df:\n",
    "        answer-=0.5\n",
    "    if \"Lyme disease\" in df:\n",
    "        answer+=1\n",
    "    elif \"Lyme disease\" not in df:\n",
    "        answer-=0.5\n",
    "    if \"Malaria\" in df:\n",
    "        answer+=1\n",
    "    elif \"Malaria\" not in df:\n",
    "        answer-=0.5\n",
    "    if \"Obesity\" in df:\n",
    "        answer-=0.5\n",
    "    elif \"Obesity\" not in df:\n",
    "        answer+=1\n",
    "    if \"Parkinson's disease\" in df:\n",
    "        answer-=0.5\n",
    "    elif \"Parkinson's disease\" not in df:\n",
    "        answer+=1\n",
    "    if \"Tuberculosis\" in df:\n",
    "        answer+=1\n",
    "    elif \"Tuberculosis\" not in df:\n",
    "        answer-=0.5\n",
    "    return answer"
   ]
  },
  {
   "cell_type": "code",
   "execution_count": 105,
   "id": "752997e4",
   "metadata": {},
   "outputs": [],
   "source": [
    "df[\"Q5\"]=df[\"Q5\"].map(scoring_5)"
   ]
  },
  {
   "cell_type": "code",
   "execution_count": 106,
   "id": "bf198186",
   "metadata": {},
   "outputs": [],
   "source": [
    "#we leave question 6 for analysis"
   ]
  },
  {
   "cell_type": "code",
   "execution_count": 107,
   "id": "bc6b12da",
   "metadata": {},
   "outputs": [],
   "source": [
    "#to score the responses for Q7\n",
    "def scoring_7 (df):\n",
    "    answer=0\n",
    "    if \"Insect bites\" in df:\n",
    "        answer+=1\n",
    "    elif \"Insect bites\" not in df:\n",
    "        answer-=0.5\n",
    "    if \"Dog bites\" in df:\n",
    "        answer+=1\n",
    "    elif \"Dog bites\" not in df:\n",
    "        answer-=0.5\n",
    "    if \"Smoking\" in df:\n",
    "        answer-=0.5\n",
    "    elif \"Smoking\" not in df:\n",
    "        answer+=1\n",
    "    if \"Drinking unclean water\" in df:\n",
    "        answer+=1\n",
    "    elif \"Drinking unclean water\" not in df:\n",
    "        answer-=0.5\n",
    "    if \"Eating undercooked food\" in df:\n",
    "        answer+=1\n",
    "    elif \"Eating undercooked food\" not in df:\n",
    "        answer-=0.5\n",
    "    if \"Not washing your hands often\" in df:\n",
    "        answer+=1\n",
    "    elif \"Not washing your hands often\" not in df:\n",
    "        answer-=0.5\n",
    "    if \"Having sexual intercourse\" in df:\n",
    "        answer+=1\n",
    "    elif \"Having sexual intercourse\" not in df:\n",
    "        answer-=0.5\n",
    "    if \"Sunbathing\" in df:\n",
    "        answer-=0.5\n",
    "    elif \"Sunbathing\" not in df:\n",
    "        answer+=1\n",
    "    if \"Breastfeeding\" in df:\n",
    "        answer+=1\n",
    "    elif \"Breastfeeding\" not in df:\n",
    "        answer-=0.5\n",
    "    if \"Blood transfusion\" in df:\n",
    "        answer+=1\n",
    "    elif \"Blood transfusion\" not in df:\n",
    "        answer-=0.5\n",
    "    if \"None of the above\" in df:\n",
    "        answer+=0\n",
    "    return answer"
   ]
  },
  {
   "cell_type": "code",
   "execution_count": 108,
   "id": "c8d73383",
   "metadata": {},
   "outputs": [],
   "source": [
    "df[\"Q7\"]=df[\"Q7\"].map(scoring_7)"
   ]
  },
  {
   "cell_type": "code",
   "execution_count": 109,
   "id": "2ba5ec80",
   "metadata": {},
   "outputs": [],
   "source": [
    "#to score the responses for Q8\n",
    "def scoring_8 (df):\n",
    "    answer=0\n",
    "    if \"Mosquitoes\" in df:\n",
    "        answer+=1\n",
    "    elif \"Mosquitoes\" not in df:\n",
    "        answer-=0.5\n",
    "    if \"Sand flies\" in df:\n",
    "        answer+=1\n",
    "    elif \"Sand flies\" not in df:\n",
    "        answer-=0.5\n",
    "    if \"Butterflies\" in df:\n",
    "        answer-=0.5\n",
    "    elif \"Butterflies\" not in df:\n",
    "        answer+=1\n",
    "    if \"Bed bugs\" in df:\n",
    "        answer+=1\n",
    "    elif \"Bed bugs\" not in df:\n",
    "        answer-=0.5\n",
    "    if \"Bats\" in df:\n",
    "        answer+=1\n",
    "    elif \"Bats\" not in df:\n",
    "        answer-=0.5\n",
    "    if \"Ticks\" in df:\n",
    "        answer+=1\n",
    "    elif \"Ticks\" not in df:\n",
    "        answer-=0.5\n",
    "    if \"Wasps\" in df:\n",
    "        answer-=0.5\n",
    "    elif \"Wasps\" not in df:\n",
    "        answer+=1\n",
    "    if \"Fleas\" in df:\n",
    "        answer+=1\n",
    "    elif \"Fleas\" not in df:\n",
    "        answer-=0.5\n",
    "    if \"Wild animals\" in df:\n",
    "        answer+=1\n",
    "    elif \"Wild animals\" not in df:\n",
    "        answer-=0.5\n",
    "    if \"Pets\" in df:\n",
    "        answer+=1\n",
    "    elif \"Pets\" not in df:\n",
    "        answer-=0.5\n",
    "    if \"Farm animals\" in df:\n",
    "        answer+=1\n",
    "    elif \"Farm animals\" not in df:\n",
    "        answer-=0.5\n",
    "    if \"None of the above\" in df:\n",
    "        answer+=0\n",
    "    return answer"
   ]
  },
  {
   "cell_type": "code",
   "execution_count": 110,
   "id": "ef5743d6",
   "metadata": {},
   "outputs": [],
   "source": [
    "df[\"Q8\"]=df[\"Q8\"].map(scoring_8)"
   ]
  },
  {
   "cell_type": "code",
   "execution_count": 111,
   "id": "164468b7",
   "metadata": {},
   "outputs": [],
   "source": [
    "df[\"Q9\"]=df[\"Q9\"].map(coding)"
   ]
  },
  {
   "cell_type": "code",
   "execution_count": 112,
   "id": "08361c94",
   "metadata": {},
   "outputs": [],
   "source": [
    "#Q10 is the reverse, we deduct 0.5 for true and give 1 for false\n",
    "def coding_inverse (df):\n",
    "    if \"True\" in df:\n",
    "        return (-0.5)\n",
    "    elif \"False\" in df:\n",
    "        return (1)\n",
    "    else:\n",
    "        return 0"
   ]
  },
  {
   "cell_type": "code",
   "execution_count": 113,
   "id": "e4c6e331",
   "metadata": {},
   "outputs": [],
   "source": [
    "df[\"Q10\"]=df[\"Q10\"].map(coding_inverse)"
   ]
  },
  {
   "cell_type": "code",
   "execution_count": 114,
   "id": "99eb5d93",
   "metadata": {},
   "outputs": [],
   "source": [
    "df[\"Q11\"]=df[\"Q11\"].map(coding)\n",
    "df[\"Q12\"]=df[\"Q12\"].map(coding_inverse)\n",
    "df[\"Q13\"]=df[\"Q13\"].map(coding)\n",
    "df[\"Q14\"]=df[\"Q14\"].map(coding)\n",
    "df[\"Q15\"]=df[\"Q15\"].map(coding)\n",
    "df[\"Q16\"]=df[\"Q16\"].map(coding_inverse)\n",
    "df[\"Q17\"]=df[\"Q17\"].map(coding)"
   ]
  },
  {
   "cell_type": "code",
   "execution_count": 115,
   "id": "8d7fc479",
   "metadata": {},
   "outputs": [],
   "source": [
    "#sum up the scores skipping rows 6 and 18. convert the values to percentage\n",
    "\n",
    "df[\"Total\"]=df.iloc[:,7:].sum(axis=1,numeric_only=True)"
   ]
  },
  {
   "cell_type": "code",
   "execution_count": 116,
   "id": "29e7daa0",
   "metadata": {},
   "outputs": [],
   "source": [
    "df[\"Percent\"]=(df[\"Total\"]/52)*100"
   ]
  },
  {
   "cell_type": "markdown",
   "id": "94d0405e",
   "metadata": {},
   "source": [
    "### DATA EXPLORATION"
   ]
  },
  {
   "cell_type": "code",
   "execution_count": 161,
   "id": "b073ee20",
   "metadata": {},
   "outputs": [
    {
     "data": {
      "image/png": "[encoded data removed]",
      "text/plain": [
       "<Figure size 640x480 with 1 Axes>"
      ]
     },
     "metadata": {},
     "output_type": "display_data"
    }
   ],
   "source": [
    "#checking the distribution of the age of the participants\n",
    "#most of the participants are less than 30 years of age\n",
    "df[\"Age\"].hist()\n",
    "plt.title(\"Histogram of Age of participants\")\n",
    "plt.xlabel(\"Age\")\n",
    "plt.ylabel(\"Frequency\");"
   ]
  },
  {
   "cell_type": "code",
   "execution_count": 162,
   "id": "dfec153d",
   "metadata": {},
   "outputs": [
    {
     "data": {
      "image/png": "[encoded data removed]",
      "text/plain": [
       "<Figure size 640x480 with 1 Axes>"
      ]
     },
     "metadata": {},
     "output_type": "display_data"
    }
   ],
   "source": [
    "#checking the distribution of performance of the participants\n",
    "df[\"Percent\"].hist()\n",
    "plt.title(\"Histogram of scores of participants\")\n",
    "plt.xlabel(\"Score\")\n",
    "plt.ylabel(\"Frequency\");"
   ]
  },
  {
   "cell_type": "code",
   "execution_count": 190,
   "id": "f74b7209-2200-4d72-921a-c390b8332637",
   "metadata": {},
   "outputs": [
    {
     "data": {
      "image/png": "[encoded data removed]",
      "text/plain": [
       "<Figure size 640x480 with 1 Axes>"
      ]
     },
     "metadata": {},
     "output_type": "display_data"
    }
   ],
   "source": [
    "df['Gender'].value_counts(normalize=True).plot.bar()\n",
    "plt.title(\"Gender Distribution of participants\")\n",
    "plt.xlabel(\"Number\");"
   ]
  },
  {
   "cell_type": "code",
   "execution_count": 172,
   "id": "7121027c-581a-4d7b-a190-72238eab7226",
   "metadata": {},
   "outputs": [
    {
     "data": {
      "text/html": [
       "<div>\n",
       "<style scoped>\n",
       "    .dataframe tbody tr th:only-of-type {\n",
       "        vertical-align: middle;\n",
       "    }\n",
       "\n",
       "    .dataframe tbody tr th {\n",
       "        vertical-align: top;\n",
       "    }\n",
       "\n",
       "    .dataframe thead th {\n",
       "        text-align: right;\n",
       "    }\n",
       "</style>\n",
       "<table border=\"1\" class=\"dataframe\">\n",
       "  <thead>\n",
       "    <tr style=\"text-align: right;\">\n",
       "      <th></th>\n",
       "      <th>Country</th>\n",
       "    </tr>\n",
       "  </thead>\n",
       "  <tbody>\n",
       "    <tr>\n",
       "      <th>Nigeria</th>\n",
       "      <td>70</td>\n",
       "    </tr>\n",
       "    <tr>\n",
       "      <th>Uganda</th>\n",
       "      <td>61</td>\n",
       "    </tr>\n",
       "    <tr>\n",
       "      <th>Ethiopia</th>\n",
       "      <td>38</td>\n",
       "    </tr>\n",
       "    <tr>\n",
       "      <th>Eritrea</th>\n",
       "      <td>27</td>\n",
       "    </tr>\n",
       "    <tr>\n",
       "      <th>Azerbaijan</th>\n",
       "      <td>8</td>\n",
       "    </tr>\n",
       "  </tbody>\n",
       "</table>\n",
       "</div>"
      ],
      "text/plain": [
       "            Country\n",
       "Nigeria          70\n",
       "Uganda           61\n",
       "Ethiopia         38\n",
       "Eritrea          27\n",
       "Azerbaijan        8"
      ]
     },
     "execution_count": 172,
     "metadata": {},
     "output_type": "execute_result"
    }
   ],
   "source": [
    "data=df.Country.value_counts().to_frame()\n",
    "data.head()"
   ]
  },
  {
   "cell_type": "code",
   "execution_count": 180,
   "id": "42395959-cd60-49d6-81ef-696f20a1700d",
   "metadata": {},
   "outputs": [
    {
     "data": {
      "application/vnd.plotly.v1+json": {
       "config": {
        "plotlyServerURL": "https://plot.ly"
       },
       "data": [
        {
         "coloraxis": "coloraxis",
         "geo": "geo",
         "hovertemplate": "index=%{location}<br>Country=%{z}<extra></extra>",
         "locationmode": "country names",
         "locations": [
          "Nigeria",
          "Uganda",
          "Ethiopia",
          "Eritrea",
          "Azerbaijan",
          "Spain",
          "France",
          "USA",
          "United Kingdom",
          "Kenya",
          "Italy",
          "Germany",
          "Nepal",
          "Netherlands",
          "Bangladesh",
          "South Africa",
          "Tanzania",
          "Turkey",
          "Ireland",
          "Bolivia",
          "Finland",
          "Pakistan",
          "Rwanda",
          "Russia"
         ],
         "name": "",
         "type": "choropleth",
         "z": [
          70,
          61,
          38,
          27,
          8,
          3,
          2,
          2,
          2,
          2,
          2,
          2,
          1,
          1,
          1,
          1,
          1,
          1,
          1,
          1,
          1,
          1,
          1,
          1
         ]
        }
       ],
       "layout": {
        "autosize": true,
        "coloraxis": {
         "colorbar": {
          "title": {
           "text": "Country"
          }
         },
         "colorscale": [
          [
           0,
           "yellow"
          ],
          [
           1,
           "green"
          ]
         ]
        },
        "geo": {
         "center": {
          "lat": 5.70311035943053,
          "lon": -3.053318425853348
         },
         "domain": {
          "x": [
           0,
           1
          ],
          "y": [
           0,
           1
          ]
         },
         "projection": {
          "rotation": {
           "lon": -3.053318425853348
          },
          "scale": 1.133375468520393
         }
        },
        "legend": {
         "tracegroupgap": 0
        },
        "margin": {
         "t": 60
        },
        "template": {
         "data": {
          "bar": [
           {
            "error_x": {
             "color": "#2a3f5f"
            },
            "error_y": {
             "color": "#2a3f5f"
            },
            "marker": {
             "line": {
              "color": "#E5ECF6",
              "width": 0.5
             },
             "pattern": {
              "fillmode": "overlay",
              "size": 10,
              "solidity": 0.2
             }
            },
            "type": "bar"
           }
          ],
          "barpolar": [
           {
            "marker": {
             "line": {
              "color": "#E5ECF6",
              "width": 0.5
             },
             "pattern": {
              "fillmode": "overlay",
              "size": 10,
              "solidity": 0.2
             }
            },
            "type": "barpolar"
           }
          ],
          "carpet": [
           {
            "aaxis": {
             "endlinecolor": "#2a3f5f",
             "gridcolor": "white",
             "linecolor": "white",
             "minorgridcolor": "white",
             "startlinecolor": "#2a3f5f"
            },
            "baxis": {
             "endlinecolor": "#2a3f5f",
             "gridcolor": "white",
             "linecolor": "white",
             "minorgridcolor": "white",
             "startlinecolor": "#2a3f5f"
            },
            "type": "carpet"
           }
          ],
          "choropleth": [
           {
            "colorbar": {
             "outlinewidth": 0,
             "ticks": ""
            },
            "type": "choropleth"
           }
          ],
          "contour": [
           {
            "colorbar": {
             "outlinewidth": 0,
             "ticks": ""
            },
            "colorscale": [
             [
              0,
              "#0d0887"
             ],
             [
              0.1111111111111111,
              "#46039f"
             ],
             [
              0.2222222222222222,
              "#7201a8"
             ],
             [
              0.3333333333333333,
              "#9c179e"
             ],
             [
              0.4444444444444444,
              "#bd3786"
             ],
             [
              0.5555555555555556,
              "#d8576b"
             ],
             [
              0.6666666666666666,
              "#ed7953"
             ],
             [
              0.7777777777777778,
              "#fb9f3a"
             ],
             [
              0.8888888888888888,
              "#fdca26"
             ],
             [
              1,
              "#f0f921"
             ]
            ],
            "type": "contour"
           }
          ],
          "contourcarpet": [
           {
            "colorbar": {
             "outlinewidth": 0,
             "ticks": ""
            },
            "type": "contourcarpet"
           }
          ],
          "heatmap": [
           {
            "colorbar": {
             "outlinewidth": 0,
             "ticks": ""
            },
            "colorscale": [
             [
              0,
              "#0d0887"
             ],
             [
              0.1111111111111111,
              "#46039f"
             ],
             [
              0.2222222222222222,
              "#7201a8"
             ],
             [
              0.3333333333333333,
              "#9c179e"
             ],
             [
              0.4444444444444444,
              "#bd3786"
             ],
             [
              0.5555555555555556,
              "#d8576b"
             ],
             [
              0.6666666666666666,
              "#ed7953"
             ],
             [
              0.7777777777777778,
              "#fb9f3a"
             ],
             [
              0.8888888888888888,
              "#fdca26"
             ],
             [
              1,
              "#f0f921"
             ]
            ],
            "type": "heatmap"
           }
          ],
          "heatmapgl": [
           {
            "colorbar": {
             "outlinewidth": 0,
             "ticks": ""
            },
            "colorscale": [
             [
              0,
              "#0d0887"
             ],
             [
              0.1111111111111111,
              "#46039f"
             ],
             [
              0.2222222222222222,
              "#7201a8"
             ],
             [
              0.3333333333333333,
              "#9c179e"
             ],
             [
              0.4444444444444444,
              "#bd3786"
             ],
             [
              0.5555555555555556,
              "#d8576b"
             ],
             [
              0.6666666666666666,
              "#ed7953"
             ],
             [
              0.7777777777777778,
              "#fb9f3a"
             ],
             [
              0.8888888888888888,
              "#fdca26"
             ],
             [
              1,
              "#f0f921"
             ]
            ],
            "type": "heatmapgl"
           }
          ],
          "histogram": [
           {
            "marker": {
             "pattern": {
              "fillmode": "overlay",
              "size": 10,
              "solidity": 0.2
             }
            },
            "type": "histogram"
           }
          ],
          "histogram2d": [
           {
            "colorbar": {
             "outlinewidth": 0,
             "ticks": ""
            },
            "colorscale": [
             [
              0,
              "#0d0887"
             ],
             [
              0.1111111111111111,
              "#46039f"
             ],
             [
              0.2222222222222222,
              "#7201a8"
             ],
             [
              0.3333333333333333,
              "#9c179e"
             ],
             [
              0.4444444444444444,
              "#bd3786"
             ],
             [
              0.5555555555555556,
              "#d8576b"
             ],
             [
              0.6666666666666666,
              "#ed7953"
             ],
             [
              0.7777777777777778,
              "#fb9f3a"
             ],
             [
              0.8888888888888888,
              "#fdca26"
             ],
             [
              1,
              "#f0f921"
             ]
            ],
            "type": "histogram2d"
           }
          ],
          "histogram2dcontour": [
           {
            "colorbar": {
             "outlinewidth": 0,
             "ticks": ""
            },
            "colorscale": [
             [
              0,
              "#0d0887"
             ],
             [
              0.1111111111111111,
              "#46039f"
             ],
             [
              0.2222222222222222,
              "#7201a8"
             ],
             [
              0.3333333333333333,
              "#9c179e"
             ],
             [
              0.4444444444444444,
              "#bd3786"
             ],
             [
              0.5555555555555556,
              "#d8576b"
             ],
             [
              0.6666666666666666,
              "#ed7953"
             ],
             [
              0.7777777777777778,
              "#fb9f3a"
             ],
             [
              0.8888888888888888,
              "#fdca26"
             ],
             [
              1,
              "#f0f921"
             ]
            ],
            "type": "histogram2dcontour"
           }
          ],
          "mesh3d": [
           {
            "colorbar": {
             "outlinewidth": 0,
             "ticks": ""
            },
            "type": "mesh3d"
           }
          ],
          "parcoords": [
           {
            "line": {
             "colorbar": {
              "outlinewidth": 0,
              "ticks": ""
             }
            },
            "type": "parcoords"
           }
          ],
          "pie": [
           {
            "automargin": true,
            "type": "pie"
           }
          ],
          "scatter": [
           {
            "fillpattern": {
             "fillmode": "overlay",
             "size": 10,
             "solidity": 0.2
            },
            "type": "scatter"
           }
          ],
          "scatter3d": [
           {
            "line": {
             "colorbar": {
              "outlinewidth": 0,
              "ticks": ""
             }
            },
            "marker": {
             "colorbar": {
              "outlinewidth": 0,
              "ticks": ""
             }
            },
            "type": "scatter3d"
           }
          ],
          "scattercarpet": [
           {
            "marker": {
             "colorbar": {
              "outlinewidth": 0,
              "ticks": ""
             }
            },
            "type": "scattercarpet"
           }
          ],
          "scattergeo": [
           {
            "marker": {
             "colorbar": {
              "outlinewidth": 0,
              "ticks": ""
             }
            },
            "type": "scattergeo"
           }
          ],
          "scattergl": [
           {
            "marker": {
             "colorbar": {
              "outlinewidth": 0,
              "ticks": ""
             }
            },
            "type": "scattergl"
           }
          ],
          "scattermapbox": [
           {
            "marker": {
             "colorbar": {
              "outlinewidth": 0,
              "ticks": ""
             }
            },
            "type": "scattermapbox"
           }
          ],
          "scatterpolar": [
           {
            "marker": {
             "colorbar": {
              "outlinewidth": 0,
              "ticks": ""
             }
            },
            "type": "scatterpolar"
           }
          ],
          "scatterpolargl": [
           {
            "marker": {
             "colorbar": {
              "outlinewidth": 0,
              "ticks": ""
             }
            },
            "type": "scatterpolargl"
           }
          ],
          "scatterternary": [
           {
            "marker": {
             "colorbar": {
              "outlinewidth": 0,
              "ticks": ""
             }
            },
            "type": "scatterternary"
           }
          ],
          "surface": [
           {
            "colorbar": {
             "outlinewidth": 0,
             "ticks": ""
            },
            "colorscale": [
             [
              0,
              "#0d0887"
             ],
             [
              0.1111111111111111,
              "#46039f"
             ],
             [
              0.2222222222222222,
              "#7201a8"
             ],
             [
              0.3333333333333333,
              "#9c179e"
             ],
             [
              0.4444444444444444,
              "#bd3786"
             ],
             [
              0.5555555555555556,
              "#d8576b"
             ],
             [
              0.6666666666666666,
              "#ed7953"
             ],
             [
              0.7777777777777778,
              "#fb9f3a"
             ],
             [
              0.8888888888888888,
              "#fdca26"
             ],
             [
              1,
              "#f0f921"
             ]
            ],
            "type": "surface"
           }
          ],
          "table": [
           {
            "cells": {
             "fill": {
              "color": "#EBF0F8"
             },
             "line": {
              "color": "white"
             }
            },
            "header": {
             "fill": {
              "color": "#C8D4E3"
             },
             "line": {
              "color": "white"
             }
            },
            "type": "table"
           }
          ]
         },
         "layout": {
          "annotationdefaults": {
           "arrowcolor": "#2a3f5f",
           "arrowhead": 0,
           "arrowwidth": 1
          },
          "autotypenumbers": "strict",
          "coloraxis": {
           "colorbar": {
            "outlinewidth": 0,
            "ticks": ""
           }
          },
          "colorscale": {
           "diverging": [
            [
             0,
             "#8e0152"
            ],
            [
             0.1,
             "#c51b7d"
            ],
            [
             0.2,
             "#de77ae"
            ],
            [
             0.3,
             "#f1b6da"
            ],
            [
             0.4,
             "#fde0ef"
            ],
            [
             0.5,
             "#f7f7f7"
            ],
            [
             0.6,
             "#e6f5d0"
            ],
            [
             0.7,
             "#b8e186"
            ],
            [
             0.8,
             "#7fbc41"
            ],
            [
             0.9,
             "#4d9221"
            ],
            [
             1,
             "#276419"
            ]
           ],
           "sequential": [
            [
             0,
             "#0d0887"
            ],
            [
             0.1111111111111111,
             "#46039f"
            ],
            [
             0.2222222222222222,
             "#7201a8"
            ],
            [
             0.3333333333333333,
             "#9c179e"
            ],
            [
             0.4444444444444444,
             "#bd3786"
            ],
            [
             0.5555555555555556,
             "#d8576b"
            ],
            [
             0.6666666666666666,
             "#ed7953"
            ],
            [
             0.7777777777777778,
             "#fb9f3a"
            ],
            [
             0.8888888888888888,
             "#fdca26"
            ],
            [
             1,
             "#f0f921"
            ]
           ],
           "sequentialminus": [
            [
             0,
             "#0d0887"
            ],
            [
             0.1111111111111111,
             "#46039f"
            ],
            [
             0.2222222222222222,
             "#7201a8"
            ],
            [
             0.3333333333333333,
             "#9c179e"
            ],
            [
             0.4444444444444444,
             "#bd3786"
            ],
            [
             0.5555555555555556,
             "#d8576b"
            ],
            [
             0.6666666666666666,
             "#ed7953"
            ],
            [
             0.7777777777777778,
             "#fb9f3a"
            ],
            [
             0.8888888888888888,
             "#fdca26"
            ],
            [
             1,
             "#f0f921"
            ]
           ]
          },
          "colorway": [
           "#636efa",
           "#EF553B",
           "#00cc96",
           "#ab63fa",
           "#FFA15A",
           "#19d3f3",
           "#FF6692",
           "#B6E880",
           "#FF97FF",
           "#FECB52"
          ],
          "font": {
           "color": "#2a3f5f"
          },
          "geo": {
           "bgcolor": "white",
           "lakecolor": "white",
           "landcolor": "#E5ECF6",
           "showlakes": true,
           "showland": true,
           "subunitcolor": "white"
          },
          "hoverlabel": {
           "align": "left"
          },
          "hovermode": "closest",
          "mapbox": {
           "style": "light"
          },
          "paper_bgcolor": "white",
          "plot_bgcolor": "#E5ECF6",
          "polar": {
           "angularaxis": {
            "gridcolor": "white",
            "linecolor": "white",
            "ticks": ""
           },
           "bgcolor": "#E5ECF6",
           "radialaxis": {
            "gridcolor": "white",
            "linecolor": "white",
            "ticks": ""
           }
          },
          "scene": {
           "xaxis": {
            "backgroundcolor": "#E5ECF6",
            "gridcolor": "white",
            "gridwidth": 2,
            "linecolor": "white",
            "showbackground": true,
            "ticks": "",
            "zerolinecolor": "white"
           },
           "yaxis": {
            "backgroundcolor": "#E5ECF6",
            "gridcolor": "white",
            "gridwidth": 2,
            "linecolor": "white",
            "showbackground": true,
            "ticks": "",
            "zerolinecolor": "white"
           },
           "zaxis": {
            "backgroundcolor": "#E5ECF6",
            "gridcolor": "white",
            "gridwidth": 2,
            "linecolor": "white",
            "showbackground": true,
            "ticks": "",
            "zerolinecolor": "white"
           }
          },
          "shapedefaults": {
           "line": {
            "color": "#2a3f5f"
           }
          },
          "ternary": {
           "aaxis": {
            "gridcolor": "white",
            "linecolor": "white",
            "ticks": ""
           },
           "baxis": {
            "gridcolor": "white",
            "linecolor": "white",
            "ticks": ""
           },
           "bgcolor": "#E5ECF6",
           "caxis": {
            "gridcolor": "white",
            "linecolor": "white",
            "ticks": ""
           }
          },
          "title": {
           "x": 0.05
          },
          "xaxis": {
           "automargin": true,
           "gridcolor": "white",
           "linecolor": "white",
           "ticks": "",
           "title": {
            "standoff": 15
           },
           "zerolinecolor": "white",
           "zerolinewidth": 2
          },
          "yaxis": {
           "automargin": true,
           "gridcolor": "white",
           "linecolor": "white",
           "ticks": "",
           "title": {
            "standoff": 15
           },
           "zerolinecolor": "white",
           "zerolinewidth": 2
          }
         }
        },
        "title": {
         "text": "Survey Participation by African Countries"
        }
       }
      },
      "image/png": "[encoded data removed]",
      "text/html": [
       "<div>                            <div id=\"0527a41f-d9f0-4691-98d0-1aefe8d823ed\" class=\"plotly-graph-div\" style=\"height:525px; width:100%;\"></div>            <script type=\"text/javascript\">                require([\"plotly\"], function(Plotly) {                    window.PLOTLYENV=window.PLOTLYENV || {};                                    if (document.getElementById(\"0527a41f-d9f0-4691-98d0-1aefe8d823ed\")) {                    Plotly.newPlot(                        \"0527a41f-d9f0-4691-98d0-1aefe8d823ed\",                        [{\"coloraxis\":\"coloraxis\",\"geo\":\"geo\",\"hovertemplate\":\"index=%{location}<br>Country=%{z}<extra></extra>\",\"locationmode\":\"country names\",\"locations\":[\"Nigeria\",\"Uganda\",\"Ethiopia\",\"Eritrea\",\"Azerbaijan\",\"Spain\",\"France\",\"USA\",\"United Kingdom\",\"Kenya\",\"Italy\",\"Germany\",\"Nepal\",\"Netherlands\",\"Bangladesh\",\"South Africa\",\"Tanzania\",\"Turkey\",\"Ireland\",\"Bolivia\",\"Finland\",\"Pakistan\",\"Rwanda\",\"Russia\"],\"name\":\"\",\"z\":[70,61,38,27,8,3,2,2,2,2,2,2,1,1,1,1,1,1,1,1,1,1,1,1],\"type\":\"choropleth\"}],                        {\"template\":{\"data\":{\"histogram2dcontour\":[{\"type\":\"histogram2dcontour\",\"colorbar\":{\"outlinewidth\":0,\"ticks\":\"\"},\"colorscale\":[[0.0,\"#0d0887\"],[0.1111111111111111,\"#46039f\"],[0.2222222222222222,\"#7201a8\"],[0.3333333333333333,\"#9c179e\"],[0.4444444444444444,\"#bd3786\"],[0.5555555555555556,\"#d8576b\"],[0.6666666666666666,\"#ed7953\"],[0.7777777777777778,\"#fb9f3a\"],[0.8888888888888888,\"#fdca26\"],[1.0,\"#f0f921\"]]}],\"choropleth\":[{\"type\":\"choropleth\",\"colorbar\":{\"outlinewidth\":0,\"ticks\":\"\"}}],\"histogram2d\":[{\"type\":\"histogram2d\",\"colorbar\":{\"outlinewidth\":0,\"ticks\":\"\"},\"colorscale\":[[0.0,\"#0d0887\"],[0.1111111111111111,\"#46039f\"],[0.2222222222222222,\"#7201a8\"],[0.3333333333333333,\"#9c179e\"],[0.4444444444444444,\"#bd3786\"],[0.5555555555555556,\"#d8576b\"],[0.6666666666666666,\"#ed7953\"],[0.7777777777777778,\"#fb9f3a\"],[0.8888888888888888,\"#fdca26\"],[1.0,\"#f0f921\"]]}],\"heatmap\":[{\"type\":\"heatmap\",\"colorbar\":{\"outlinewidth\":0,\"ticks\":\"\"},\"colorscale\":[[0.0,\"#0d0887\"],[0.1111111111111111,\"#46039f\"],[0.2222222222222222,\"#7201a8\"],[0.3333333333333333,\"#9c179e\"],[0.4444444444444444,\"#bd3786\"],[0.5555555555555556,\"#d8576b\"],[0.6666666666666666,\"#ed7953\"],[0.7777777777777778,\"#fb9f3a\"],[0.8888888888888888,\"#fdca26\"],[1.0,\"#f0f921\"]]}],\"heatmapgl\":[{\"type\":\"heatmapgl\",\"colorbar\":{\"outlinewidth\":0,\"ticks\":\"\"},\"colorscale\":[[0.0,\"#0d0887\"],[0.1111111111111111,\"#46039f\"],[0.2222222222222222,\"#7201a8\"],[0.3333333333333333,\"#9c179e\"],[0.4444444444444444,\"#bd3786\"],[0.5555555555555556,\"#d8576b\"],[0.6666666666666666,\"#ed7953\"],[0.7777777777777778,\"#fb9f3a\"],[0.8888888888888888,\"#fdca26\"],[1.0,\"#f0f921\"]]}],\"contourcarpet\":[{\"type\":\"contourcarpet\",\"colorbar\":{\"outlinewidth\":0,\"ticks\":\"\"}}],\"contour\":[{\"type\":\"contour\",\"colorbar\":{\"outlinewidth\":0,\"ticks\":\"\"},\"colorscale\":[[0.0,\"#0d0887\"],[0.1111111111111111,\"#46039f\"],[0.2222222222222222,\"#7201a8\"],[0.3333333333333333,\"#9c179e\"],[0.4444444444444444,\"#bd3786\"],[0.5555555555555556,\"#d8576b\"],[0.6666666666666666,\"#ed7953\"],[0.7777777777777778,\"#fb9f3a\"],[0.8888888888888888,\"#fdca26\"],[1.0,\"#f0f921\"]]}],\"surface\":[{\"type\":\"surface\",\"colorbar\":{\"outlinewidth\":0,\"ticks\":\"\"},\"colorscale\":[[0.0,\"#0d0887\"],[0.1111111111111111,\"#46039f\"],[0.2222222222222222,\"#7201a8\"],[0.3333333333333333,\"#9c179e\"],[0.4444444444444444,\"#bd3786\"],[0.5555555555555556,\"#d8576b\"],[0.6666666666666666,\"#ed7953\"],[0.7777777777777778,\"#fb9f3a\"],[0.8888888888888888,\"#fdca26\"],[1.0,\"#f0f921\"]]}],\"mesh3d\":[{\"type\":\"mesh3d\",\"colorbar\":{\"outlinewidth\":0,\"ticks\":\"\"}}],\"scatter\":[{\"fillpattern\":{\"fillmode\":\"overlay\",\"size\":10,\"solidity\":0.2},\"type\":\"scatter\"}],\"parcoords\":[{\"type\":\"parcoords\",\"line\":{\"colorbar\":{\"outlinewidth\":0,\"ticks\":\"\"}}}],\"scatterpolargl\":[{\"type\":\"scatterpolargl\",\"marker\":{\"colorbar\":{\"outlinewidth\":0,\"ticks\":\"\"}}}],\"bar\":[{\"error_x\":{\"color\":\"#2a3f5f\"},\"error_y\":{\"color\":\"#2a3f5f\"},\"marker\":{\"line\":{\"color\":\"#E5ECF6\",\"width\":0.5},\"pattern\":{\"fillmode\":\"overlay\",\"size\":10,\"solidity\":0.2}},\"type\":\"bar\"}],\"scattergeo\":[{\"type\":\"scattergeo\",\"marker\":{\"colorbar\":{\"outlinewidth\":0,\"ticks\":\"\"}}}],\"scatterpolar\":[{\"type\":\"scatterpolar\",\"marker\":{\"colorbar\":{\"outlinewidth\":0,\"ticks\":\"\"}}}],\"histogram\":[{\"marker\":{\"pattern\":{\"fillmode\":\"overlay\",\"size\":10,\"solidity\":0.2}},\"type\":\"histogram\"}],\"scattergl\":[{\"type\":\"scattergl\",\"marker\":{\"colorbar\":{\"outlinewidth\":0,\"ticks\":\"\"}}}],\"scatter3d\":[{\"type\":\"scatter3d\",\"line\":{\"colorbar\":{\"outlinewidth\":0,\"ticks\":\"\"}},\"marker\":{\"colorbar\":{\"outlinewidth\":0,\"ticks\":\"\"}}}],\"scattermapbox\":[{\"type\":\"scattermapbox\",\"marker\":{\"colorbar\":{\"outlinewidth\":0,\"ticks\":\"\"}}}],\"scatterternary\":[{\"type\":\"scatterternary\",\"marker\":{\"colorbar\":{\"outlinewidth\":0,\"ticks\":\"\"}}}],\"scattercarpet\":[{\"type\":\"scattercarpet\",\"marker\":{\"colorbar\":{\"outlinewidth\":0,\"ticks\":\"\"}}}],\"carpet\":[{\"aaxis\":{\"endlinecolor\":\"#2a3f5f\",\"gridcolor\":\"white\",\"linecolor\":\"white\",\"minorgridcolor\":\"white\",\"startlinecolor\":\"#2a3f5f\"},\"baxis\":{\"endlinecolor\":\"#2a3f5f\",\"gridcolor\":\"white\",\"linecolor\":\"white\",\"minorgridcolor\":\"white\",\"startlinecolor\":\"#2a3f5f\"},\"type\":\"carpet\"}],\"table\":[{\"cells\":{\"fill\":{\"color\":\"#EBF0F8\"},\"line\":{\"color\":\"white\"}},\"header\":{\"fill\":{\"color\":\"#C8D4E3\"},\"line\":{\"color\":\"white\"}},\"type\":\"table\"}],\"barpolar\":[{\"marker\":{\"line\":{\"color\":\"#E5ECF6\",\"width\":0.5},\"pattern\":{\"fillmode\":\"overlay\",\"size\":10,\"solidity\":0.2}},\"type\":\"barpolar\"}],\"pie\":[{\"automargin\":true,\"type\":\"pie\"}]},\"layout\":{\"autotypenumbers\":\"strict\",\"colorway\":[\"#636efa\",\"#EF553B\",\"#00cc96\",\"#ab63fa\",\"#FFA15A\",\"#19d3f3\",\"#FF6692\",\"#B6E880\",\"#FF97FF\",\"#FECB52\"],\"font\":{\"color\":\"#2a3f5f\"},\"hovermode\":\"closest\",\"hoverlabel\":{\"align\":\"left\"},\"paper_bgcolor\":\"white\",\"plot_bgcolor\":\"#E5ECF6\",\"polar\":{\"bgcolor\":\"#E5ECF6\",\"angularaxis\":{\"gridcolor\":\"white\",\"linecolor\":\"white\",\"ticks\":\"\"},\"radialaxis\":{\"gridcolor\":\"white\",\"linecolor\":\"white\",\"ticks\":\"\"}},\"ternary\":{\"bgcolor\":\"#E5ECF6\",\"aaxis\":{\"gridcolor\":\"white\",\"linecolor\":\"white\",\"ticks\":\"\"},\"baxis\":{\"gridcolor\":\"white\",\"linecolor\":\"white\",\"ticks\":\"\"},\"caxis\":{\"gridcolor\":\"white\",\"linecolor\":\"white\",\"ticks\":\"\"}},\"coloraxis\":{\"colorbar\":{\"outlinewidth\":0,\"ticks\":\"\"}},\"colorscale\":{\"sequential\":[[0.0,\"#0d0887\"],[0.1111111111111111,\"#46039f\"],[0.2222222222222222,\"#7201a8\"],[0.3333333333333333,\"#9c179e\"],[0.4444444444444444,\"#bd3786\"],[0.5555555555555556,\"#d8576b\"],[0.6666666666666666,\"#ed7953\"],[0.7777777777777778,\"#fb9f3a\"],[0.8888888888888888,\"#fdca26\"],[1.0,\"#f0f921\"]],\"sequentialminus\":[[0.0,\"#0d0887\"],[0.1111111111111111,\"#46039f\"],[0.2222222222222222,\"#7201a8\"],[0.3333333333333333,\"#9c179e\"],[0.4444444444444444,\"#bd3786\"],[0.5555555555555556,\"#d8576b\"],[0.6666666666666666,\"#ed7953\"],[0.7777777777777778,\"#fb9f3a\"],[0.8888888888888888,\"#fdca26\"],[1.0,\"#f0f921\"]],\"diverging\":[[0,\"#8e0152\"],[0.1,\"#c51b7d\"],[0.2,\"#de77ae\"],[0.3,\"#f1b6da\"],[0.4,\"#fde0ef\"],[0.5,\"#f7f7f7\"],[0.6,\"#e6f5d0\"],[0.7,\"#b8e186\"],[0.8,\"#7fbc41\"],[0.9,\"#4d9221\"],[1,\"#276419\"]]},\"xaxis\":{\"gridcolor\":\"white\",\"linecolor\":\"white\",\"ticks\":\"\",\"title\":{\"standoff\":15},\"zerolinecolor\":\"white\",\"automargin\":true,\"zerolinewidth\":2},\"yaxis\":{\"gridcolor\":\"white\",\"linecolor\":\"white\",\"ticks\":\"\",\"title\":{\"standoff\":15},\"zerolinecolor\":\"white\",\"automargin\":true,\"zerolinewidth\":2},\"scene\":{\"xaxis\":{\"backgroundcolor\":\"#E5ECF6\",\"gridcolor\":\"white\",\"linecolor\":\"white\",\"showbackground\":true,\"ticks\":\"\",\"zerolinecolor\":\"white\",\"gridwidth\":2},\"yaxis\":{\"backgroundcolor\":\"#E5ECF6\",\"gridcolor\":\"white\",\"linecolor\":\"white\",\"showbackground\":true,\"ticks\":\"\",\"zerolinecolor\":\"white\",\"gridwidth\":2},\"zaxis\":{\"backgroundcolor\":\"#E5ECF6\",\"gridcolor\":\"white\",\"linecolor\":\"white\",\"showbackground\":true,\"ticks\":\"\",\"zerolinecolor\":\"white\",\"gridwidth\":2}},\"shapedefaults\":{\"line\":{\"color\":\"#2a3f5f\"}},\"annotationdefaults\":{\"arrowcolor\":\"#2a3f5f\",\"arrowhead\":0,\"arrowwidth\":1},\"geo\":{\"bgcolor\":\"white\",\"landcolor\":\"#E5ECF6\",\"subunitcolor\":\"white\",\"showland\":true,\"showlakes\":true,\"lakecolor\":\"white\"},\"title\":{\"x\":0.05},\"mapbox\":{\"style\":\"light\"}}},\"geo\":{\"domain\":{\"x\":[0.0,1.0],\"y\":[0.0,1.0]},\"center\":{}},\"coloraxis\":{\"colorbar\":{\"title\":{\"text\":\"Country\"}},\"colorscale\":[[0.0,\"yellow\"],[1.0,\"green\"]]},\"legend\":{\"tracegroupgap\":0},\"margin\":{\"t\":60},\"title\":{\"text\":\"Survey Participation by African Countries\"}},                        {\"responsive\": true}                    ).then(function(){\n",
       "                            \n",
       "var gd = document.getElementById('0527a41f-d9f0-4691-98d0-1aefe8d823ed');\n",
       "var x = new MutationObserver(function (mutations, observer) {{\n",
       "        var display = window.getComputedStyle(gd).display;\n",
       "        if (!display || display === 'none') {{\n",
       "            console.log([gd, 'removed!']);\n",
       "            Plotly.purge(gd);\n",
       "            observer.disconnect();\n",
       "        }}\n",
       "}});\n",
       "\n",
       "// Listen for the removal of the full notebook cells\n",
       "var notebookContainer = gd.closest('#notebook-container');\n",
       "if (notebookContainer) {{\n",
       "    x.observe(notebookContainer, {childList: true});\n",
       "}}\n",
       "\n",
       "// Listen for the clearing of the current output cell\n",
       "var outputEl = gd.closest('.output');\n",
       "if (outputEl) {{\n",
       "    x.observe(outputEl, {childList: true});\n",
       "}}\n",
       "\n",
       "                        })                };                });            </script>        </div>"
      ]
     },
     "metadata": {},
     "output_type": "display_data"
    }
   ],
   "source": [
    "#what is the distribution of the countries of the participants\n",
    "\n",
    "fig = px.choropleth(data, \n",
    "                    locations=data.index,\n",
    "                    locationmode=\"country names\",\n",
    "                    color='Country',\n",
    "                    #projection=\"natural earth\",\n",
    "                    color_continuous_scale=['yellow','green']\n",
    "                    #\"Viridis\"\n",
    "                   )\n",
    "\n",
    "\n",
    "# Set the title and display the figure\n",
    "fig.update_layout(\n",
    "    title=\"Survey Participation by African Countries\")\n",
    "    \n",
    "\n",
    "fig.show()"
   ]
  },
  {
   "cell_type": "markdown",
   "id": "d119a7a4",
   "metadata": {},
   "source": [
    "### Q1: Is the Score performance a function of age?"
   ]
  },
  {
   "cell_type": "code",
   "execution_count": 163,
   "id": "d938821c",
   "metadata": {},
   "outputs": [
    {
     "data": {
      "image/png": "[encoded data removed]",
      "text/plain": [
       "<Figure size 640x480 with 1 Axes>"
      ]
     },
     "metadata": {},
     "output_type": "display_data"
    }
   ],
   "source": [
    "#plot a scatter plot to show the correlation between age and score\n",
    "sns.scatterplot(x=df[\"Age\"],y=df[\"Percent\"])\n",
    "plt.title(\"Scatter plot showing relationship between Age and Score\");\n",
    "#No, it is not"
   ]
  },
  {
   "cell_type": "markdown",
   "id": "bfdad693",
   "metadata": {},
   "source": [
    "### Q2: What is the mean performance by Gender?"
   ]
  },
  {
   "cell_type": "code",
   "execution_count": 192,
   "id": "0f0cbb25",
   "metadata": {},
   "outputs": [
    {
     "data": {
      "image/png": "[encoded data removed]",
      "text/plain": [
       "<Figure size 640x480 with 1 Axes>"
      ]
     },
     "metadata": {},
     "output_type": "display_data"
    }
   ],
   "source": [
    "df.groupby(\"Gender\")[\"Percent\"].mean().plot.barh()\n",
    "plt.title(\"Bar Chart showing the performance by Gender\");"
   ]
  },
  {
   "cell_type": "code",
   "execution_count": 121,
   "id": "52c4cbc7",
   "metadata": {},
   "outputs": [],
   "source": [
    "#The mean score by performance is approximately the same, we perform an independent T test to check if there is a \n",
    "# statistical difference"
   ]
  },
  {
   "cell_type": "code",
   "execution_count": 122,
   "id": "b4de82fd",
   "metadata": {},
   "outputs": [],
   "source": [
    "df_male=df[df[\"Gender\"]==\"Male\"]\n",
    "df_female=df[df[\"Gender\"]==\"Female\"]"
   ]
  },
  {
   "cell_type": "code",
   "execution_count": 123,
   "id": "8cf6afe7",
   "metadata": {},
   "outputs": [
    {
     "name": "stdout",
     "output_type": "stream",
     "text": [
      "Ttest_indResult(statistic=0.09330932526565265, pvalue=0.9257394077432912)\n"
     ]
    }
   ],
   "source": [
    "print(ttest_ind(df_male[\"Percent\"],df_female[\"Percent\"]))"
   ]
  },
  {
   "cell_type": "markdown",
   "id": "2ea95434",
   "metadata": {},
   "source": [
    "##### P_value > 0.05, therefore, there is no statistical difference between the mean score performance by Gender "
   ]
  },
  {
   "cell_type": "code",
   "execution_count": 124,
   "id": "5c48fd67",
   "metadata": {},
   "outputs": [
    {
     "data": {
      "text/plain": [
       "Text(0.5, 1.0, 'Mean score performance by Gender')"
      ]
     },
     "execution_count": 124,
     "metadata": {},
     "output_type": "execute_result"
    },
    {
     "data": {
      "image/png": "[encoded data removed]",
      "text/plain": [
       "<Figure size 640x480 with 1 Axes>"
      ]
     },
     "metadata": {},
     "output_type": "display_data"
    }
   ],
   "source": [
    "#visualizing the performance\n",
    "sns.boxplot(x=\"Gender\",y=\"Percent\",data=df, color=\"white\")\n",
    "sns.stripplot(x=\"Gender\",y=\"Percent\",data=df, color=\"black\")\n",
    "plt.title(\"Mean score performance by Gender\")"
   ]
  },
  {
   "cell_type": "markdown",
   "id": "11081d4d",
   "metadata": {},
   "source": [
    "### Q3 What is the mean score performance by Field of study? (Life Science, Non Life Science)"
   ]
  },
  {
   "cell_type": "code",
   "execution_count": 125,
   "id": "101315fb",
   "metadata": {},
   "outputs": [
    {
     "data": {
      "text/plain": [
       "Field\n",
       "Life science        62.956731\n",
       "Non life science    49.228061\n",
       "Name: Percent, dtype: float64"
      ]
     },
     "execution_count": 125,
     "metadata": {},
     "output_type": "execute_result"
    }
   ],
   "source": [
    "df.groupby(\"Field\")[\"Percent\"].mean()"
   ]
  },
  {
   "cell_type": "code",
   "execution_count": 126,
   "id": "197dc77d",
   "metadata": {},
   "outputs": [],
   "source": [
    "#The mean score by performance is higher for Life Sciences than Non life sciences\n",
    "#we perform an independent T test to check if there is a statistical difference"
   ]
  },
  {
   "cell_type": "code",
   "execution_count": 127,
   "id": "358cbbb6",
   "metadata": {},
   "outputs": [
    {
     "name": "stdout",
     "output_type": "stream",
     "text": [
      "Ttest_indResult(statistic=5.496943284337229, pvalue=1.0276084429068861e-07)\n"
     ]
    }
   ],
   "source": [
    "df_lifesc=df[df[\"Field\"]==\"Life science\"]\n",
    "df_nonlifesc=df[df[\"Field\"]==\"Non life science\"]\n",
    "\n",
    "print(ttest_ind(df_lifesc[\"Percent\"],df_nonlifesc[\"Percent\"]))"
   ]
  },
  {
   "cell_type": "markdown",
   "id": "fd623bc9",
   "metadata": {},
   "source": [
    "##### P_value<0.05, there is a significant difference between the knowledge of life science students and non_life science students, \n",
    "##### Life science students have more significant knowledge than non_life science students"
   ]
  },
  {
   "cell_type": "code",
   "execution_count": 193,
   "id": "dc3d0eb5",
   "metadata": {},
   "outputs": [
    {
     "data": {
      "image/png": "[encoded data removed]",
      "text/plain": [
       "<Figure size 640x480 with 1 Axes>"
      ]
     },
     "metadata": {},
     "output_type": "display_data"
    }
   ],
   "source": [
    "sns.boxplot(x=\"Field\",y=\"Percent\",data=df, color=\"white\")\n",
    "sns.stripplot(x=\"Field\",y=\"Percent\",data=df, color=\"black\")\n",
    "plt.title(\"Mean score performance by Field\");"
   ]
  },
  {
   "cell_type": "markdown",
   "id": "9eb949ed",
   "metadata": {},
   "source": [
    "### Q4 Is there a difference in the performance by Level of study? (Bachelors, Post-graduates, Others)?"
   ]
  },
  {
   "cell_type": "code",
   "execution_count": 129,
   "id": "6de78c27",
   "metadata": {},
   "outputs": [
    {
     "data": {
      "text/plain": [
       "Education\n",
       "Bachelors        57.478632\n",
       "Others           58.867521\n",
       "Post-Graduate    61.510591\n",
       "Name: Percent, dtype: float64"
      ]
     },
     "execution_count": 129,
     "metadata": {},
     "output_type": "execute_result"
    }
   ],
   "source": [
    "df.groupby(\"Education\")[\"Percent\"].mean()"
   ]
  },
  {
   "cell_type": "code",
   "execution_count": 130,
   "id": "e7e78559",
   "metadata": {},
   "outputs": [
    {
     "name": "stdout",
     "output_type": "stream",
     "text": [
      "F_onewayResult(statistic=1.1194757414390013, pvalue=0.32823848125172933)\n"
     ]
    }
   ],
   "source": [
    "#we perform a one_way anova to compare multiple groups\n",
    "df_bach=df[df[\"Education\"]==\"Bachelors\"]\n",
    "df_others=df[df[\"Education\"]==\"Others\"]\n",
    "df_postg=df[df[\"Education\"]==\"Post-Graduate\"]\n",
    "\n",
    "print(f_oneway(df_bach[\"Percent\"],df_others['Percent'],df_postg[\"Percent\"]))"
   ]
  },
  {
   "cell_type": "markdown",
   "id": "7e00ce8a",
   "metadata": {},
   "source": [
    "##### p_value >0.05, hence there is no significant difference in the knowledge on the impact of climate change on zoonosis"
   ]
  },
  {
   "cell_type": "code",
   "execution_count": 131,
   "id": "6bb4cae6",
   "metadata": {},
   "outputs": [
    {
     "data": {
      "text/plain": [
       "Text(0.5, 1.0, 'Mean score performance by Level of Studies')"
      ]
     },
     "execution_count": 131,
     "metadata": {},
     "output_type": "execute_result"
    },
    {
     "data": {
      "image/png": "[encoded data removed]",
      "text/plain": [
       "<Figure size 640x480 with 1 Axes>"
      ]
     },
     "metadata": {},
     "output_type": "display_data"
    }
   ],
   "source": [
    "sns.boxplot(x=\"Education\",y=\"Percent\",data=df, color=\"white\")\n",
    "sns.stripplot(x=\"Education\",y=\"Percent\",data=df, color=\"black\")\n",
    "plt.title(\"Mean score performance by Level of Studies\")"
   ]
  },
  {
   "cell_type": "markdown",
   "id": "12b5d2c8",
   "metadata": {},
   "source": [
    "### Q5 What is the mean knowledge score by Continents, and top represented countries?"
   ]
  },
  {
   "cell_type": "code",
   "execution_count": 132,
   "id": "4899bfd6",
   "metadata": {},
   "outputs": [],
   "source": [
    "# we create a new column called continent to classify the continents\n",
    "def continent(df):\n",
    "    europe=[\"Azerbaijan\",\"Finland\",\"Germany\",\"Ireland\",\"Italy\",\"Netherlands\",\"Russia\",\"Spain\",\"Turkey\",\"France\"]\n",
    "    africa=[\"Eritrea\",\"Ethiopia\",\"Kenya\",\"Nigeria\",\"South Africa\",\"Tanzania\",\"Uganda\",\"Rwanda\"]\n",
    "    if df in europe:\n",
    "        return (\"Europe\")\n",
    "    elif df in africa:\n",
    "        return (\"Africa\")\n",
    "    else:\n",
    "        return (\"Others\")\n",
    "df[\"Continent\"]=df[\"Country\"].map(continent)"
   ]
  },
  {
   "cell_type": "code",
   "execution_count": 133,
   "id": "a474ed59",
   "metadata": {},
   "outputs": [
    {
     "data": {
      "text/plain": [
       "Continent\n",
       "Africa    58.295063\n",
       "Europe    58.916084\n",
       "Others    69.350962\n",
       "Name: Percent, dtype: float64"
      ]
     },
     "execution_count": 133,
     "metadata": {},
     "output_type": "execute_result"
    }
   ],
   "source": [
    "df.groupby(\"Continent\")[\"Percent\"].mean()"
   ]
  },
  {
   "cell_type": "code",
   "execution_count": 134,
   "id": "0cf8127f",
   "metadata": {},
   "outputs": [],
   "source": [
    "df_africa=df[df[\"Continent\"]==\"Africa\"]\n",
    "df_europe=df[df[\"Continent\"]==\"Europe\"]\n",
    "df_others=df[df[\"Continent\"]==\"Others\"]"
   ]
  },
  {
   "cell_type": "code",
   "execution_count": 135,
   "id": "c7000bd6",
   "metadata": {},
   "outputs": [
    {
     "name": "stdout",
     "output_type": "stream",
     "text": [
      "F_onewayResult(statistic=1.365590524135137, pvalue=0.2573093687005679)\n"
     ]
    }
   ],
   "source": [
    "# performing a one way anova\n",
    "print(f_oneway(df_africa[\"Percent\"],df_europe[\"Percent\"],df_others[\"Percent\"]))"
   ]
  },
  {
   "cell_type": "code",
   "execution_count": 194,
   "id": "021bac79",
   "metadata": {},
   "outputs": [
    {
     "data": {
      "image/png": "[encoded data removed]",
      "text/plain": [
       "<Figure size 640x480 with 1 Axes>"
      ]
     },
     "metadata": {},
     "output_type": "display_data"
    }
   ],
   "source": [
    "sns.boxplot(x=\"Continent\",y=\"Percent\",data=df, color=\"white\")\n",
    "sns.stripplot(x=\"Continent\",y=\"Percent\",data=df, color=\"black\")\n",
    "plt.title(\"Mean score performance by Continent\");"
   ]
  },
  {
   "cell_type": "markdown",
   "id": "8e82081d",
   "metadata": {},
   "source": [
    "##### P_value > 0.05, there is therefore no statistical significance in knowledge among the represented continents"
   ]
  },
  {
   "cell_type": "code",
   "execution_count": 137,
   "id": "745c5c12",
   "metadata": {},
   "outputs": [
    {
     "data": {
      "text/plain": [
       "Nigeria       70\n",
       "Uganda        61\n",
       "Ethiopia      38\n",
       "Eritrea       27\n",
       "Azerbaijan     8\n",
       "Name: Country, dtype: int64"
      ]
     },
     "execution_count": 137,
     "metadata": {},
     "output_type": "execute_result"
    }
   ],
   "source": [
    "# The top four represented countries are Nigeria, Ethiopia, Eritrea and Uganda\n",
    "# we therefore perform a one way Anova to know if there is a difference in mean score among the countries\n",
    "\n",
    "df[\"Country\"].value_counts().head()"
   ]
  },
  {
   "cell_type": "code",
   "execution_count": 138,
   "id": "e5a2f383",
   "metadata": {},
   "outputs": [],
   "source": [
    "df_top=df[(df[\"Country\"]==\"Nigeria\")|(df[\"Country\"]==\"Uganda\")|\n",
    "          (df[\"Country\"]==\"Ethiopia\")|(df[\"Country\"]==\"Eritrea\")]"
   ]
  },
  {
   "cell_type": "code",
   "execution_count": 139,
   "id": "87589849",
   "metadata": {},
   "outputs": [
    {
     "data": {
      "text/plain": [
       "Country\n",
       "Eritrea     62.606838\n",
       "Ethiopia    69.104251\n",
       "Nigeria     57.527473\n",
       "Uganda      50.583228\n",
       "Name: Percent, dtype: float64"
      ]
     },
     "execution_count": 139,
     "metadata": {},
     "output_type": "execute_result"
    }
   ],
   "source": [
    "df_top.groupby(\"Country\")[\"Percent\"].mean()"
   ]
  },
  {
   "cell_type": "code",
   "execution_count": 140,
   "id": "05944334",
   "metadata": {},
   "outputs": [],
   "source": [
    "df_Nigeria=df_top[df_top[\"Country\"]==\"Nigeria\"]\n",
    "df_Ethiopia=df_top[df_top[\"Country\"]==\"Ethiopia\"]\n",
    "df_Eritrea=df_top[df_top[\"Country\"]==\"Eritrea\"]\n",
    "df_Uganda=df_top[df_top[\"Country\"]==\"Uganda\"]"
   ]
  },
  {
   "cell_type": "code",
   "execution_count": 141,
   "id": "f44a5631",
   "metadata": {},
   "outputs": [
    {
     "name": "stdout",
     "output_type": "stream",
     "text": [
      "F_onewayResult(statistic=10.092932018964992, pvalue=3.3164125676352617e-06)\n"
     ]
    }
   ],
   "source": [
    "#we perform a one_way anova\n",
    "print(f_oneway(df_Nigeria[\"Percent\"], df_Ethiopia[\"Percent\"], \n",
    "               df_Eritrea[\"Percent\"], df_Uganda[\"Percent\"]))"
   ]
  },
  {
   "cell_type": "markdown",
   "id": "ce942e6b",
   "metadata": {},
   "source": [
    "#### p_value <0.05, therefore there is a significant difference in knowledge among the four countries, we however do not know where \n",
    "\n",
    "#### the difference is, we therefore carry out a tukey HSD test to spot where the difference is "
   ]
  },
  {
   "cell_type": "code",
   "execution_count": 142,
   "id": "92dec5f0",
   "metadata": {},
   "outputs": [
    {
     "name": "stdout",
     "output_type": "stream",
     "text": [
      "   Multiple Comparison of Means - Tukey HSD, FWER=0.05   \n",
      "=========================================================\n",
      " group1   group2  meandiff p-adj   lower    upper  reject\n",
      "---------------------------------------------------------\n",
      " Eritrea Ethiopia   6.4974 0.4212  -4.5032  17.498  False\n",
      " Eritrea  Nigeria  -5.0794 0.5453 -14.9806  4.8219  False\n",
      " Eritrea   Uganda -12.0236 0.0124 -22.1261 -1.9211   True\n",
      "Ethiopia  Nigeria -11.5768 0.0044 -20.3833 -2.7702   True\n",
      "Ethiopia   Uganda  -18.521    0.0 -27.5532 -9.4888   True\n",
      " Nigeria   Uganda  -6.9442 0.0903 -14.5994  0.7109  False\n",
      "---------------------------------------------------------\n"
     ]
    }
   ],
   "source": [
    "from statsmodels.stats.multicomp import pairwise_tukeyhsd\n",
    "print(pairwise_tukeyhsd(endog=df_top[\"Percent\"],groups=df_top[\"Country\"],alpha=0.05))"
   ]
  },
  {
   "cell_type": "code",
   "execution_count": 143,
   "id": "28a87304",
   "metadata": {},
   "outputs": [],
   "source": [
    "#there is a significant difference between Eritrea and Uganda,\n",
    "#Ethiopia and Nigeria\n",
    "#Ethiopia and Uganda"
   ]
  },
  {
   "cell_type": "code",
   "execution_count": 144,
   "id": "5bba7b7c",
   "metadata": {},
   "outputs": [
    {
     "data": {
      "text/plain": [
       "Text(0.5, 1.0, 'Mean score performance by top country')"
      ]
     },
     "execution_count": 144,
     "metadata": {},
     "output_type": "execute_result"
    },
    {
     "data": {
      "image/png": "[encoded data removed]",
      "text/plain": [
       "<Figure size 640x480 with 1 Axes>"
      ]
     },
     "metadata": {},
     "output_type": "display_data"
    }
   ],
   "source": [
    "sns.boxplot(x=\"Country\",y=\"Percent\",data=df_top, color=\"white\")\n",
    "sns.stripplot(x=\"Country\",y=\"Percent\",data=df_top, color=\"black\")\n",
    "plt.title(\"Mean score performance by top country\")"
   ]
  },
  {
   "cell_type": "markdown",
   "id": "cd44dcb2",
   "metadata": {},
   "source": [
    "### Q6: What percentage of the participants are knowledgeable and not knowledgeable?\n"
   ]
  },
  {
   "cell_type": "code",
   "execution_count": 145,
   "id": "25abae34",
   "metadata": {},
   "outputs": [],
   "source": [
    "# we use a passmark of 80% to categorize as knowledgeable or not-knowledgeable\n",
    "def knowledge (df):\n",
    "    if df>=80:\n",
    "        return (\"Knowledgeable\")\n",
    "    else:\n",
    "        return ('Not knowledgeable')\n",
    "df[\"Knowledge\"]=df[\"Percent\"].map(knowledge)"
   ]
  },
  {
   "cell_type": "code",
   "execution_count": 146,
   "id": "8111fd8f",
   "metadata": {},
   "outputs": [
    {
     "data": {
      "image/png": "[encoded data removed]",
      "text/plain": [
       "<Figure size 640x480 with 1 Axes>"
      ]
     },
     "metadata": {},
     "output_type": "display_data"
    }
   ],
   "source": [
    "plt.pie(df[\"Knowledge\"].value_counts(),labels=[\"Not knowledgeable\",\"Knowledgeable\"],\n",
    "        autopct='%.0f%%',\n",
    "        explode=[0,0.1])\n",
    "plt.title(\"Percentage distribution of knowledgeable and non knowledgeable among the samples\")\n",
    "# displaying chart\n",
    "plt.show()"
   ]
  },
  {
   "cell_type": "markdown",
   "id": "2e86cb2d",
   "metadata": {},
   "source": [
    "### Q7: What is the distribution of the participants knowledge on some of the infectious diseases?"
   ]
  },
  {
   "cell_type": "code",
   "execution_count": 147,
   "id": "d929c7af",
   "metadata": {},
   "outputs": [
    {
     "data": {
      "text/plain": [
       "0      Ebola, SARS and MERS, Zika virus, COVID19, Avi...\n",
       "1      Ebola, Nosocomial infections, SARS and MERS, Z...\n",
       "2      Ebola, SARS and MERS, COVID19, Avian influenza...\n",
       "3           SARS and MERS, COVID19, Avian influenza H5N1\n",
       "4      Ebola, SARS and MERS, Zika virus, COVID19, Avi...\n",
       "                             ...                        \n",
       "226                                       Ebola, COVID19\n",
       "227                                       Ebola, COVID19\n",
       "228                 Ebola, COVID19, Avian influenza H5N1\n",
       "229    Ebola, SARS and MERS, Zika virus, COVID19, Avi...\n",
       "230            Ebola, SARS and MERS, Zika virus, COVID19\n",
       "Name: Q6, Length: 231, dtype: object"
      ]
     },
     "execution_count": 147,
     "metadata": {},
     "output_type": "execute_result"
    }
   ],
   "source": [
    "#we use the column 6 for this analysis\n",
    "df[\"Q6\"]"
   ]
  },
  {
   "cell_type": "code",
   "execution_count": 148,
   "id": "f03171b0",
   "metadata": {},
   "outputs": [
    {
     "data": {
      "text/html": [
       "<div>\n",
       "<style scoped>\n",
       "    .dataframe tbody tr th:only-of-type {\n",
       "        vertical-align: middle;\n",
       "    }\n",
       "\n",
       "    .dataframe tbody tr th {\n",
       "        vertical-align: top;\n",
       "    }\n",
       "\n",
       "    .dataframe thead th {\n",
       "        text-align: right;\n",
       "    }\n",
       "</style>\n",
       "<table border=\"1\" class=\"dataframe\">\n",
       "  <thead>\n",
       "    <tr style=\"text-align: right;\">\n",
       "      <th></th>\n",
       "      <th>0</th>\n",
       "      <th>1</th>\n",
       "      <th>2</th>\n",
       "      <th>3</th>\n",
       "      <th>4</th>\n",
       "      <th>5</th>\n",
       "      <th>6</th>\n",
       "    </tr>\n",
       "  </thead>\n",
       "  <tbody>\n",
       "    <tr>\n",
       "      <th>0</th>\n",
       "      <td>Ebola</td>\n",
       "      <td>SARS and MERS</td>\n",
       "      <td>Zika virus</td>\n",
       "      <td>COVID19</td>\n",
       "      <td>Avian influenza H5N1</td>\n",
       "      <td>None</td>\n",
       "      <td>None</td>\n",
       "    </tr>\n",
       "    <tr>\n",
       "      <th>1</th>\n",
       "      <td>Ebola</td>\n",
       "      <td>Nosocomial infections</td>\n",
       "      <td>SARS and MERS</td>\n",
       "      <td>Zika virus</td>\n",
       "      <td>Barking fever</td>\n",
       "      <td>COVID19</td>\n",
       "      <td>Avian influenza H5N1</td>\n",
       "    </tr>\n",
       "    <tr>\n",
       "      <th>2</th>\n",
       "      <td>Ebola</td>\n",
       "      <td>SARS and MERS</td>\n",
       "      <td>COVID19</td>\n",
       "      <td>Avian influenza H5N1</td>\n",
       "      <td>None</td>\n",
       "      <td>None</td>\n",
       "      <td>None</td>\n",
       "    </tr>\n",
       "    <tr>\n",
       "      <th>3</th>\n",
       "      <td>SARS and MERS</td>\n",
       "      <td>COVID19</td>\n",
       "      <td>Avian influenza H5N1</td>\n",
       "      <td>None</td>\n",
       "      <td>None</td>\n",
       "      <td>None</td>\n",
       "      <td>None</td>\n",
       "    </tr>\n",
       "    <tr>\n",
       "      <th>4</th>\n",
       "      <td>Ebola</td>\n",
       "      <td>SARS and MERS</td>\n",
       "      <td>Zika virus</td>\n",
       "      <td>COVID19</td>\n",
       "      <td>Avian influenza H5N1</td>\n",
       "      <td>None</td>\n",
       "      <td>None</td>\n",
       "    </tr>\n",
       "    <tr>\n",
       "      <th>...</th>\n",
       "      <td>...</td>\n",
       "      <td>...</td>\n",
       "      <td>...</td>\n",
       "      <td>...</td>\n",
       "      <td>...</td>\n",
       "      <td>...</td>\n",
       "      <td>...</td>\n",
       "    </tr>\n",
       "    <tr>\n",
       "      <th>226</th>\n",
       "      <td>Ebola</td>\n",
       "      <td>COVID19</td>\n",
       "      <td>None</td>\n",
       "      <td>None</td>\n",
       "      <td>None</td>\n",
       "      <td>None</td>\n",
       "      <td>None</td>\n",
       "    </tr>\n",
       "    <tr>\n",
       "      <th>227</th>\n",
       "      <td>Ebola</td>\n",
       "      <td>COVID19</td>\n",
       "      <td>None</td>\n",
       "      <td>None</td>\n",
       "      <td>None</td>\n",
       "      <td>None</td>\n",
       "      <td>None</td>\n",
       "    </tr>\n",
       "    <tr>\n",
       "      <th>228</th>\n",
       "      <td>Ebola</td>\n",
       "      <td>COVID19</td>\n",
       "      <td>Avian influenza H5N1</td>\n",
       "      <td>None</td>\n",
       "      <td>None</td>\n",
       "      <td>None</td>\n",
       "      <td>None</td>\n",
       "    </tr>\n",
       "    <tr>\n",
       "      <th>229</th>\n",
       "      <td>Ebola</td>\n",
       "      <td>SARS and MERS</td>\n",
       "      <td>Zika virus</td>\n",
       "      <td>COVID19</td>\n",
       "      <td>Avian influenza H5N1</td>\n",
       "      <td>None</td>\n",
       "      <td>None</td>\n",
       "    </tr>\n",
       "    <tr>\n",
       "      <th>230</th>\n",
       "      <td>Ebola</td>\n",
       "      <td>SARS and MERS</td>\n",
       "      <td>Zika virus</td>\n",
       "      <td>COVID19</td>\n",
       "      <td>None</td>\n",
       "      <td>None</td>\n",
       "      <td>None</td>\n",
       "    </tr>\n",
       "  </tbody>\n",
       "</table>\n",
       "<p>231 rows × 7 columns</p>\n",
       "</div>"
      ],
      "text/plain": [
       "                 0                      1                     2  \\\n",
       "0            Ebola          SARS and MERS            Zika virus   \n",
       "1            Ebola  Nosocomial infections         SARS and MERS   \n",
       "2            Ebola          SARS and MERS               COVID19   \n",
       "3    SARS and MERS                COVID19  Avian influenza H5N1   \n",
       "4            Ebola          SARS and MERS            Zika virus   \n",
       "..             ...                    ...                   ...   \n",
       "226          Ebola                COVID19                  None   \n",
       "227          Ebola                COVID19                  None   \n",
       "228          Ebola                COVID19  Avian influenza H5N1   \n",
       "229          Ebola          SARS and MERS            Zika virus   \n",
       "230          Ebola          SARS and MERS            Zika virus   \n",
       "\n",
       "                        3                     4        5                     6  \n",
       "0                 COVID19  Avian influenza H5N1     None                  None  \n",
       "1              Zika virus         Barking fever  COVID19  Avian influenza H5N1  \n",
       "2    Avian influenza H5N1                  None     None                  None  \n",
       "3                    None                  None     None                  None  \n",
       "4                 COVID19  Avian influenza H5N1     None                  None  \n",
       "..                    ...                   ...      ...                   ...  \n",
       "226                  None                  None     None                  None  \n",
       "227                  None                  None     None                  None  \n",
       "228                  None                  None     None                  None  \n",
       "229               COVID19  Avian influenza H5N1     None                  None  \n",
       "230               COVID19                  None     None                  None  \n",
       "\n",
       "[231 rows x 7 columns]"
      ]
     },
     "execution_count": 148,
     "metadata": {},
     "output_type": "execute_result"
    }
   ],
   "source": [
    "diseases=df[\"Q6\"].str.split(\", \",expand=True)\n",
    "#this returns a dataframe with all the words split separately\n",
    "diseases"
   ]
  },
  {
   "cell_type": "code",
   "execution_count": 149,
   "id": "8bd6039f",
   "metadata": {},
   "outputs": [
    {
     "data": {
      "text/html": [
       "<div>\n",
       "<style scoped>\n",
       "    .dataframe tbody tr th:only-of-type {\n",
       "        vertical-align: middle;\n",
       "    }\n",
       "\n",
       "    .dataframe tbody tr th {\n",
       "        vertical-align: top;\n",
       "    }\n",
       "\n",
       "    .dataframe thead th {\n",
       "        text-align: right;\n",
       "    }\n",
       "</style>\n",
       "<table border=\"1\" class=\"dataframe\">\n",
       "  <thead>\n",
       "    <tr style=\"text-align: right;\">\n",
       "      <th></th>\n",
       "      <th>variable</th>\n",
       "      <th>value</th>\n",
       "    </tr>\n",
       "  </thead>\n",
       "  <tbody>\n",
       "    <tr>\n",
       "      <th>0</th>\n",
       "      <td>0</td>\n",
       "      <td>Ebola</td>\n",
       "    </tr>\n",
       "    <tr>\n",
       "      <th>1</th>\n",
       "      <td>0</td>\n",
       "      <td>Ebola</td>\n",
       "    </tr>\n",
       "    <tr>\n",
       "      <th>2</th>\n",
       "      <td>0</td>\n",
       "      <td>Ebola</td>\n",
       "    </tr>\n",
       "    <tr>\n",
       "      <th>3</th>\n",
       "      <td>0</td>\n",
       "      <td>SARS and MERS</td>\n",
       "    </tr>\n",
       "    <tr>\n",
       "      <th>4</th>\n",
       "      <td>0</td>\n",
       "      <td>Ebola</td>\n",
       "    </tr>\n",
       "    <tr>\n",
       "      <th>...</th>\n",
       "      <td>...</td>\n",
       "      <td>...</td>\n",
       "    </tr>\n",
       "    <tr>\n",
       "      <th>1612</th>\n",
       "      <td>6</td>\n",
       "      <td>None</td>\n",
       "    </tr>\n",
       "    <tr>\n",
       "      <th>1613</th>\n",
       "      <td>6</td>\n",
       "      <td>None</td>\n",
       "    </tr>\n",
       "    <tr>\n",
       "      <th>1614</th>\n",
       "      <td>6</td>\n",
       "      <td>None</td>\n",
       "    </tr>\n",
       "    <tr>\n",
       "      <th>1615</th>\n",
       "      <td>6</td>\n",
       "      <td>None</td>\n",
       "    </tr>\n",
       "    <tr>\n",
       "      <th>1616</th>\n",
       "      <td>6</td>\n",
       "      <td>None</td>\n",
       "    </tr>\n",
       "  </tbody>\n",
       "</table>\n",
       "<p>1617 rows × 2 columns</p>\n",
       "</div>"
      ],
      "text/plain": [
       "      variable          value\n",
       "0            0          Ebola\n",
       "1            0          Ebola\n",
       "2            0          Ebola\n",
       "3            0  SARS and MERS\n",
       "4            0          Ebola\n",
       "...        ...            ...\n",
       "1612         6           None\n",
       "1613         6           None\n",
       "1614         6           None\n",
       "1615         6           None\n",
       "1616         6           None\n",
       "\n",
       "[1617 rows x 2 columns]"
      ]
     },
     "execution_count": 149,
     "metadata": {},
     "output_type": "execute_result"
    }
   ],
   "source": [
    "#merge them into one dataframe\n",
    "diseases=pd.melt(diseases)\n",
    "diseases"
   ]
  },
  {
   "cell_type": "code",
   "execution_count": 150,
   "id": "da4d0928",
   "metadata": {},
   "outputs": [
    {
     "data": {
      "text/html": [
       "<div>\n",
       "<style scoped>\n",
       "    .dataframe tbody tr th:only-of-type {\n",
       "        vertical-align: middle;\n",
       "    }\n",
       "\n",
       "    .dataframe tbody tr th {\n",
       "        vertical-align: top;\n",
       "    }\n",
       "\n",
       "    .dataframe thead th {\n",
       "        text-align: right;\n",
       "    }\n",
       "</style>\n",
       "<table border=\"1\" class=\"dataframe\">\n",
       "  <thead>\n",
       "    <tr style=\"text-align: right;\">\n",
       "      <th></th>\n",
       "      <th>value</th>\n",
       "    </tr>\n",
       "  </thead>\n",
       "  <tbody>\n",
       "    <tr>\n",
       "      <th>COVID19</th>\n",
       "      <td>227</td>\n",
       "    </tr>\n",
       "    <tr>\n",
       "      <th>Ebola</th>\n",
       "      <td>222</td>\n",
       "    </tr>\n",
       "    <tr>\n",
       "      <th>Avian influenza H5N1</th>\n",
       "      <td>144</td>\n",
       "    </tr>\n",
       "    <tr>\n",
       "      <th>SARS and MERS</th>\n",
       "      <td>141</td>\n",
       "    </tr>\n",
       "    <tr>\n",
       "      <th>Zika virus</th>\n",
       "      <td>134</td>\n",
       "    </tr>\n",
       "    <tr>\n",
       "      <th>Nosocomial infections</th>\n",
       "      <td>29</td>\n",
       "    </tr>\n",
       "    <tr>\n",
       "      <th>Barking fever</th>\n",
       "      <td>19</td>\n",
       "    </tr>\n",
       "  </tbody>\n",
       "</table>\n",
       "</div>"
      ],
      "text/plain": [
       "                       value\n",
       "COVID19                  227\n",
       "Ebola                    222\n",
       "Avian influenza H5N1     144\n",
       "SARS and MERS            141\n",
       "Zika virus               134\n",
       "Nosocomial infections     29\n",
       "Barking fever             19"
      ]
     },
     "execution_count": 150,
     "metadata": {},
     "output_type": "execute_result"
    }
   ],
   "source": [
    "#we are interested in \"value\"\n",
    "df_new=diseases[\"value\"].value_counts().to_frame()\n",
    "df_new"
   ]
  },
  {
   "cell_type": "code",
   "execution_count": 151,
   "id": "94a68a65",
   "metadata": {},
   "outputs": [],
   "source": [
    "#dropping barking fever because it was an error in the question\n",
    "df_new.drop(\"Barking fever\",inplace=True)"
   ]
  },
  {
   "cell_type": "code",
   "execution_count": 152,
   "id": "a594c855",
   "metadata": {},
   "outputs": [
    {
     "data": {
      "image/png": "[encoded data removed]",
      "text/plain": [
       "<Figure size 640x480 with 1 Axes>"
      ]
     },
     "metadata": {},
     "output_type": "display_data"
    }
   ],
   "source": [
    "#we make the plot\n",
    "a=df_new.index\n",
    "b=(df_new[\"value\"]/232)*100\n",
    "plt.barh(a,b)\n",
    "plt.title(\"Percentage of Participants on Knowledge of Diseases\")\n",
    "plt.show()"
   ]
  },
  {
   "cell_type": "code",
   "execution_count": 153,
   "id": "02974c47",
   "metadata": {},
   "outputs": [],
   "source": [
    "#almost 100% of the participants know about COVID19 and few knew about Nosocomial infections"
   ]
  },
  {
   "cell_type": "markdown",
   "id": "78b5b6f8",
   "metadata": {},
   "source": [
    "### Q8: Which information source did the participants get information about the effect of climate change on zoonosis?"
   ]
  },
  {
   "cell_type": "code",
   "execution_count": 154,
   "id": "50b502e8",
   "metadata": {},
   "outputs": [
    {
     "data": {
      "text/html": [
       "<div>\n",
       "<style scoped>\n",
       "    .dataframe tbody tr th:only-of-type {\n",
       "        vertical-align: middle;\n",
       "    }\n",
       "\n",
       "    .dataframe tbody tr th {\n",
       "        vertical-align: top;\n",
       "    }\n",
       "\n",
       "    .dataframe thead th {\n",
       "        text-align: right;\n",
       "    }\n",
       "</style>\n",
       "<table border=\"1\" class=\"dataframe\">\n",
       "  <thead>\n",
       "    <tr style=\"text-align: right;\">\n",
       "      <th></th>\n",
       "      <th>0</th>\n",
       "      <th>1</th>\n",
       "      <th>2</th>\n",
       "      <th>3</th>\n",
       "      <th>4</th>\n",
       "      <th>5</th>\n",
       "      <th>6</th>\n",
       "    </tr>\n",
       "  </thead>\n",
       "  <tbody>\n",
       "    <tr>\n",
       "      <th>0</th>\n",
       "      <td>Internet and social media</td>\n",
       "      <td>Television programs and documentaries</td>\n",
       "      <td>Books and newspapers</td>\n",
       "      <td>Radio</td>\n",
       "      <td>Educational programs and conferences</td>\n",
       "      <td>None</td>\n",
       "      <td>None</td>\n",
       "    </tr>\n",
       "    <tr>\n",
       "      <th>1</th>\n",
       "      <td>Internet and social media</td>\n",
       "      <td>Books and newspapers</td>\n",
       "      <td>Family and friends</td>\n",
       "      <td>Educational programs and conferences</td>\n",
       "      <td>None</td>\n",
       "      <td>None</td>\n",
       "      <td>None</td>\n",
       "    </tr>\n",
       "    <tr>\n",
       "      <th>2</th>\n",
       "      <td>Internet and social media</td>\n",
       "      <td>Television programs and documentaries</td>\n",
       "      <td>Books and newspapers</td>\n",
       "      <td>Educational programs and conferences</td>\n",
       "      <td>None</td>\n",
       "      <td>None</td>\n",
       "      <td>None</td>\n",
       "    </tr>\n",
       "    <tr>\n",
       "      <th>3</th>\n",
       "      <td>Internet and social media</td>\n",
       "      <td>Educational programs and conferences</td>\n",
       "      <td>None</td>\n",
       "      <td>None</td>\n",
       "      <td>None</td>\n",
       "      <td>None</td>\n",
       "      <td>None</td>\n",
       "    </tr>\n",
       "    <tr>\n",
       "      <th>4</th>\n",
       "      <td>Internet and social media</td>\n",
       "      <td>Television programs and documentaries</td>\n",
       "      <td>Books and newspapers</td>\n",
       "      <td>Educational programs and conferences</td>\n",
       "      <td>None</td>\n",
       "      <td>None</td>\n",
       "      <td>None</td>\n",
       "    </tr>\n",
       "  </tbody>\n",
       "</table>\n",
       "</div>"
      ],
      "text/plain": [
       "                           0                                      1  \\\n",
       "0  Internet and social media  Television programs and documentaries   \n",
       "1  Internet and social media                   Books and newspapers   \n",
       "2  Internet and social media  Television programs and documentaries   \n",
       "3  Internet and social media   Educational programs and conferences   \n",
       "4  Internet and social media  Television programs and documentaries   \n",
       "\n",
       "                      2                                     3  \\\n",
       "0  Books and newspapers                                 Radio   \n",
       "1    Family and friends  Educational programs and conferences   \n",
       "2  Books and newspapers  Educational programs and conferences   \n",
       "3                  None                                  None   \n",
       "4  Books and newspapers  Educational programs and conferences   \n",
       "\n",
       "                                      4     5     6  \n",
       "0  Educational programs and conferences  None  None  \n",
       "1                                  None  None  None  \n",
       "2                                  None  None  None  \n",
       "3                                  None  None  None  \n",
       "4                                  None  None  None  "
      ]
     },
     "execution_count": 154,
     "metadata": {},
     "output_type": "execute_result"
    }
   ],
   "source": [
    "df_info=df[\"Q18\"].str.split(', ',expand=True)\n",
    "df_info.head()"
   ]
  },
  {
   "cell_type": "code",
   "execution_count": 155,
   "id": "f3c2f340",
   "metadata": {},
   "outputs": [],
   "source": [
    "df_info=pd.melt(df_info)"
   ]
  },
  {
   "cell_type": "code",
   "execution_count": 156,
   "id": "110a23c7",
   "metadata": {},
   "outputs": [
    {
     "data": {
      "text/plain": [
       "Internet and social media                214\n",
       "Television programs and documentaries    163\n",
       "Educational programs and conferences     153\n",
       "Books and newspapers                     119\n",
       "Radio                                     84\n",
       "Family and friends                        73\n",
       "Others                                     7\n",
       "I don't care about climate change          2\n",
       "Name: value, dtype: int64"
      ]
     },
     "execution_count": 156,
     "metadata": {},
     "output_type": "execute_result"
    }
   ],
   "source": [
    "df_info=df_info[\"value\"].value_counts()\n",
    "df_info"
   ]
  },
  {
   "cell_type": "code",
   "execution_count": 157,
   "id": "83c08d8b",
   "metadata": {},
   "outputs": [],
   "source": [
    "df_1=df_info.to_frame()"
   ]
  },
  {
   "cell_type": "code",
   "execution_count": 158,
   "id": "7175f7ff",
   "metadata": {},
   "outputs": [
    {
     "data": {
      "text/plain": [
       "Text(0.5, 1.0, 'Percentage of Participants on Source of Information')"
      ]
     },
     "execution_count": 158,
     "metadata": {},
     "output_type": "execute_result"
    },
    {
     "data": {
      "image/png": "[encoded data removed]",
      "text/plain": [
       "<Figure size 640x480 with 1 Axes>"
      ]
     },
     "metadata": {},
     "output_type": "display_data"
    }
   ],
   "source": [
    "x=df_1.index\n",
    "y=(df_1[\"value\"]/232)*100\n",
    "\n",
    "plt.barh(x,y)\n",
    "plt.title(\"Percentage of Participants on Source of Information\")"
   ]
  },
  {
   "cell_type": "markdown",
   "id": "9ab5e9a8",
   "metadata": {},
   "source": [
    "### CONCLUSION"
   ]
  },
  {
   "cell_type": "markdown",
   "id": "c16ca48a",
   "metadata": {},
   "source": [
    "* Participants from non-life science backgrounds have a lower level of knowledge on the impact of climate change on the emergence of infectious diseases than participants from life science backgrounds.\n",
    "\n",
    "* No significant difference in knowledge among educational levels\n",
    "\n",
    "* Significant difference between most represented countries\n",
    "Possible causes: sociodemographic background, EID hotspots\n",
    "\n",
    "\n",
    "* General public not fully aware of effect of climate change on emergence of infectious diseases"
   ]
  },
  {
   "cell_type": "markdown",
   "id": "7e992dbd-5c4c-40b7-ab13-0c9577a98aad",
   "metadata": {},
   "source": [
    "The "
   ]
  }
 ],
 "metadata": {
  "kernelspec": {
   "display_name": "Python 3 (ipykernel)",
   "language": "python",
   "name": "python3"
  },
  "language_info": {
   "codemirror_mode": {
    "name": "ipython",
    "version": 3
   },
   "file_extension": ".py",
   "mimetype": "text/x-python",
   "name": "python",
   "nbconvert_exporter": "python",
   "pygments_lexer": "ipython3",
   "version": "3.10.12"
  }
 },
 "nbformat": 4,
 "nbformat_minor": 5
}
